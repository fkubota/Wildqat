{
 "cells": [
  {
   "cell_type": "markdown",
   "metadata": {
    "colab_type": "text",
    "id": "S0D6seG9-ZGj"
   },
   "source": [
    "# QUBOにおける計算の基礎"
   ]
  },
  {
   "cell_type": "markdown",
   "metadata": {
    "colab_type": "text",
    "id": "egLv1R7M-jZ8"
   },
   "source": [
    "ここでは、基本的な最適化問題の作り方をQUBOマトリックスをメインに解説をします。\n"
   ]
  },
  {
   "cell_type": "markdown",
   "metadata": {
    "colab_type": "text",
    "id": "wyozSDvU-xpy"
   },
   "source": [
    "SDKであるWildqatを呼び出し、インスタンスを作成します。"
   ]
  },
  {
   "cell_type": "code",
   "execution_count": 1,
   "metadata": {},
   "outputs": [
    {
     "name": "stdout",
     "output_type": "stream",
     "text": [
      "Collecting wildqat\n",
      "  Downloading https://files.pythonhosted.org/packages/18/20/babcd0cabd564903f7dc5430a022bd5cf6cc9f440bdbb268318b9f261908/wildqat-1.1.9.tar.gz\n",
      "Collecting numpy==1.15.1 (from wildqat)\n",
      "  Downloading https://files.pythonhosted.org/packages/0a/fa/afc1dc818589c9fd36a53f78999f2b5bd88bd5b167eb7d87fb56b565c185/numpy-1.15.1-cp35-cp35m-manylinux1_x86_64.whl (13.8MB)\n",
      "\u001b[K    100% |################################| 13.8MB 144kB/s \n",
      "\u001b[?25hRequirement already satisfied (use --upgrade to upgrade): matplotlib==3.0.0 in /usr/local/lib/python3.5/dist-packages (from wildqat)\n",
      "Collecting networkx==2.2 (from wildqat)\n",
      "  Downloading https://files.pythonhosted.org/packages/f3/f4/7e20ef40b118478191cec0b58c3192f822cace858c19505c7670961b76b2/networkx-2.2.zip (1.7MB)\n",
      "\u001b[K    100% |################################| 1.7MB 647kB/s \n",
      "\u001b[?25hRequirement already satisfied (use --upgrade to upgrade): python-dateutil>=2.1 in /usr/local/lib/python3.5/dist-packages (from matplotlib==3.0.0->wildqat)\n",
      "Requirement already satisfied (use --upgrade to upgrade): kiwisolver>=1.0.1 in /usr/local/lib/python3.5/dist-packages (from matplotlib==3.0.0->wildqat)\n",
      "Requirement already satisfied (use --upgrade to upgrade): cycler>=0.10 in /usr/local/lib/python3.5/dist-packages (from matplotlib==3.0.0->wildqat)\n",
      "Requirement already satisfied (use --upgrade to upgrade): pyparsing!=2.0.4,!=2.1.2,!=2.1.6,>=2.0.1 in /usr/local/lib/python3.5/dist-packages (from matplotlib==3.0.0->wildqat)\n",
      "Requirement already satisfied (use --upgrade to upgrade): decorator>=4.3.0 in /usr/local/lib/python3.5/dist-packages (from networkx==2.2->wildqat)\n",
      "Requirement already satisfied (use --upgrade to upgrade): six>=1.5 in /usr/local/lib/python3.5/dist-packages (from python-dateutil>=2.1->matplotlib==3.0.0->wildqat)\n",
      "Requirement already satisfied (use --upgrade to upgrade): setuptools in /usr/lib/python3/dist-packages (from kiwisolver>=1.0.1->matplotlib==3.0.0->wildqat)\n",
      "Building wheels for collected packages: wildqat, networkx\n",
      "  Running setup.py bdist_wheel for wildqat ... \u001b[?25ldone\n",
      "\u001b[?25h  Stored in directory: /root/.cache/pip/wheels/bc/b5/17/e68df34616a7719b1aa093d9aacdf006fe5a1640811e0ae942\n",
      "  Running setup.py bdist_wheel for networkx ... \u001b[?25ldone\n",
      "\u001b[?25h  Stored in directory: /root/.cache/pip/wheels/68/f8/29/b53346a112a07d30a5a84d53f19aeadaa1a474897c0423af91\n",
      "Successfully built wildqat networkx\n",
      "Installing collected packages: numpy, networkx, wildqat\n",
      "  Found existing installation: numpy 1.15.2\n",
      "    Uninstalling numpy-1.15.2:\n",
      "      Successfully uninstalled numpy-1.15.2\n",
      "Successfully installed networkx-2.2 numpy-1.15.1 wildqat-1.1.9\n",
      "\u001b[33mYou are using pip version 8.1.1, however version 19.0.3 is available.\n",
      "You should consider upgrading via the 'pip install --upgrade pip' command.\u001b[0m\n"
     ]
    }
   ],
   "source": [
    "!pip3 install wildqat"
   ]
  },
  {
   "cell_type": "code",
   "execution_count": 2,
   "metadata": {
    "colab": {},
    "colab_type": "code",
    "id": "j2QaAh-g9X0s"
   },
   "outputs": [],
   "source": [
    "import wildqat as wq\n",
    "a = wq.opt()"
   ]
  },
  {
   "cell_type": "markdown",
   "metadata": {
    "colab_type": "text",
    "id": "c7n1M9bA_KqW"
   },
   "source": [
    "次は問題を作成します。問題は通常QUBOという方法で記述されます。では、まずQUBOマトリックスを作ります。ここでは、例題を取り上げ、下記のような行列を考えて入力してみます。"
   ]
  },
  {
   "cell_type": "code",
   "execution_count": null,
   "metadata": {
    "colab": {},
    "colab_type": "code",
    "id": "HfVSNvIv9gGV"
   },
   "outputs": [],
   "source": [
    "a.qubo = [[4,-4,-4],[0,4,-4],[0,0,4]]\n"
   ]
  },
  {
   "cell_type": "markdown",
   "metadata": {
    "colab_type": "text",
    "id": "_yecEiB8CULm"
   },
   "source": [
    "これを使って計算します。今回はSA（シミュレーテッドアニーリング）アルゴリズムを使ってみますと、"
   ]
  },
  {
   "cell_type": "code",
   "execution_count": 16,
   "metadata": {
    "colab": {
     "base_uri": "https://localhost:8080/",
     "height": 51
    },
    "colab_type": "code",
    "id": "Qlq6q_LLCRpc",
    "outputId": "73f1dbe1-18ca-4540-9689-befda5a533d8"
   },
   "outputs": [
    {
     "name": "stdout",
     "output_type": "stream",
     "text": [
      "1.412949800491333\n"
     ]
    },
    {
     "data": {
      "text/plain": [
       "array([1, 1, 1])"
      ]
     },
     "execution_count": 16,
     "metadata": {
      "tags": []
     },
     "output_type": "execute_result"
    }
   ],
   "source": [
    "a.sa()"
   ]
  },
  {
   "cell_type": "markdown",
   "metadata": {
    "colab_type": "text",
    "id": "53g1MTyMCdC4"
   },
   "source": [
    "このように、問題が解けました。上の数字は参考の実行時間です。答えはすべて1となりました。これで、問題は解き終わり、解がとりだせました。解は常に+1か0を選びます。今回使用されたQUBOは自動的にイジングマトリックスというものに内部で変換されていますが、一応中身を確認することはできます。"
   ]
  },
  {
   "cell_type": "code",
   "execution_count": 17,
   "metadata": {
    "colab": {
     "base_uri": "https://localhost:8080/",
     "height": 34
    },
    "colab_type": "code",
    "id": "8-zv7jhnVW0b",
    "outputId": "a86ff6a9-a203-4aca-8f82-7520d6943e28"
   },
   "outputs": [
    {
     "name": "stdout",
     "output_type": "stream",
     "text": [
      "[[0, -1, -1], [0, 0, -1], [0, 0, 0]]\n"
     ]
    }
   ],
   "source": [
    "print(a.J)"
   ]
  }
 ],
 "metadata": {
  "colab": {
   "name": "tutorial1_qubo.ipynb",
   "provenance": [],
   "version": "0.3.2"
  },
  "kernelspec": {
   "display_name": "Python 3",
   "language": "python",
   "name": "python3"
  },
  "language_info": {
   "codemirror_mode": {
    "name": "ipython",
    "version": 3
   },
   "file_extension": ".py",
   "mimetype": "text/x-python",
   "name": "python",
   "nbconvert_exporter": "python",
   "pygments_lexer": "ipython3",
   "version": "3.5.2"
  }
 },
 "nbformat": 4,
 "nbformat_minor": 2
}
