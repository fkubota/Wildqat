{
  "nbformat": 4,
  "nbformat_minor": 0,
  "metadata": {
    "colab": {
      "name": "tutorial017_traffic_flow_optimization.ipynb",
      "version": "0.3.2",
      "provenance": []
    },
    "kernelspec": {
      "name": "python3",
      "display_name": "Python 3"
    }
  },
  "cells": [
    {
      "metadata": {
        "id": "obQW5jfvvg7x",
        "colab_type": "text"
      },
      "cell_type": "markdown",
      "source": [
        "#交通流最適化問題\n",
        "QUBOをつかった組合せ最適化問題で社会問題を解く試みも広く進んでいます。ここでは、道路の混雑状況を組合せ最適化問題を利用して解消する計算について見ていきたいと思います。\n"
      ]
    },
    {
      "metadata": {
        "id": "_EDJAEs4zaMM",
        "colab_type": "text"
      },
      "cell_type": "markdown",
      "source": [
        "##参考資料\n",
        "今回は独VW社のpaperを参考にします。\n",
        "\n",
        "「Quantum Computing at Volkswagen:  \n",
        "Traffic Flow Optimization using the D-Wave Quantum Annealer」  \n",
        "引用：https://www.dwavesys.com/sites/default/files/VW.pdf\n",
        "\n",
        "\n",
        "\n",
        "参考仕様による、解法は下記の通りです。  \n",
        "既存計算機を「古典計算機」と表現しています。  \n",
        "\n",
        "Classical: Pre-process map and GPS data.  \n",
        "（古典計算機）地図とGPSデータからデータの準備をする。  \n",
        "\n",
        "Classical: Identify areas where traffic congestion occurs.  \n",
        "（古典計算機）次に混雑が起こっている場所を特定する。  \n",
        "\n",
        "\n",
        "Classical: Determine spatially and temporally valid alternative routes for each car in the dataset, if possible.  \n",
        "（古典計算機）データセット内の自動車に対して代替ルートを提案する  \n",
        "\n",
        "\n",
        "Classical: Formulate the minimization problem as a QUBO (to minimize congestion in road segments on overlapping routes).  \n",
        "（古典計算機）混雑が緩和するような組合せ最適化問題に落とし込む。その際のQUBOと呼ばれる形式を採用する。  \n",
        "\n",
        "\n",
        "Hybrid Quantum/Classical: Find a solution that reduces congestion among route assignments　in the whole traffic graph.  \n",
        "（古典計算機・量子コンピュータハイブリッド）問題を古典計算機による分割と量子コンピュータによる最適化を繰り返す。  \n",
        "\n",
        "\n",
        "Classical: Redistribute the cars based on the results.  \n",
        "（古典計算機）上記の得られた答えから自動車の位置を再配置する。  \n",
        "\n",
        "\n",
        "Iterate over steps 2 to 6 until no traffic congestion is identified.  \n",
        "上記のステップを混雑が緩和されるまで繰り返し計算する。  \n",
        "\n",
        "\n",
        "引用：https://arxiv.org/pdf/1708.01625.pdf\n",
        "\n",
        "\n",
        "基本的にはQUBO計算だけでなく、たくさんの前処理が出ます。\n"
      ]
    },
    {
      "metadata": {
        "id": "Fdh7XfRtz17m",
        "colab_type": "text"
      },
      "cell_type": "markdown",
      "source": [
        "##例題\n",
        "簡単な例題を解いて見たいと思います。\n",
        "\n",
        "9ノード12エッジの道路を考えます。模擬的に羽田空港から国立競技場までのルートを考えてみます。\n",
        "\n",
        "<img src=\"./img/017_1.png\">"
      ]
    },
    {
      "metadata": {
        "id": "HiIyeP88LLRt",
        "colab_type": "text"
      },
      "cell_type": "markdown",
      "source": [
        "##自動車の配置を考える\n",
        "想定するモデルができたらまず自動車を配置します。\n",
        "\n",
        "自動車は4台程度にして見ます。\n",
        "配置はいい感じに入れて見ます。セグメント道路に入れて見て、実際の後ほど行う代替ルート提案は近隣の交差点からやります。せっかくなので、２台はスタート地点から、のこり２台はそれぞれの途中地点に入れて見ます。\n",
        "\n",
        "こんな感じです。\n",
        "\n",
        "<img src=\"./img/017_2.png\">\n",
        "\n",
        "\n"
      ]
    },
    {
      "metadata": {
        "id": "JHpcOxEKLhDv",
        "colab_type": "text"
      },
      "cell_type": "markdown",
      "source": [
        "##各自動車に対して目的地までのルート提案３ルートずつをつくる\n",
        "各自動車に対して取りうるルートを３つずつ提案し、そのうちの１つを採用していることにします。\n",
        "自動車#1と自動車#2はスタート地点からで同じルートを選んでいることにします。\n",
        "自動車#3と自動車#4についても提案ルートを作ります。\n",
        "\n",
        "これらの関係性をエクセルで作って見ました。\n",
        "\n",
        "<img src=\"./img/017_3.png\">\n",
        "\n",
        "図で表すとこのような感じです。\n",
        "\n",
        "<img src=\"./img/017_4.png\">"
      ]
    },
    {
      "metadata": {
        "id": "uyAnT5dwL4V-",
        "colab_type": "text"
      },
      "cell_type": "markdown",
      "source": [
        "##道路混雑を計算する\n",
        "道路混雑状況はこの自動車の配置から割り出します。先ほどの経路提案からその中に含まれるセグメントの道路の数を全て道路ごとにカウントします。その際に出てきた道路を経路提案の表記で表します（Q11とか）。こちらもとりあえずエクセルでやって見ました。\n",
        "\n",
        "混雑状況は提案ルート内に道路が含まれているかによって決まり、カウントしたコストの２乗を盛り込みます。\n",
        "\n",
        "<img src=\"./img/017_5.png\">\n",
        "\n",
        "トータルの混雑状況はコスト29と出ています。このコストを量子コンピュータによって下げて混雑解消します。"
      ]
    },
    {
      "metadata": {
        "id": "MG8pPDUTMWn3",
        "colab_type": "text"
      },
      "cell_type": "markdown",
      "source": [
        "##混雑計算の一般式をQUBOでつくる\n",
        "QUBOとはバイナリの値{0,1}をつかって、コスト関数と呼ばれる数式を作ります。今回コスト関数を作る上で必要になるのは、\n",
        "\n",
        "１、混雑量を計算するコスト関数\n",
        "２、自動車１台について代替ルート提案を１ルートだけ選ぶ制約条件\n",
        "\n",
        "の２つになります。まず前者からやってみます。交通混雑のコストは前述の各セグメントの混雑を全て足し合わせたものです。一般的な表記を残したまま、全てを足して見ます。\n",
        "\n",
        "<img src=\"https://render.githubusercontent.com/render/math?math=E%20%3D%20(Q_%7B11%7D%2BQ_%7B12%7D%2BQ_%7B21%7D%2BQ_%7B22%7D)%5E2%20%2B%20(Q_%7B12%7D%2BQ_%7B22%7D%2BQ_%7B43%7D)%5E2%20%2B%20(Q_%7B13%7D%2BQ_%7B23%7D)%5E2%20%2B%20(Q_%7B11%7D%2BQ_%7B21%7D%2BQ_%7B43%7D)%5E2%0D%0A%2B%20(Q_%7B12%7D%2BQ_%7B22%7D%2BQ_%7B43%7D)%5E2%20%2B%20(Q_%7B13%7D%2BQ_%7B23%7D%2BQ_%7B32%7D%2BQ_%7B33%7D)%5E2%20%2B%20(Q_%7B11%7D%2BQ_%7B21%7D%2BQ_%7B33%7D%2BQ_%7B41%7D)%5E2%20%2B%20Q_%7B31%7D%5E2%0D%0A%2B%20(Q_%7B13%7D%2BQ_%7B23%7D%2BQ_%7B32%7D%2BQ_%7B42%7D)%5E2%20%2B%20(Q_%7B11%7D%2BQ_%7B12%7D%2BQ_%7B21%7D%2BQ_%7B22%7D%2BQ_%7B33%7D%2BQ_%7B41%7D%2BQ_%7B43%7D)%5E2%20%2B%20Q_%7B31%7D%5E2%0D%0A%2B%20(Q_%7B13%7D%2BQ_%7B23%7D%2BQ_%7B31%7D%2BQ_%7B32%7D%2BQ_%7B42%7D)%5E2\">\n",
        "\n",
        "つぎにこれをすべて展開します。展開した式は、\n",
        "\n",
        "<img src=\"https://render.githubusercontent.com/render/math?math=E%20%3D%204Q_%7B11%7D%5E2%20%2B%204Q_%7B11%7DQ_%7B12%7D%20%2B%208Q_%7B11%7DQ_%7B21%7D%20%2B%204Q_%7B11%7DQ_%7B22%7D%20%2B%204Q_%7B11%7DQ_%7B33%7D%20%2B%204Q_%7B11%7DQ_%7B41%7D%20%2B%204Q_%7B11%7DQ_%7B43%7D%20%2B%204Q_%7B12%7D%5E2%20%2B%204Q_%7B12%7DQ_%7B21%7D%20%2B%208Q_%7B12%7DQ_%7B22%7D%20%2B%202Q_%7B12%7DQ_%7B33%7D%20%2B%202Q_%7B12%7DQ_%7B41%7D%20%2B%206Q_%7B12%7DQ_%7B43%7D%20%2B%204Q_%7B13%7D%5E2%20%2B%208Q_%7B13%7DQ_%7B23%7D%20%2B%202Q_%7B13%7DQ_%7B31%7D%20%2B%206Q_%7B13%7DQ_%7B32%7D%20%2B%202Q_%7B13%7DQ_%7B33%7D%20%2B%204Q_%7B13%7DQ_%7B42%7D%20%2B%204Q_%7B21%7D%5E2%20%2B%204Q_%7B21%7DQ_%7B22%7D%20%2B%204Q_%7B21%7DQ_%7B33%7D%20%2B%204Q_%7B21%7DQ_%7B41%7D%20%2B%204Q_%7B21%7DQ_%7B43%7D%20%2B%204Q_%7B22%7D%5E2%20%2B%202Q_%7B22%7DQ_%7B33%7D%20%2B%202Q_%7B22%7DQ_%7B41%7D%20%2B%206Q_%7B22%7DQ_%7B43%7D%20%2B%204Q_%7B23%7D%5E2%20%2B%202Q_%7B23%7DQ_%7B31%7D%20%2B%206Q_%7B23%7DQ_%7B32%7D%20%2B%202Q_%7B23%7DQ_%7B33%7D%20%2B%204Q_%7B23%7DQ_%7B42%7D%20%2B%203Q_%7B31%7D%5E2%20%2B%202Q_%7B31%7DQ_%7B32%7D%20%2B%202Q_%7B31%7DQ_%7B42%7D%20%2B%203Q_%7B32%7D%5E2%20%2B%202Q_%7B32%7DQ_%7B33%7D%20%2B%204Q_%7B32%7DQ_%7B42%7D%20%2B%203Q_%7B33%7D%5E2%20%2B%204Q_%7B33%7DQ_%7B41%7D%20%2B%202Q_%7B33%7DQ_%7B43%7D%20%2B%202Q_%7B41%7D%5E2%20%2B%202Q_%7B41%7DQ_%7B43%7D%20%2B%202Q_%7B42%7D%5E2%20%2B%204Q_%7B43%7D%5E2%0D%0A\">\n",
        "\n",
        "長すぎるので簡単のために各項の係数をQUBOmatrixと呼ばれる行列に落とし込みます。12*12の行列を使います。\n",
        "\n",
        "<img src=\"./img/017_6.png\">\n",
        "\n",
        "今回は一旦これをlistとしてpythonで用意しておきます。"
      ]
    },
    {
      "metadata": {
        "id": "R3jE_U4PNgdK",
        "colab_type": "code",
        "colab": {}
      },
      "cell_type": "code",
      "source": [
        "!pip install wildqat"
      ],
      "execution_count": 0,
      "outputs": []
    },
    {
      "metadata": {
        "id": "NfE29BqoNjTv",
        "colab_type": "code",
        "colab": {}
      },
      "cell_type": "code",
      "source": [
        "import wildqat as wq\n",
        "import numpy as np\n",
        "a = wq.opt()\n",
        "a.qubo = [\n",
        "    [4,4,0,8,4,0,0,0,4,4,0,4],\n",
        "    [0,4,0,4,8,0,0,0,2,2,0,6],\n",
        "    [0,0,4,0,0,8,2,6,2,0,4,0],\n",
        "    [0,0,0,4,4,0,0,0,4,4,0,4],\n",
        "    [0,0,0,0,4,0,0,0,2,2,0,6],\n",
        "    [0,0,0,0,0,4,2,6,2,0,4,0],\n",
        "    [0,0,0,0,0,0,3,2,0,0,4,0],\n",
        "    [0,0,0,0,0,0,0,3,2,0,4,0],\n",
        "    [0,0,0,0,0,0,0,0,3,4,0,2],\n",
        "    [0,0,0,0,0,0,0,0,0,2,0,2],\n",
        "    [0,0,0,0,0,0,0,0,0,0,2,0],\n",
        "    [0,0,0,0,0,0,0,0,0,0,0,4]\n",
        "]"
      ],
      "execution_count": 0,
      "outputs": []
    },
    {
      "metadata": {
        "id": "iWqibY8YRhC7",
        "colab_type": "text"
      },
      "cell_type": "markdown",
      "source": [
        "##制約条件をつける\n",
        "一台の車ごとに制約条件は１つのルートをとるという条件をつけます。\n",
        "\n",
        "<img src=\"https://render.githubusercontent.com/render/math?math=E%20%3D%20K*(Q_%7B11%7D%2BQ_%7B12%7D%2BQ_%7B13%7D-1)%5E2%2BK*(Q_%7B21%7D%2BQ_%7B22%7D%2BQ_%7B23%7D-1)%5E2%2BK*(Q_%7B31%7D%2BQ_%7B32%7D%2BQ_%7B33%7D-1)%5E2%2BK*(Q_%7B41%7D%2BQ_%7B42%7D%2BQ_%7B43%7D-1)%5E2\">\n",
        "\n",
        "展開すると、\n",
        "\n",
        "<img src=\"https://render.githubusercontent.com/render/math?math=E%20%3D%20KQ_%7B11%7D%5E2%20%2B%202KQ_%7B11%7DQ_%7B12%7D%20%2B%202KQ_%7B11%7DQ_%7B13%7D%20-%202KQ_%7B11%7D%20%2B%20KQ_%7B12%7D%5E2%20%2B%202KQ_%7B12%7DQ_%7B13%7D%20-%202KQ_%7B12%7D%20%2B%20KQ_%7B13%7D%5E2%20-%202KQ_%7B13%7D%20%2B%20KQ_%7B21%7D%5E2%20%2B%202KQ_%7B21%7DQ_%7B22%7D%20%2B%202KQ_%7B21%7DQ_%7B23%7D%20-%202KQ_%7B21%7D%20%2B%20KQ_%7B22%7D%5E2%20%2B%202KQ_%7B22%7DQ_%7B23%7D%20-%202KQ_%7B22%7D%20%2B%20KQ_%7B23%7D%5E2%20-%202KQ_%7B23%7D%20%2B%20KQ_%7B31%7D%5E2%20%2B%202KQ_%7B31%7DQ_%7B32%7D%20%2B%202KQ_%7B31%7DQ_%7B33%7D%20-%202KQ_%7B31%7D%20%2B%20KQ_%7B32%7D%5E2%20%2B%202KQ_%7B32%7DQ_%7B33%7D%20-%202KQ_%7B32%7D%20%2B%20KQ_%7B33%7D%5E2%20-%202KQ_%7B33%7D%20%2B%20KQ_%7B41%7D%5E2%20%2B%202KQ_%7B41%7DQ_%7B42%7D%20%2B%202KQ_%7B41%7DQ_%7B43%7D%20-%202KQ_%7B41%7D%20%2B%20KQ_%7B42%7D%5E2%20%2B%202KQ_%7B42%7DQ_%7B43%7D%20-%202KQ_%7B42%7D%20%2B%20KQ_%7B43%7D%5E2%20-%202KQ_%7B43%7D%20%2B%204K\">\n",
        "\n",
        "こちらも見にくいので、QUBOmatrixの形にします。\n",
        "\n",
        "<img src=\"./img/017_7.jpeg\">\n",
        "\n",
        "これもwildqatにいれてみます。"
      ]
    },
    {
      "metadata": {
        "id": "p9NyWJqOTSHz",
        "colab_type": "code",
        "colab": {
          "base_uri": "https://localhost:8080/",
          "height": 459
        },
        "outputId": "79c3b8f7-8f49-4571-c291-9e12716d5c4b"
      },
      "cell_type": "code",
      "source": [
        "k = 10\n",
        "kk = np.diag([-k for i in range(12)])\n",
        "\n",
        "for i in range(0,12,3):\n",
        "  kk[i][i+1] = 2*k\n",
        "  kk[i][i+2] = 2*k\n",
        "  kk[i+1][i+2] = 2*k\n",
        "\n",
        "print(kk)\n",
        "\n",
        "a.qubo += kk\n",
        "print(a.qubo)\n",
        "a.sa()"
      ],
      "execution_count": 69,
      "outputs": [
        {
          "output_type": "stream",
          "text": [
            "[[-10  20  20   0   0   0   0   0   0   0   0   0]\n",
            " [  0 -10  20   0   0   0   0   0   0   0   0   0]\n",
            " [  0   0 -10   0   0   0   0   0   0   0   0   0]\n",
            " [  0   0   0 -10  20  20   0   0   0   0   0   0]\n",
            " [  0   0   0   0 -10  20   0   0   0   0   0   0]\n",
            " [  0   0   0   0   0 -10   0   0   0   0   0   0]\n",
            " [  0   0   0   0   0   0 -10  20  20   0   0   0]\n",
            " [  0   0   0   0   0   0   0 -10  20   0   0   0]\n",
            " [  0   0   0   0   0   0   0   0 -10   0   0   0]\n",
            " [  0   0   0   0   0   0   0   0   0 -10  20  20]\n",
            " [  0   0   0   0   0   0   0   0   0   0 -10  20]\n",
            " [  0   0   0   0   0   0   0   0   0   0   0 -10]]\n",
            "[[-6 24 20  8  4  0  0  0  4  4  0  4]\n",
            " [ 0 -6 20  4  8  0  0  0  2  2  0  6]\n",
            " [ 0  0 -6  0  0  8  2  6  2  0  4  0]\n",
            " [ 0  0  0 -6 24 20  0  0  4  4  0  4]\n",
            " [ 0  0  0  0 -6 20  0  0  2  2  0  6]\n",
            " [ 0  0  0  0  0 -6  2  6  2  0  4  0]\n",
            " [ 0  0  0  0  0  0 -7 22 20  0  4  0]\n",
            " [ 0  0  0  0  0  0  0 -7 22  0  4  0]\n",
            " [ 0  0  0  0  0  0  0  0 -7  4  0  2]\n",
            " [ 0  0  0  0  0  0  0  0  0 -8 20 22]\n",
            " [ 0  0  0  0  0  0  0  0  0  0 -8 20]\n",
            " [ 0  0  0  0  0  0  0  0  0  0  0 -6]]\n",
            "1.5709757804870605\n"
          ],
          "name": "stdout"
        },
        {
          "output_type": "execute_result",
          "data": {
            "text/plain": [
              "[0, 0, 1, 0, 1, 0, 1, 0, 0, 1, 0, 0]"
            ]
          },
          "metadata": {
            "tags": []
          },
          "execution_count": 69
        }
      ]
    },
    {
      "metadata": {
        "id": "I6ADKQIrcZuL",
        "colab_type": "text"
      },
      "cell_type": "markdown",
      "source": [
        "上記のようになりました。\n",
        "きちんと１台につき、１ルートが割り当てられています。\n",
        "最終のコストも確認しておきます。"
      ]
    },
    {
      "metadata": {
        "id": "MT9iRdJya-pB",
        "colab_type": "code",
        "colab": {
          "base_uri": "https://localhost:8080/",
          "height": 34
        },
        "outputId": "30e9a986-d1cd-4c55-9388-6152a85d85be"
      },
      "cell_type": "code",
      "source": [
        "print(a.E[-1])"
      ],
      "execution_count": 70,
      "outputs": [
        {
          "output_type": "stream",
          "text": [
            "-23.0\n"
          ],
          "name": "stdout"
        }
      ]
    },
    {
      "metadata": {
        "id": "BKg4DDkccp4-",
        "colab_type": "text"
      },
      "cell_type": "markdown",
      "source": [
        "コスト推移はmatplotlibで確認することができます。"
      ]
    },
    {
      "metadata": {
        "id": "fOT3DvsWcEEt",
        "colab_type": "code",
        "colab": {
          "base_uri": "https://localhost:8080/",
          "height": 347
        },
        "outputId": "0b5ae2b2-4e72-4db2-93fc-7f05689bc1e8"
      },
      "cell_type": "code",
      "source": [
        "a.plot()"
      ],
      "execution_count": 67,
      "outputs": [
        {
          "output_type": "display_data",
          "data": {
            "image/png": "[encoded data removed]",
            "text/plain": [
              "<matplotlib.figure.Figure at 0x7f8582961eb8>"
            ]
          },
          "metadata": {
            "tags": []
          }
        }
      ]
    }
  ]
}
