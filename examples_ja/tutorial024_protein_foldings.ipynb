{
  "nbformat": 4,
  "nbformat_minor": 0,
  "metadata": {
    "colab": {
      "name": "024_protein_foldings.ipynb",
      "version": "0.3.2",
      "provenance": []
    },
    "kernelspec": {
      "name": "python3",
      "display_name": "Python 3"
    }
  },
  "cells": [
    {
      "metadata": {
        "id": "9x8rGoL0OcUW",
        "colab_type": "text"
      },
      "cell_type": "markdown",
      "source": [
        "#タンパク質折りたたみ問題\n",
        "\n",
        "量子アニーリングを用いた創薬関連のタンパク質折りたたみ問題がハーバード大学の先生によって2012年に発表されていました。そのタンパク質折りたたみ問題の論文を元に実際にwildqatで解いてみたいと思います。"
      ]
    },
    {
      "metadata": {
        "id": "cN821dY4Oja6",
        "colab_type": "text"
      },
      "cell_type": "markdown",
      "source": [
        "##参考にする論文\n",
        "natureに掲載されているこちらの論文をベースにします。\n",
        "\n",
        "Finding low-energy conformations of lattice protein models by quantum annealing\n",
        "Alejandro Perdomo-Ortiz, Neil Dickson, Marshall Drew-Brook, Geordie Rose & Alán Aspuru-Guzik\n",
        "Scientific Reports volume 2, Article number: 571 (2012)\n",
        "https://www.nature.com/articles/srep00571\n",
        "\n"
      ]
    },
    {
      "metadata": {
        "id": "7Q5842YzOoFr",
        "colab_type": "text"
      },
      "cell_type": "markdown",
      "source": [
        "##問題の概要とHPモデル、MJモデル\n",
        "\n",
        "タンパク質を単純にモデル化をしてそれをイジングモデルモデルに落とし込むという試みです。\n",
        "\n",
        "まずは、HPモデルというモデルを使用しています。\n",
        "\n",
        "HPモデル\n",
        "• アミノ酸をＨ（疎水性、非極性アミノ酸）とＰ(親水性、極性アミノ酸）のいずれかに分ける。\n",
        "• Ｈは、水を嫌い、互いに引き付けあう\n",
        "\n",
        "参考：HPモデルhttp://www.iba.t.u-tokyo.ac.jp/iba/AI/HP.pdf\n",
        "\n",
        "Mijazawa-Jernigan (MJ) model\n",
        "今回は単純化されたMJモデルを利用します。"
      ]
    },
    {
      "metadata": {
        "id": "1lavzUR0O1dk",
        "colab_type": "text"
      },
      "cell_type": "markdown",
      "source": [
        "##MJモデルのQUBOへの適用\n",
        "用意された塩基列を特定の方向に回転させる操作をイジングモデルに対応させています。\n",
        "\n",
        "<img src=\"./img/024_5.png\">\n",
        "引用：https://www.nature.com/articles/srep00571\n",
        "\n",
        "今回使用する塩基列は、PSVKMAの配列で、\n",
        "下記のように特定の塩基列が隣接すると安定状態になり、エネルギーがへります。このエネルギーの安定化を使っってコスト関数を最小化させることを狙います。\n",
        "\n",
        "<img src=\"./img/024_0.png\">\n",
        "\n",
        "また、今回塩基列を全て一度に処理するのは難しいのでいくつかのパターンに分けます。\n",
        "\n",
        "<img src=\"./img/024_1.png\">\n",
        "\n",
        "引用：https://www.nature.com/articles/srep00571\n",
        "\n",
        "上記のようにすでにいくつかの折りたたまれたパターンから出発して安定状態を求めます。数が多くないので書き出すことができ、もっとも低いエネルギー安定状態は下記のようになります。それぞれのパターンに対して安定状態に到達できる形状が異なるようなので、どれか１つのschemeを取り上げて一番エネルギーの低い状態を立式から導き出したいと思います。\n",
        "\n",
        "<img src=\"./img/024_2.png\">\n",
        "\n",
        "引用：https://www.nature.com/articles/srep00571"
      ]
    },
    {
      "metadata": {
        "id": "qcRgHPVPUu-n",
        "colab_type": "text"
      },
      "cell_type": "markdown",
      "source": [
        "##コスト関数\n",
        "今回のコスト関数は、\n",
        "\n",
        "<img src=\"https://render.githubusercontent.com/render/math?math=E_p%20%3D%20E_%7Bonsite%7D%20%2B%20E_%7Bpw%7D%20%2B%20E_%7Bext%7D\">\n",
        "\n",
        "となります。１項目はタンパク質の塩基列が重ならないという条件、２項目は塩基列同士の近接の相互作用のエネルギー関数、３項目は外部からの影響です。今回３項目は使用しないということなので、\n",
        "\n",
        "<img src=\"https://render.githubusercontent.com/render/math?math=E_p%20%3D%20E_%7Bonsite%7D%20%2B%20E_%7Bpw%7D\">\n",
        "\n",
        "\n",
        "となります。"
      ]
    },
    {
      "metadata": {
        "id": "incREHo7VUM_",
        "colab_type": "text"
      },
      "cell_type": "markdown",
      "source": [
        "##モデル\n",
        "今回、論文中にも触れられている実験３をやって見たいと思います。塩基列は、\n",
        "\n",
        "<img src=\"./img/024_3.png\">\n",
        "\n",
        "この順番ですが、今回はある程度折りたたまれた状態で始まります。\n",
        "\n",
        "<img src=\"./img/024_4.png\">\n",
        "\n",
        "この場合、PSKVまでは決まっていて、Mは下か左が決まっていますので、回転方向はPから順番に書いてみると、\n",
        "\n",
        "<img src=\"https://render.githubusercontent.com/render/math?math=01%2000%2010%20q_1%200%20q_2%20q_3\">\n",
        "\n",
        "となり、３量子ビットの式を解けばよいことになります。01は右、00は下、10は左、Mは下か左しかないので、00か10なので、0は決まっていて、残りのq1q1からq3q3をイジング問題で求めます。\n",
        "\n",
        "コスト関数は、\n",
        "\n",
        "<img src=\"https://render.githubusercontent.com/render/math?math=E%20%3D%20-1-4q_3%2B9q_1q_3%2B9q_2q_3-16q_1q_2q_3\">\n"
      ]
    },
    {
      "metadata": {
        "id": "13okraFgWdfp",
        "colab_type": "text"
      },
      "cell_type": "markdown",
      "source": [
        "##３体問題の２体問題への分解\n",
        "ここで、QUBOではそのままでは解けない３体問題がでてきます。この際には数学変換で２体問題へと分解をします。詳しくは他のチュートリアルを参照ください。\n",
        "\n",
        "新しい量子ビットq4q4を導入して、\n",
        "\n",
        "<img src=\"https://render.githubusercontent.com/render/math?math=q_4=q_1q_2 \">\n",
        "\n",
        "これにペナルティ項を導入するとコスト関数は、\n",
        "\n",
        "<img src=\"https://render.githubusercontent.com/render/math?math=E%20%3D%20-1-4q_3%2B9q_1q_3%2B9q_2q_3-16q_3q_4%2B%5Cdelta(3q_4%2Bq_1q_2-2q_1q_4-2q_2q_4)\">\n",
        "\n",
        "こちらをWildqatに入れて計算をして見ます。"
      ]
    },
    {
      "metadata": {
        "id": "UGsLxgGFXGeT",
        "colab_type": "text"
      },
      "cell_type": "markdown",
      "source": [
        "##Wildqatへ実装\n",
        "ここで上記のQUBOを実装します。\n",
        "デルタの値を10として見てとくと、"
      ]
    },
    {
      "metadata": {
        "id": "9P2zwQ1IOQ8d",
        "colab_type": "code",
        "colab": {}
      },
      "cell_type": "code",
      "source": [
        "!pip install wildqat"
      ],
      "execution_count": 0,
      "outputs": []
    },
    {
      "metadata": {
        "id": "C94w4p1qXNaK",
        "colab_type": "code",
        "colab": {
          "base_uri": "https://localhost:8080/",
          "height": 51
        },
        "outputId": "5ac8b9b3-11dd-47a0-ff40-83b07f2ce1a3"
      },
      "cell_type": "code",
      "source": [
        "import wildqat as wq\n",
        "a = wq.opt()\n",
        "d = 10;\n",
        "a.qubo = [[0,d,9,-2*d],[0,0,9,-2*d],[0,0,-4,-16],[0,0,0,3*d]]\n",
        "a.sa()\n"
      ],
      "execution_count": 2,
      "outputs": [
        {
          "output_type": "stream",
          "text": [
            "1.5414609909057617\n"
          ],
          "name": "stdout"
        },
        {
          "output_type": "execute_result",
          "data": {
            "text/plain": [
              "[0, 0, 1, 0]"
            ]
          },
          "metadata": {
            "tags": []
          },
          "execution_count": 2
        }
      ]
    },
    {
      "metadata": {
        "id": "mpLUbubQXfEY",
        "colab_type": "text"
      },
      "cell_type": "markdown",
      "source": [
        "答えは0010となりました、QUBOで表現されたタンパク質の折りたたみは、\n",
        "\n",
        "0100100010\n",
        "\n",
        "という回転を表現することになり、下記のようなものがもっとも安定なものとなります。\n",
        "\n",
        "<img src=\"./img/024_7.png\">"
      ]
    }
  ]
}
