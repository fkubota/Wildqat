{
  "nbformat": 4,
  "nbformat_minor": 0,
  "metadata": {
    "colab": {
      "name": "tutorial20_prime_factorization.ipynb",
      "version": "0.3.2",
      "provenance": []
    },
    "kernelspec": {
      "name": "python3",
      "display_name": "Python 3"
    }
  },
  "cells": [
    {
      "metadata": {
        "id": "ktatybgO-wRd",
        "colab_type": "text"
      },
      "cell_type": "markdown",
      "source": [
        "#QUBOで素因数分解\n",
        "ここでは、QUBOを活用した素因数分解の方法を見ていきます。素因数分解は最小値問題に落とし込むことができ、コスト関数のコストを見ることで正解にたどり着いているかどうかを確認することができます。\n",
        "\n",
        "また、素因数分解は膨大な解候補の中からたった１つの解を求めないといけないのでQUBOの中でももっとも難しい問題の１つですので、このテーマを学習することはとても勉強になります。"
      ]
    },
    {
      "metadata": {
        "id": "EVdS3AsVGCq8",
        "colab_type": "text"
      },
      "cell_type": "markdown",
      "source": [
        "##15を素因数分解する\n",
        "例題で15を素因数分解して見ます。\n",
        "分解する整数をpとqとおくと、\n",
        "\n",
        "<img class=\"math math-inline\" src=\"https://render.githubusercontent.com/render/math?math=15%20%3D%20p*q\">\n",
        "\n",
        "上記のようになります。この式を満たすためのコスト関数は、\n",
        "\n",
        "<img class=\"math math-inline\" src=\"https://render.githubusercontent.com/render/math?math=E%20%3D%20(15%20-p%20*%20q)%5E2\">\n",
        "\n",
        "となります。pとqの10進数はバイナリ値の量子ビットをつかって下記のように表現ができます。\n",
        "\n",
        "<img class=\"math math-inline\" src=\"https://render.githubusercontent.com/render/math?math=p%20%3D%201%2B2q_0%2B4q_1\">\n",
        "\n",
        "<img class=\"math math-inline\" src=\"https://render.githubusercontent.com/render/math?math=q%20%3D%201%2B2q_2\">\n",
        "\n",
        "こちらを代入すると、\n",
        "\n",
        "<img class=\"math math-inline\" src=\"https://render.githubusercontent.com/render/math?math=E%20%3D%20%5C%7B15-(1%2B2q_0%2B4q_1)(1%2B2q_2)%5C%7D%5E2\">\n",
        "\n",
        "<img class=\"math math-inline\" src=\"https://render.githubusercontent.com/render/math?math=E%20%3D%2016q_0%5E2q_2%5E2%20%2B%2016q_0%5E2q_2%20%2B%204q_0%5E2%20%2B%2064q_0q_1q_2%5E2%20%2B%2064q_0q_1q_2%20%2B%2016q_0q_1%20%2B%2016q_0q_2%5E2%20-%20104q_0q_2%20-%2056q_0%20%2B%2064q_1%5E2q_2%5E2%20%2B%2064q_1%5E2q_2%20%2B%2016q_1%5E2%20%2B%2032q_1q_2%5E2%20-%20208q_1q_2%20-%20112q_1%20%2B%204q_2%5E2%20-%2056q_2%20%2B%20196\">\n",
        "\n",
        "ここからバイナリの二乗をはずして、\n",
        "\n",
        "<img class=\"math math-inline\" src=\"https://render.githubusercontent.com/render/math?math=E%20%3D%20128q_0q_1q_2%20%2B%2016q_0q_1%20-%2056q_0q_2%20-%2052q_0%20-%2048q_1q_2%20-%2096q_1%20-%2052q_2%20%2B%20196\">\n",
        "\n",
        "こちらを計算していきます。\n",
        "\n",
        "\n"
      ]
    },
    {
      "metadata": {
        "id": "4XCKbmOl2BY1",
        "colab_type": "text"
      },
      "cell_type": "markdown",
      "source": [
        "##三体問題の分解を使う\n",
        "\n",
        "ここで、上記に３体問題が出てきますので、QUBOではそのままでは解けませんので２体問題への分解を行います。チュートリアル１８で出てきたテクニックを使い、新しい量子ビットq1*q2 = q3を導入して式に代入し、最後にペナルティ項をつけます。\n",
        "\n",
        "<img class=\"math math-inline\" src=\"https://render.githubusercontent.com/render/math?math=E%20%3D%20128q_0q_3%20%2B%2016q_0q_1%20-%2056q_0q_2%20-%2052q_0%20-%2048q_1q_2%20-%2096q_1%20-%2052q_2%20%2B%20196%20%2B%20%5Cdelta(3q_3%2Bq_1q_2-2q_1q_3-2q_2q_3)\">\n",
        "\n",
        "この式を解いていきます。ここで、Gamma = 128として解いて見ると、各項の係数をQUBOmatrixに入れて見て、"
      ]
    },
    {
      "metadata": {
        "id": "fwBgJDHE-uBL",
        "colab_type": "code",
        "colab": {
          "base_uri": "https://localhost:8080/",
          "height": 51
        },
        "outputId": "b033a32b-cb70-41b8-89bd-cbcd660e8245"
      },
      "cell_type": "code",
      "source": [
        "import wildqat as wq\n",
        "a = wq.opt()\n",
        "a.qubo = [[-52,16,-56,128],[0,-96,80,-256],[0,0,-52,-256],[0,0,0,384]]\n",
        "a.sa()"
      ],
      "execution_count": 6,
      "outputs": [
        {
          "output_type": "stream",
          "text": [
            "1.6109580993652344\n"
          ],
          "name": "stdout"
        },
        {
          "output_type": "execute_result",
          "data": {
            "text/plain": [
              "[0, 1, 1, 1]"
            ]
          },
          "metadata": {
            "tags": []
          },
          "execution_count": 6
        }
      ]
    },
    {
      "metadata": {
        "id": "l1CdzcSsuX4r",
        "colab_type": "code",
        "colab": {
          "base_uri": "https://localhost:8080/",
          "height": 34
        },
        "outputId": "7edad3d9-c46e-4334-c013-e1621c63325d"
      },
      "cell_type": "code",
      "source": [
        "print(a.E[-1])"
      ],
      "execution_count": 7,
      "outputs": [
        {
          "output_type": "stream",
          "text": [
            "-196.0\n"
          ],
          "name": "stdout"
        }
      ]
    },
    {
      "metadata": {
        "id": "5FnOKgVXvamp",
        "colab_type": "text"
      },
      "cell_type": "markdown",
      "source": [
        "ここで、答えは0,0,0,1がでましたので、\n",
        "p = 1+0+4=5\n",
        "q = 1+2 = 3\n",
        "となりました。\n",
        "\n",
        "エネルギーも最終のエネルギーが-196となり、上記コスト関数の定数項と足し合わせることで全体のエネルギーが0となっているのが確認できました。\n",
        "\n",
        "これで素因数分解は解けています。"
      ]
    }
  ]
}