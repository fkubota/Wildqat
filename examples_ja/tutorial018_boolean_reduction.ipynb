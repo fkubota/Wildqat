{
  "nbformat": 4,
  "nbformat_minor": 0,
  "metadata": {
    "colab": {
      "name": "tutorial15_boolean_reduction.ipynb",
      "version": "0.3.2",
      "provenance": []
    },
    "kernelspec": {
      "name": "python3",
      "display_name": "Python 3"
    }
  },
  "cells": [
    {
      "metadata": {
        "id": "_-zOj3w97u4Q",
        "colab_type": "text"
      },
      "cell_type": "markdown",
      "source": [
        "#３体問題の２体問題への分解\n",
        "\n",
        "QUBOでは通常２体問題と呼ばれる２つの量子ビットの掛け算までしか計算できません。しかし、時々問題を作っている際に、３量子ビット以上の掛け算が出ることがあります。その際には数学的なテクニックを利用して３体問題を２体問題に分解をします。"
      ]
    },
    {
      "metadata": {
        "id": "pDPWveBOD_Ke",
        "colab_type": "text"
      },
      "cell_type": "markdown",
      "source": [
        "##２体問題の解き方\n",
        "例えば下記のようなコスト関数がある時には、そのままその係数をQUBOで計算できます。これは、q0のバイアスとq0,q1間の結合係数を上三角行列で表すことで実現できます。詳しくは他のチュートリアルを参考にしてください。\n",
        "\n",
        "\n",
        "<img class=\"math math-inline\" src=\"https://render.githubusercontent.com/render/math?math=E =q_0-q_0q_1&amp;mode=inline\">"
      ]
    },
    {
      "metadata": {
        "id": "I0g-6vN97eU1",
        "colab_type": "code",
        "colab": {
          "base_uri": "https://localhost:8080/",
          "height": 51
        },
        "outputId": "939ea371-cb67-41a7-fe54-ead0b0d006f6"
      },
      "cell_type": "code",
      "source": [
        "import wildqat as wq\n",
        "a = wq.opt()\n",
        "a.qubo = [[1,-1],[0,0]]\n",
        "a.sa()"
      ],
      "execution_count": 7,
      "outputs": [
        {
          "output_type": "stream",
          "text": [
            "1.5159461498260498\n"
          ],
          "name": "stdout"
        },
        {
          "output_type": "execute_result",
          "data": {
            "text/plain": [
              "[0, 0]"
            ]
          },
          "metadata": {
            "tags": []
          },
          "execution_count": 7
        }
      ]
    },
    {
      "metadata": {
        "id": "QrfaOgkRDw9k",
        "colab_type": "text"
      },
      "cell_type": "markdown",
      "source": [
        "##３体問題の解き方\n",
        "では、３体問題という量子ビットが複数掛け算されているものはどうでしょうか？\n",
        "結合係数は２量子ビット同士の係数しかないので、そのままでは設定できません。\n",
        "\n",
        "<img class=\"math math-inline\" src=\"https://render.githubusercontent.com/render/math?math=E%3Dq_0-q_0q_1q_2\">\n",
        "\n",
        "そこで、今回はこの３体問題を数学的に２体問題に分解します。"
      ]
    },
    {
      "metadata": {
        "id": "kCrwoRiw3DnF",
        "colab_type": "text"
      },
      "cell_type": "markdown",
      "source": [
        "##分解方法\n",
        "分解に際して新しい量子ビットを追加します。下記のように新しい量子ビットを加えて、表現します。\n",
        "\n",
        "<img class=\"math math-inline\" src=\"https://render.githubusercontent.com/render/math?math=q_1q_2%20%3D%20q_3\">\n",
        "\n",
        "ただ、置き換えただけではなく、上記条件を満たすための新しい拘束条件を式の最後に付け加えます。\n",
        "\n",
        "<img class=\"math math-inline\" src=\"https://render.githubusercontent.com/render/math?math=E%3Dq_0-q_0q_3%20%2B%20%5Cdelta(3q_3%2Bq_1q_2-2q_1q_3-2q_2q_3)\">\n",
        "\n",
        "係数のガンマはその時々によって調整するハイパーパラメータです。ここではガンマを0.5にしてみると下記のようになり、\n",
        "\n",
        "<img class=\"math matn-inline\" src=\"https://render.githubusercontent.com/render/math?math=E%20%3D%20q_0-q_0q_3%2B1.5q_3%2B0.5q_1q_2-q_1q_3-q_2q_3\">\n",
        "\n",
        "これを計算にかけると、"
      ]
    },
    {
      "metadata": {
        "id": "S7f4vccTDaZZ",
        "colab_type": "code",
        "colab": {
          "base_uri": "https://localhost:8080/",
          "height": 51
        },
        "outputId": "26e72994-b4e6-49a0-dc64-0946f219225e"
      },
      "cell_type": "code",
      "source": [
        "b = wq.opt()\n",
        "b.qubo = [[1,0,0,-1],[0,0,0.5,-1],[0,0,0,-1],[0,0,0,1.5]]\n",
        "b.sa()"
      ],
      "execution_count": 12,
      "outputs": [
        {
          "output_type": "stream",
          "text": [
            "1.5440006256103516\n"
          ],
          "name": "stdout"
        },
        {
          "output_type": "execute_result",
          "data": {
            "text/plain": [
              "[1, 1, 1, 1]"
            ]
          },
          "metadata": {
            "tags": []
          },
          "execution_count": 12
        }
      ]
    },
    {
      "metadata": {
        "id": "SJ5BJf3E6ArS",
        "colab_type": "text"
      },
      "cell_type": "markdown",
      "source": [
        "実際に、これは条件を満たしています。\n",
        "\n",
        "<img class=\"math matn-inline\" src=\"https://render.githubusercontent.com/render/math?math=q_0*q_2%20%3D%201*1%20%3D%201%20%3D%20q_3\">\n",
        "\n",
        "全体のエネルギーの遷移はmatplotlibを用いて確認することができて下記のようになります。"
      ]
    },
    {
      "metadata": {
        "id": "IIb4PqrFEzLs",
        "colab_type": "code",
        "colab": {
          "base_uri": "https://localhost:8080/",
          "height": 347
        },
        "outputId": "bc18de33-3ad0-4b7d-9780-392a11a9e9ed"
      },
      "cell_type": "code",
      "source": [
        "a.plot()"
      ],
      "execution_count": 8,
      "outputs": [
        {
          "output_type": "display_data",
          "data": {
            "image/png": "[encoded data removed]",
            "text/plain": [
              "<matplotlib.figure.Figure at 0x7f9b4bf704a8>"
            ]
          },
          "metadata": {
            "tags": []
          }
        }
      ]
    }
  ]
}
