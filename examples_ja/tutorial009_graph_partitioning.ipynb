{
  "nbformat": 4,
  "nbformat_minor": 0,
  "metadata": {
    "colab": {
      "name": "tutorial009_graph_partitioning",
      "version": "0.3.2",
      "provenance": []
    },
    "kernelspec": {
      "name": "python3",
      "display_name": "Python 3"
    }
  },
  "cells": [
    {
      "metadata": {
        "id": "i4mxcuR8ApWB",
        "colab_type": "text"
      },
      "cell_type": "markdown",
      "source": [
        "#グラフ分割問題\n",
        "グラフ問題において、頂点Vの数が偶数ある時に頂点をちょうどV/2ずつ２グループに分割した時に、お互いのグループをつなぐエッジの数が最小になる問題を求めます。\n",
        "\n",
        "<img src=\"https://github.com/mdrft/Wildqat/blob/master/examples_ja/img/009_1.png?raw=1\">\n",
        "\n",
        "１つ目のコスト関数はsi=−1とsi=1に分けた時にそれぞれのグループに含まれる頂点の数が同じになるような条件、２つ目は２つの頂点を選んだ時に違うグループに属する場合にはコストが上がるように設計された項です。これにより、違うグループ同士で接続数が多いとコストが増加するように設計されています。今回はQUBOの{0,1}ではなくイジングの{-1,1}で考えます。"
      ]
    },
    {
      "metadata": {
        "id": "eCz7L2nFAsMZ",
        "colab_type": "text"
      },
      "cell_type": "markdown",
      "source": [
        "##例題\n",
        "1Dリングのグラフを想定しました。8ノードあります。\n"
      ]
    },
    {
      "metadata": {
        "id": "It958OGRAwSD",
        "colab_type": "code",
        "colab": {
          "base_uri": "https://localhost:8080/",
          "height": 444
        },
        "outputId": "6df30d3c-49c7-4b06-9ae6-1100b4e2b830"
      },
      "cell_type": "code",
      "source": [
        "import networkx as nx\n",
        "import matplotlib.pyplot as plt\n",
        "\n",
        "options = {'node_color': '#efefef','node_size': 1200,'with_labels':'True'}\n",
        "\n",
        "G = nx.Graph()\n",
        "G.add_nodes_from([0,1,2,3,4,5,6,7])\n",
        "G.add_edges_from([(0,1),(1,2),(2,3),(3,4),(4,5),(5,6),(6,7),(7,0)])\n",
        "nx.draw(G, **options)"
      ],
      "execution_count": 0,
      "outputs": [
        {
          "output_type": "display_data",
          "data": {
            "image/png": "[encoded data removed]",
            "text/plain": [
              "<matplotlib.figure.Figure at 0x7fabfd5b9940>"
            ]
          },
          "metadata": {
            "tags": []
          }
        }
      ]
    },
    {
      "metadata": {
        "id": "XTyA6Sg0AwEV",
        "colab_type": "text"
      },
      "cell_type": "markdown",
      "source": [
        "早速プログラムをしていきます。準備をして読み込みます。"
      ]
    },
    {
      "metadata": {
        "id": "fwBDb0OvA3AB",
        "colab_type": "code",
        "colab": {}
      },
      "cell_type": "code",
      "source": [
        "!pip install -U wildqat"
      ],
      "execution_count": 0,
      "outputs": []
    },
    {
      "metadata": {
        "id": "raEI2nFN8Q_Z",
        "colab_type": "code",
        "colab": {}
      },
      "cell_type": "code",
      "source": [
        "import wildqat as wq\n",
        "a = wq.opt()"
      ],
      "execution_count": 0,
      "outputs": []
    },
    {
      "metadata": {
        "id": "2doAOyjjA8bg",
        "colab_type": "text"
      },
      "cell_type": "markdown",
      "source": [
        "上記コスト関数の1項目は全ての量子ビットを足し合わせて二乗しています。\n",
        "これはすべての量子ビットの局所磁場を1にして係数をとります。"
      ]
    },
    {
      "metadata": {
        "id": "eqtiaD9E9psF",
        "colab_type": "code",
        "colab": {
          "base_uri": "https://localhost:8080/",
          "height": 153
        },
        "outputId": "3718e38b-ac4a-4cc9-8b6a-18dd10db826d"
      },
      "cell_type": "code",
      "source": [
        "matrix1 = wq.sqr([1,1,1,1,1,1,1,1])\n",
        "print(matrix1)"
      ],
      "execution_count": 3,
      "outputs": [
        {
          "output_type": "stream",
          "text": [
            "[[1 2 2 2 2 2 2 2]\n",
            " [0 1 2 2 2 2 2 2]\n",
            " [0 0 1 2 2 2 2 2]\n",
            " [0 0 0 1 2 2 2 2]\n",
            " [0 0 0 0 1 2 2 2]\n",
            " [0 0 0 0 0 1 2 2]\n",
            " [0 0 0 0 0 0 1 2]\n",
            " [0 0 0 0 0 0 0 1]]\n"
          ],
          "name": "stdout"
        }
      ]
    },
    {
      "metadata": {
        "id": "GN3Y7BJTBCrC",
        "colab_type": "text"
      },
      "cell_type": "markdown",
      "source": [
        "次に2項目は定数項は無視して、-B/2をすべてのJijに対してかけて足し合わせます。\n",
        "B=0.5としてみます。\n",
        "また、上記1Dリングの繋がっているのは隣り合う量子ビット同士が繋がっており、最後の量子ビットは最後の量子ビットと繋がっています。\n",
        "\n",
        "Wildqatの機能でネットワーク構造からmatrixを作る機能を使ってみます。"
      ]
    },
    {
      "metadata": {
        "id": "1fkoN567BA0I",
        "colab_type": "code",
        "colab": {
          "base_uri": "https://localhost:8080/",
          "height": 153
        },
        "outputId": "c50c22a1-1fdb-49b3-a36d-58c876b7d907"
      },
      "cell_type": "code",
      "source": [
        "matrix2 = wq.net([[0,1],[1,2],[2,3],[3,4],[4,5],[5,6],[6,7],[7,0]],8)\n",
        "print(matrix2)"
      ],
      "execution_count": 4,
      "outputs": [
        {
          "output_type": "stream",
          "text": [
            "[[0. 1. 0. 0. 0. 0. 0. 1.]\n",
            " [0. 0. 1. 0. 0. 0. 0. 0.]\n",
            " [0. 0. 0. 1. 0. 0. 0. 0.]\n",
            " [0. 0. 0. 0. 1. 0. 0. 0.]\n",
            " [0. 0. 0. 0. 0. 1. 0. 0.]\n",
            " [0. 0. 0. 0. 0. 0. 1. 0.]\n",
            " [0. 0. 0. 0. 0. 0. 0. 1.]\n",
            " [0. 0. 0. 0. 0. 0. 0. 0.]]\n"
          ],
          "name": "stdout"
        }
      ]
    },
    {
      "metadata": {
        "id": "s-0raW0tBXfl",
        "colab_type": "code",
        "colab": {
          "base_uri": "https://localhost:8080/",
          "height": 51
        },
        "outputId": "03718ecb-ba80-4c3f-de03-f79e1aeaa6e8"
      },
      "cell_type": "code",
      "source": [
        "B = 0.5\n",
        "a.J = matrix1 - B * matrix2\n",
        "a.sa()"
      ],
      "execution_count": 5,
      "outputs": [
        {
          "output_type": "stream",
          "text": [
            "1.6756653785705566\n"
          ],
          "name": "stdout"
        },
        {
          "output_type": "execute_result",
          "data": {
            "text/plain": [
              "[0, 0, 0, 1, 1, 1, 1, 0]"
            ]
          },
          "metadata": {
            "tags": []
          },
          "execution_count": 5
        }
      ]
    },
    {
      "metadata": {
        "id": "w5nqSlDZBhux",
        "colab_type": "code",
        "colab": {
          "base_uri": "https://localhost:8080/",
          "height": 51
        },
        "outputId": "f7281bdc-58c8-4fcc-a828-8de5ea6f3d6d"
      },
      "cell_type": "code",
      "source": [
        "a.sa()"
      ],
      "execution_count": 6,
      "outputs": [
        {
          "output_type": "stream",
          "text": [
            "1.685091495513916\n"
          ],
          "name": "stdout"
        },
        {
          "output_type": "execute_result",
          "data": {
            "text/plain": [
              "[1, 1, 1, 0, 0, 0, 0, 1]"
            ]
          },
          "metadata": {
            "tags": []
          },
          "execution_count": 6
        }
      ]
    },
    {
      "metadata": {
        "id": "aDO1KyZTB7Cw",
        "colab_type": "code",
        "colab": {
          "base_uri": "https://localhost:8080/",
          "height": 153
        },
        "outputId": "73938d38-717f-411c-a956-853c89dd8a4b"
      },
      "cell_type": "code",
      "source": [
        "print(a.J)"
      ],
      "execution_count": 7,
      "outputs": [
        {
          "output_type": "stream",
          "text": [
            "[[1.  1.5 2.  2.  2.  2.  2.  1.5]\n",
            " [0.  1.  1.5 2.  2.  2.  2.  2. ]\n",
            " [0.  0.  1.  1.5 2.  2.  2.  2. ]\n",
            " [0.  0.  0.  1.  1.5 2.  2.  2. ]\n",
            " [0.  0.  0.  0.  1.  1.5 2.  2. ]\n",
            " [0.  0.  0.  0.  0.  1.  1.5 2. ]\n",
            " [0.  0.  0.  0.  0.  0.  1.  1.5]\n",
            " [0.  0.  0.  0.  0.  0.  0.  1. ]]\n"
          ],
          "name": "stdout"
        }
      ]
    },
    {
      "metadata": {
        "id": "yH7qba_jBvS7",
        "colab_type": "text"
      },
      "cell_type": "markdown",
      "source": [
        "何度か試してみましたが、きちんと半分に分類されました。\n",
        "以上です。"
      ]
    }
  ]
}