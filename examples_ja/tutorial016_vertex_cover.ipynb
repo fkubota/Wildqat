{
 "cells": [
  {
   "cell_type": "markdown",
   "metadata": {},
   "source": [
    "# 頂点被覆（Vertex Cover）\n",
    "まず、Vertex Cover問題について説明します。次の図をみてください。\n",
    "![vertex cover](img/016_1.png)\n",
    "これは頂点Vとその頂点を結ぶ辺Eからなる無向グラフ$G = \\{V, E\\}$です。この頂点のいくつかに色を塗ることを想定します。そのあとで、任意の辺を選んだときに、その辺の両端にある頂点の片方または両方に色がついているようにするのが条件です。その条件を満たすようにし、かつ色を塗る頂点数を最小限にする、というのがVertex Cover問題です。"
   ]
  },
  {
   "cell_type": "markdown",
   "metadata": {},
   "source": [
    "## 準備\n",
    "これをwildqatを使用して解いてみます。\n",
    "wildqatがインストールされていない場合は、環境に併せて以下のようにインストールしてください。\n",
    "```bash\n",
    "pip install wildqat\n",
    "```\n",
    "必要なライブラリをimportし、wildqatオブジェクトをインスタンス化します。"
   ]
  },
  {
   "cell_type": "code",
   "execution_count": 1,
   "metadata": {},
   "outputs": [],
   "source": [
    "%matplotlib inline\n",
    "\n",
    "import numpy as np\n",
    "import matplotlib.pyplot as plt\n",
    "import wildqat as wq"
   ]
  },
  {
   "cell_type": "markdown",
   "metadata": {},
   "source": [
    "## QUBOの作成\n",
    "解きたい問題のコスト関数は、\n",
    "\n",
    "$ H = H_{A} + H_{B} $\n",
    "\n",
    "で、$H_{A}, H_{B}$はそれぞれ、\n",
    "\n",
    "$ \\displaystyle H _ { A } = A \\sum _ { u v \\in E } \\left( 1 - x _ { u } \\right) \\left( 1 - x _ { v } \\right)$\n",
    "\n",
    "$ \\displaystyle H _ { B } = B \\sum _ { v } x _ { v }$\n",
    "\n",
    "です。$x_{u}, x_{v}$はその頂点に色が付いているときに1、付いていないときに0になるものとします。"
   ]
  },
  {
   "cell_type": "markdown",
   "metadata": {},
   "source": [
    "まず、$H_{A}$ですが、これは辺で結ばれた2つの頂点u, vを選んだとき、片方または両方に色がついていれば0、どちらも色がついていなければコストがA上がる、というものになります。これを展開すると、\n",
    "\n",
    "$ \\displaystyle H _ { A } = A \\sum _ { u v \\in E } \\left( 1 - x _ { u } - x _ { v } + x_{u}x_{v}\\right)$\n",
    "\n",
    "となり、第一項が定数項であるためコストの計算では無視できること、また$x \\in \\{0, 1\\}$であることを利用すると、さらに次のように置き換えることができます。\n",
    "\n",
    "$ \\displaystyle H_{A} = A \\sum _ { u v \\in E } \\left( - x_{u}x_{u} - x_{v}x_{v} + x_{u}x_{v}\\right) $"
   ]
  },
  {
   "cell_type": "markdown",
   "metadata": {},
   "source": [
    "つぎに、$H_{B}$についてですが、これは色が付いている頂点の1つについてコストがB上がることを意味します。これも同様に$x \\in \\{0, 1\\}$であることを利用して、次のようにすることができます。\n",
    "\n",
    "$ \\displaystyle H_{B} = B \\sum _ { u,v: u = v } x_{u}x_{v}$"
   ]
  },
  {
   "cell_type": "markdown",
   "metadata": {},
   "source": [
    "以上でQUBOの形式にすることができました。\n",
    "\n",
    "また、係数$A, B$については、頂点を1つ少なく選ぶ（コストがB下がる）より、両方とも色が付いていない状態をなしにする（両方とも色がついていないとコストがA上がる）ことを優先したいので、$A > B$である必要があります。\n",
    "\n",
    "これをコードにすると次の通りです。"
   ]
  },
  {
   "cell_type": "markdown",
   "metadata": {},
   "source": [
    "## コーディングと実行\n",
    "まずは冒頭に掲げた無向グラフですが、次の配列で定義します。"
   ]
  },
  {
   "cell_type": "code",
   "execution_count": 2,
   "metadata": {},
   "outputs": [],
   "source": [
    "edge_def = [\n",
    "    [1,5],      # (0)と繋がっているものは(1)と(5)であるという意味\n",
    "    [2,5],      # (1)と繋がっているものは(2)と(5)であるという意味\n",
    "    [3,5],      #  :\n",
    "    [4],        #  :\n",
    "    [5,6,7,8],\n",
    "    [6,7],\n",
    "    [7],\n",
    "    [],\n",
    "    []\n",
    "]"
   ]
  },
  {
   "cell_type": "code",
   "execution_count": 6,
   "metadata": {},
   "outputs": [],
   "source": [
    "A = 1.0\n",
    "B = 0.9\n",
    "def get_qubo(edges):\n",
    "    Q = np.zeros( (len(edges), len(edges)) )\n",
    "\n",
    "    for u in range(len(edges)):\n",
    "        for v in range(u, len(edges)):\n",
    "            if u == v:\n",
    "                Q[u][v] += B\n",
    "            if v in edges[u]:    #xuとxvが繋がっているかどうか\n",
    "                Q[u][v] +=  +A\n",
    "                Q[u][u] +=  -A\n",
    "                Q[v][v] +=  -A\n",
    "\n",
    "    return Q"
   ]
  },
  {
   "cell_type": "markdown",
   "metadata": {},
   "source": [
    "また、結果を表示する関数も定義しておきましょう。"
   ]
  },
  {
   "cell_type": "code",
   "execution_count": 4,
   "metadata": {},
   "outputs": [],
   "source": [
    "def show_answer(list_x, energies = None, show_graph = False):\n",
    "    print(\"Result x: \" + str(list_x))\n",
    "    print(\"Picked {} vertices: {}\".format(sum(list_x), [x*i for i, x in enumerate(list_x) if x > 0] ))\n",
    "    if energies is not None:\n",
    "        print(\"Energy:\" + str(a.E[-1]))\n",
    "    if show_graph:\n",
    "        plt.plot(a.E)\n",
    "        plt.show()"
   ]
  },
  {
   "cell_type": "markdown",
   "metadata": {},
   "source": [
    "次の通り5回実行してみます"
   ]
  },
  {
   "cell_type": "code",
   "execution_count": 5,
   "metadata": {
    "scrolled": true
   },
   "outputs": [
    {
     "name": "stdout",
     "output_type": "stream",
     "text": [
      "---1回目\n",
      "1.9757781028747559\n",
      "Result x: [1, 0, 1, 0, 1, 1, 1, 0, 0]\n",
      "Picked 5 vertices: [0, 2, 4, 5, 6]\n",
      "Energy:-9.5\n",
      "---2回目\n",
      "2.7487809658050537\n",
      "Result x: [0, 1, 0, 1, 1, 1, 1, 0, 0]\n",
      "Picked 5 vertices: [1, 3, 4, 5, 6]\n",
      "Energy:-9.5\n",
      "---3回目\n",
      "2.371860980987549\n",
      "Result x: [0, 1, 1, 0, 1, 1, 1, 0, 0]\n",
      "Picked 5 vertices: [1, 2, 4, 5, 6]\n",
      "Energy:-9.5\n",
      "---4回目\n",
      "1.8430209159851074\n",
      "Result x: [0, 1, 1, 0, 1, 1, 0, 1, 0]\n",
      "Picked 5 vertices: [1, 2, 4, 5, 7]\n",
      "Energy:-9.5\n",
      "---5回目\n",
      "2.002021074295044\n",
      "Result x: [0, 1, 1, 0, 1, 1, 0, 1, 0]\n",
      "Picked 5 vertices: [1, 2, 4, 5, 7]\n",
      "Energy:-9.5\n"
     ]
    }
   ],
   "source": [
    "for i in range(5):\n",
    "    print(\"---{}回目\".format(i+1))\n",
    "    a = wq.opt()\n",
    "    a.qubo = get_qubo(edge_def)\n",
    "    answer = a.sa()\n",
    "    show_answer(answer, a.E)"
   ]
  },
  {
   "cell_type": "markdown",
   "metadata": {},
   "source": [
    "同じEnergy値で解は何種類か出てきましたので、基底状態はいくつかありそうですが、頂点数は概ね5でした。"
   ]
  },
  {
   "cell_type": "code",
   "execution_count": null,
   "metadata": {},
   "outputs": [],
   "source": []
  }
 ],
 "metadata": {
  "kernelspec": {
   "display_name": "Python 3",
   "language": "python",
   "name": "python3"
  },
  "language_info": {
   "codemirror_mode": {
    "name": "ipython",
    "version": 3
   },
   "file_extension": ".py",
   "mimetype": "text/x-python",
   "name": "python",
   "nbconvert_exporter": "python",
   "pygments_lexer": "ipython3",
   "version": "3.6.5"
  }
 },
 "nbformat": 4,
 "nbformat_minor": 2
}
