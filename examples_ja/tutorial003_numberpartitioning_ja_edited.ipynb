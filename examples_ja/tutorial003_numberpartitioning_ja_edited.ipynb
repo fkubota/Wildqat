{
 "cells": [
  {
   "cell_type": "markdown",
   "metadata": {
    "colab_type": "text",
    "id": "WBR-Vd1FcBF1"
   },
   "source": [
    "# 自然数分割問題を計算する (拡張版)\n",
    "\n",
    "- 自然数分割問題とは、ある自然数の集合を２つのグループA, Bに分割し、それぞれのグループ内の自然数の和が同じになるような分割方法を探す問題です。これをwildqatを使用して解いてみます。\n",
    "- 今回は拡張版として、それぞれのグループに属す数字の数も等しいという条件を追加します　\n",
    "- 例) 1, 2, 3 ,,,,\n",
    "\n",
    "\n",
    "wildqatがインストールされていない場合は、環境に併せて以下のようにインストールしてください。\n",
    "\n"
   ]
  },
  {
   "cell_type": "code",
   "execution_count": 2,
   "metadata": {
    "colab": {},
    "colab_type": "code",
    "id": "pMkrUpQgb5yC"
   },
   "outputs": [
    {
     "name": "stdout",
     "output_type": "stream",
     "text": [
      "Requirement already satisfied: wildqat in /usr/local/lib/python3.6/dist-packages (1.1.9)\n",
      "Requirement already satisfied: matplotlib==3.0.0 in /usr/local/lib/python3.6/dist-packages (from wildqat) (3.0.0)\n",
      "Requirement already satisfied: networkx==2.2 in /usr/local/lib/python3.6/dist-packages (from wildqat) (2.2)\n",
      "Collecting numpy==1.15.1 (from wildqat)\n",
      "\u001b[?25l  Downloading https://files.pythonhosted.org/packages/fe/94/7049fed8373c52839c8cde619acaf2c9b83082b935e5aa8c0fa27a4a8bcc/numpy-1.15.1-cp36-cp36m-manylinux1_x86_64.whl (13.9MB)\n",
      "\u001b[K     |████████████████████████████████| 13.9MB 12.4MB/s \n",
      "\u001b[?25hRequirement already satisfied: kiwisolver>=1.0.1 in /usr/local/lib/python3.6/dist-packages (from matplotlib==3.0.0->wildqat) (1.1.0)\n",
      "Requirement already satisfied: pyparsing!=2.0.4,!=2.1.2,!=2.1.6,>=2.0.1 in /usr/local/lib/python3.6/dist-packages (from matplotlib==3.0.0->wildqat) (2.4.0)\n",
      "Requirement already satisfied: cycler>=0.10 in /usr/local/lib/python3.6/dist-packages (from matplotlib==3.0.0->wildqat) (0.10.0)\n",
      "Requirement already satisfied: python-dateutil>=2.1 in /usr/local/lib/python3.6/dist-packages (from matplotlib==3.0.0->wildqat) (2.8.0)\n",
      "Requirement already satisfied: decorator>=4.3.0 in /usr/local/lib/python3.6/dist-packages (from networkx==2.2->wildqat) (4.4.0)\n",
      "Requirement already satisfied: setuptools in /usr/lib/python3/dist-packages (from kiwisolver>=1.0.1->matplotlib==3.0.0->wildqat) (39.0.1)\n",
      "Requirement already satisfied: six in /usr/lib/python3/dist-packages (from cycler>=0.10->matplotlib==3.0.0->wildqat) (1.11.0)\n",
      "Installing collected packages: numpy\n",
      "  Found existing installation: numpy 1.15.2\n",
      "    Uninstalling numpy-1.15.2:\n",
      "\u001b[31mERROR: Could not install packages due to an EnvironmentError: [Errno 13] Permission denied: '/usr/local/bin/f2py'\n",
      "Consider using the `--user` option or check the permissions.\n",
      "\u001b[0m\n"
     ]
    }
   ],
   "source": [
    "!pip3 install wildqat"
   ]
  },
  {
   "cell_type": "markdown",
   "metadata": {
    "colab_type": "text",
    "id": "VWDd6GlHpnQb"
   },
   "source": [
    "必要なライブラリをimportし、wildqatオブジェクトをインスタンス化します。"
   ]
  },
  {
   "cell_type": "code",
   "execution_count": 2,
   "metadata": {
    "colab": {},
    "colab_type": "code",
    "id": "Giyn1-GNcIZ0"
   },
   "outputs": [],
   "source": [
    "import wildqat as wq\n",
    "import numpy as np\n",
    "a = wq.opt()"
   ]
  },
  {
   "cell_type": "markdown",
   "metadata": {
    "colab_type": "text",
    "id": "V1qLi57eeO8l"
   },
   "source": [
    "\n",
    "解きたい問題のQUBOマトリクスを作成します。\n",
    "N個の自然数の$i$番目の自然数を$n_i$とし、その自然数がどちらのグループに属するかを$q_i$で表します。\n",
    "$n_i$がグループAに属する時には\n",
    "$q_i=1$、グループBに属する時には$q_i=0$とします。\n",
    "ここで、２つのグループ内のそれぞれの和が等しい時に最小となるようなコスト関数$E$を考えます。\n",
    "\n",
    "この場合、\n",
    "\n",
    "　$E=\\{\\sum_{i=1}^{N}n_i*(2q_i-1)\\}^2$ \n",
    "\n",
    "とすれば、自然数$n_i$がグループＡに属するとき$2q_i-1=1$、グループBに属するとき$2q_i-1=-1$\n",
    "になりますので、グループＡとグループＢに属する自然数の和が等しいときに\n",
    "$E=0$になり、異なると$E>0$になります。\n",
    "\n",
    "展開すると、\n",
    "\n",
    "　$E=(\\sum_{i=1}^{N}2n_iq_i)^2 -  2(\\sum_{i=1}^{N}2n_iq_i)(\\sum_{j=1}^{N}n_j) + (\\sum_{i=1}^{N}n_i)^2$ \n",
    "\n",
    "コスト関数Eは最小化すれば良いので、最後の定数項は要らなくなります。またコスト関数は大きさのみ関係あるので、全体を４で割って\n",
    "\n",
    "　$E=(\\sum_{i=1}^{N}n_iq_i)^2 - \\sum_{i=1}^{N}n_iq_i\\sum_{j=1}^{N}n_j$ \n",
    "\n",
    "また、$q_i=1$または$q_i=0$のとき、$q_i^2=q_i$です。また、$\\sum_{j=1}^N{n_j}$ はnの総和で定数ですので、\n",
    "$n_{sum}$とします。さらに展開して整理すると</br>\n",
    "\n",
    "　$E=\\sum_{i=1}^{N}(n_i^2 - n_{sum}n_i)q_i +2 \\sum_{i < j}n_in_jq_iq_j$ \n",
    "\n",
    "これを行列表記すると下記のようになります。\n",
    "\n",
    "　$qubo = \\left[\\begin{array}{rrrrr}n_1^2 - n_{sum}n_1 & 2n_1n_2 & 2n_1n_3 & 2n_1n_4 & ...\\\\ 0 & n_2^2 - n_{sum}n_2 & 2n_2n_3& 2n_2n_4 &...\\\\ 0 & 0 & n_3^2 - n_{sum}n_3 & 2n_3n_4 & ...\\\\ 0 & 0 & 0 & n_4^2 - n_{sum}n_4 & ...\\\\ ... & ... & ... & ... &... \\end{array} \\right]$ \n",
    " \n",
    "---\n",
    "**拡張問題を考える**\n",
    "グループAとBに属する数字の個数の総和が等しい(個数の総和(A) = 個数の総和(B)) という条件を課すために、以下の式をコスト関数に付与する\n",
    "\n",
    "　$E_1=\\{\\sum_{i=1}^{N}(2q_i-1)\\}^2$ \n",
    "\n",
    "上述のように式変形し、ハイパーパラメータ $\\alpha$,  と$\\sum_{i=1} ^{N}1 = N$ を用いるとコスト関数は最終的に\n",
    "\n",
    "　$E=\\sum_{i=1}^{N}(n_i^2 - n_{sum}n_i)q_i +2 \\sum_{i < j}n_in_jq_iq_j + \\alpha \\left[ \\sum_{i=1}^{N}(1 - N)q_i +2 \\sum_{i < j}q_iq_j \\right]$\n",
    " \n",
    "となる。\n",
    "\n",
    "---\n",
    "\n",
    "これをpythonプログラムで書き、シミュレータを実行して結果を得ます。"
   ]
  },
  {
   "cell_type": "code",
   "execution_count": 11,
   "metadata": {},
   "outputs": [],
   "source": [
    "# ----- ハイパーパラメータ ----- \n",
    "alpha = 100\n",
    "# ---------------------------"
   ]
  },
  {
   "cell_type": "markdown",
   "metadata": {},
   "source": [
    "---\n",
    "**複数回実行**"
   ]
  },
  {
   "cell_type": "code",
   "execution_count": 14,
   "metadata": {
    "colab": {},
    "colab_type": "code",
    "id": "laK0z-S3Rnkm"
   },
   "outputs": [
    {
     "name": "stdout",
     "output_type": "stream",
     "text": [
      "------------------------------------------\n",
      "numbers =  [0 0 0 0 0 0 0 0 0 0 0 0 1 1]\n",
      "answer  =  [1 1 0 1 1 0 1 0 1 0 1 0 0 0]\n",
      "7 7\n",
      "A: 0+0+0+0+0+1+1 = 2\n",
      "B: 0+0+0+0+0+0+0 = 0\n",
      "E0   =  0\n",
      "E1*a =  -4900\n",
      "E    =  -4900\n",
      "------------------------------------------\n",
      "numbers =  [0 0 0 0 0 0 0 0 0 0 0 0 1 1]\n",
      "answer  =  [1 1 0 0 1 0 0 1 0 0 1 1 1 0]\n",
      "7 7\n",
      "A: 0+0+0+0+0+0+1 = 1\n",
      "B: 0+0+0+0+0+0+1 = 1\n",
      "E0   =  -1\n",
      "E1*a =  -4900\n",
      "E    =  -4901\n",
      "------------------------------------------\n",
      "numbers =  [0 0 0 0 0 0 0 0 0 0 0 0 1 1]\n",
      "answer  =  [1 1 1 1 1 0 0 1 0 1 0 0 0 0]\n",
      "7 7\n",
      "A: 0+0+0+0+0+1+1 = 2\n",
      "B: 0+0+0+0+0+0+0 = 0\n",
      "E0   =  0\n",
      "E1*a =  -4900\n",
      "E    =  -4900\n",
      "------------------------------------------\n",
      "numbers =  [0 0 0 0 0 0 0 0 0 0 0 0 1 1]\n",
      "answer  =  [0 0 1 0 1 1 1 1 0 1 0 1 0 0]\n",
      "7 7\n",
      "A: 0+0+0+0+0+1+1 = 2\n",
      "B: 0+0+0+0+0+0+0 = 0\n",
      "E0   =  0\n",
      "E1*a =  -4900\n",
      "E    =  -4900\n",
      "------------------------------------------\n",
      "numbers =  [0 0 0 0 0 0 0 0 0 0 0 0 1 1]\n",
      "answer  =  [1 0 1 0 1 0 0 1 0 0 1 1 1 0]\n",
      "7 7\n",
      "A: 0+0+0+0+0+0+1 = 1\n",
      "B: 0+0+0+0+0+0+1 = 1\n",
      "E0   =  -1\n",
      "E1*a =  -4900\n",
      "E    =  -4901\n",
      "------------------------------------------\n",
      "numbers =  [0 0 0 0 0 0 0 0 0 0 0 0 1 1]\n",
      "answer  =  [1 0 1 0 0 1 1 0 1 1 0 1 0 0]\n",
      "7 7\n",
      "A: 0+0+0+0+0+1+1 = 2\n",
      "B: 0+0+0+0+0+0+0 = 0\n",
      "E0   =  0\n",
      "E1*a =  -4900\n",
      "E    =  -4900\n",
      "------------------------------------------\n",
      "numbers =  [0 0 0 0 0 0 0 0 0 0 0 0 1 1]\n",
      "answer  =  [1 0 1 1 0 0 0 1 0 1 1 1 0 0]\n",
      "7 7\n",
      "A: 0+0+0+0+0+1+1 = 2\n",
      "B: 0+0+0+0+0+0+0 = 0\n",
      "E0   =  0\n",
      "E1*a =  -4900\n",
      "E    =  -4900\n",
      "------------------------------------------\n",
      "numbers =  [0 0 0 0 0 0 0 0 0 0 0 0 1 1]\n",
      "answer  =  [0 0 0 1 1 1 0 1 1 0 0 1 0 1]\n",
      "7 7\n",
      "A: 0+0+0+0+0+0+1 = 1\n",
      "B: 0+0+0+0+0+0+1 = 1\n",
      "E0   =  -1\n",
      "E1*a =  -4900\n",
      "E    =  -4901\n",
      "------------------------------------------\n",
      "numbers =  [0 0 0 0 0 0 0 0 0 0 0 0 1 1]\n",
      "answer  =  [0 1 1 0 1 1 0 1 0 0 1 0 1 0]\n",
      "7 7\n",
      "A: 0+0+0+0+0+0+1 = 1\n",
      "B: 0+0+0+0+0+0+1 = 1\n",
      "E0   =  -1\n",
      "E1*a =  -4900\n",
      "E    =  -4901\n",
      "------------------------------------------\n",
      "numbers =  [0 0 0 0 0 0 0 0 0 0 0 0 1 1]\n",
      "answer  =  [0 1 1 1 0 1 0 0 1 0 1 1 0 0]\n",
      "7 7\n",
      "A: 0+0+0+0+0+1+1 = 2\n",
      "B: 0+0+0+0+0+0+0 = 0\n",
      "E0   =  0\n",
      "E1*a =  -4900\n",
      "E    =  -4900\n"
     ]
    }
   ],
   "source": [
    "# numbers = np.array([3,2,6,9,2,5,7,3,3,6,7,3,5,3,2,2,2,6,8,4,6,3,3,6,4,3,3,2,2,5,8,9])\n",
    "# numbers = np.array([3,2,6,9,2,5,7,3,3,6,7,3,5,3,2,2,2,6,8,4,6,3,3,6,4,3,3,2,2,5,8,9])\n",
    "numbers = np.array([0, 0, 0, 0, 0, 0, 0, 0, 0, 0, 0, 0, 1, 1])\n",
    "# numbers = np.array([1, 1, 1, 1, 2, 2])\n",
    "# numbers = np.array([2, 5, 8, 6, 7, 2, 3, 10, 4, 11])\n",
    "\n",
    "N = len(numbers)\n",
    "a.qubo = np.zeros((numbers.size,numbers.size))\n",
    "for i in range(numbers.size):\n",
    "    for j in range(numbers.size):\n",
    "        if i == j:\n",
    "            a.qubo[i][i]=numbers[i]**2-numbers.sum()*numbers[i] + alpha*(1 - N) \n",
    "        elif i<j:\n",
    "            a.qubo[i][j]=2*numbers[i] * numbers[j] + alpha*2\n",
    "\n",
    "for _ in range(10):\n",
    "    answer = np.array(a.sa())\n",
    "    group1_string = \"\"\n",
    "    group2_string = \"\"\n",
    "    group1_sum = 0\n",
    "    group2_sum = 0\n",
    "    for i in range(numbers.size):\n",
    "        if answer[i] == 0:\n",
    "            group1_string+= '+' + str(numbers[i])\n",
    "            group1_sum+=numbers[i]\n",
    "        else:\n",
    "            group2_string+= '+' + str(numbers[i])\n",
    "            group2_sum+=numbers[i]\n",
    "\n",
    "    print('------------------------------------------')\n",
    "    print('numbers = ', numbers)\n",
    "    print('answer  = ', answer)\n",
    "    print((answer == 1).sum(), (answer==0).sum())\n",
    "    print(\"A:\", group1_string[1:],\"=\",group1_sum)\n",
    "    print(\"B:\", group2_string[1:],\"=\",group2_sum)\n",
    "    E0 = (np.dot(numbers, answer))**2 - numbers.sum() * np.dot(numbers, answer)\n",
    "    E1 = ( (answer.sum())**2 - N*answer.sum() ) * alpha\n",
    "    E = E0 + E1\n",
    "    print('E0   = ', E0)\n",
    "    print(\"E1*a = \", E1)\n",
    "    print('E    = ', E)"
   ]
  },
  {
   "cell_type": "code",
   "execution_count": null,
   "metadata": {},
   "outputs": [],
   "source": []
  },
  {
   "cell_type": "code",
   "execution_count": null,
   "metadata": {},
   "outputs": [],
   "source": []
  }
 ],
 "metadata": {
  "colab": {
   "name": "example1_numberpartitioning_ja.ipynb",
   "provenance": [],
   "version": "0.3.2"
  },
  "kernelspec": {
   "display_name": "Python 3",
   "language": "python",
   "name": "python3"
  },
  "language_info": {
   "codemirror_mode": {
    "name": "ipython",
    "version": 3
   },
   "file_extension": ".py",
   "mimetype": "text/x-python",
   "name": "python",
   "nbconvert_exporter": "python",
   "pygments_lexer": "ipython3",
   "version": "3.6.7"
  }
 },
 "nbformat": 4,
 "nbformat_minor": 2
}
