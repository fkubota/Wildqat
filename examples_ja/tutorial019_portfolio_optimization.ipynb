{
  "nbformat": 4,
  "nbformat_minor": 0,
  "metadata": {
    "colab": {
      "name": "tutorial019_portfolio_optimization.ipynb",
      "version": "0.3.2",
      "provenance": []
    },
    "kernelspec": {
      "name": "python3",
      "display_name": "Python 3"
    }
  },
  "cells": [
    {
      "metadata": {
        "id": "vUO0DrZ2gpJR",
        "colab_type": "text"
      },
      "cell_type": "markdown",
      "source": [
        "#ポートフォリオ最適化問題\n",
        "金融資産運用モデルでもっともシンプルで計算しやすいモデルがポートフォリオ最適化問題です。今後のより複雑なモデルのために一旦ポートフォリオ最適化問題をWildqatで解いてみます。今回は銘柄数を指定して解いてみます。"
      ]
    },
    {
      "metadata": {
        "id": "d5ZFqonUgyR3",
        "colab_type": "text"
      },
      "cell_type": "markdown",
      "source": [
        "##ポートフォリオ最適化問題とは？\n",
        "資産運用の際に資産運用銘柄の選択をしますが、その銘柄の評価を過去のリターンと、銘柄間の相関関係によってリスクを割り出します。その中で銘柄数を指定しながら、過去のリターンと見込んだリスクの中で一番いい選択を計算で行います。"
      ]
    },
    {
      "metadata": {
        "id": "a-pwmVElg_wT",
        "colab_type": "text"
      },
      "cell_type": "markdown",
      "source": [
        "##リターンについて\n",
        "過去の傾向からリターンの値を出します。\n",
        "過去のデータが必要ですが、今回は金融データを参考にしたデモデータでやります。"
      ]
    },
    {
      "metadata": {
        "id": "-gGB2LfqhC_z",
        "colab_type": "text"
      },
      "cell_type": "markdown",
      "source": [
        "##リスクについて\n",
        "こちらは銘柄間の分散共分散というものを使いますが、主に相関関係を表す行列式が過去のデータから得られます。"
      ]
    },
    {
      "metadata": {
        "id": "AFLU6xz-hItB",
        "colab_type": "text"
      },
      "cell_type": "markdown",
      "source": [
        "##コスト関数\n",
        "ポートフォリオ最適化問題を解くためには、QUBOのコスト関数と呼ばれる最小化を行うための数式が必要となります。\n",
        "\n",
        "今回使用するコスト関数は下記の通りです。\n",
        "\n",
        "<img src=\"https://render.githubusercontent.com/render/math?math=E%20%3D%20-%5Csum%5Cmu_ix_i%20%2B%20%5Cgamma%5Csum%5Cdelta_%7Bij%7Dx_ix_j%2BB%5Cleft(%5Csum%20x_i-K%5Cright)%5E2\">\n",
        "\n",
        "\n",
        "ただし、xiはi番目の銘柄を選択したかしてないかの{0,1}のバイナリ値。μiはi番目の銘柄の過去のデータからの期待リターン、δijは銘柄iと銘柄jの相関（今回はこれでリスクを見込む）を表す係数。γはどれだけリスクを算定に組み込むかというハイパーパラメータです。\n",
        "\n",
        "また、最終項に調整パラメータBのついた銘柄数Kを指定するための制約条件が付いています。\n",
        "制約条件は選択されたxiの個数と指定銘柄数Kが同じになった時にコストが最小の0になるように設計されています。\n",
        "\n",
        "##例題\n",
        "早速今回は例題で行って見ます。6つの銘柄から2つの銘柄を選びながら、ダミーのリターンデータとリスクデータを使って最適化を行います。\n",
        "\n",
        "想定されるリターンは、\n",
        "\n",
        "<img src=\"./img/019_0.png\">\n",
        "\n",
        "をダミーデータとして使います。また、想定されるリスクは銘柄間の分散共分散で表現され、\n",
        "\n",
        "<img src=\"./img/019_1.png\">\n",
        "\n",
        "とします。早速これをWildqatで準備して見ます。numpyも使いやすいので入れておきます。"
      ]
    },
    {
      "metadata": {
        "id": "WPbJZpMui8Pw",
        "colab_type": "code",
        "colab": {}
      },
      "cell_type": "code",
      "source": [
        "import wildqat as wq\n",
        "import numpy as np\n",
        "a = wq.opt()"
      ],
      "execution_count": 0,
      "outputs": []
    },
    {
      "metadata": {
        "id": "meI9n8WJjAyS",
        "colab_type": "text"
      },
      "cell_type": "markdown",
      "source": [
        "準備ができました。\n",
        "\n",
        "次にまずリターンの行列を作ります。計算しやすいように対角項にいれた6*6の行列にしておきます。"
      ]
    },
    {
      "metadata": {
        "id": "9XOZ4TFhjHpM",
        "colab_type": "code",
        "colab": {
          "base_uri": "https://localhost:8080/",
          "height": 119
        },
        "outputId": "972d20a5-2867-4e46-cde5-dfb9bc8fa5d7"
      },
      "cell_type": "code",
      "source": [
        "ret = np.diag([-0.026,-0.031,-0.007,-0.022,-0.010,-0.055])\n",
        "print(ret)"
      ],
      "execution_count": 16,
      "outputs": [
        {
          "output_type": "stream",
          "text": [
            "[[-0.026  0.     0.     0.     0.     0.   ]\n",
            " [ 0.    -0.031  0.     0.     0.     0.   ]\n",
            " [ 0.     0.    -0.007  0.     0.     0.   ]\n",
            " [ 0.     0.     0.    -0.022  0.     0.   ]\n",
            " [ 0.     0.     0.     0.    -0.01   0.   ]\n",
            " [ 0.     0.     0.     0.     0.    -0.055]]\n"
          ],
          "name": "stdout"
        }
      ]
    },
    {
      "metadata": {
        "id": "uGC6JKYEjb-s",
        "colab_type": "text"
      },
      "cell_type": "markdown",
      "source": [
        "次にリターンを用意します。これはそのままになります。"
      ]
    },
    {
      "metadata": {
        "id": "If-m1F_CjHdy",
        "colab_type": "code",
        "colab": {
          "base_uri": "https://localhost:8080/",
          "height": 54
        },
        "outputId": "9727842b-252e-4984-e69b-13a518f53b4d"
      },
      "cell_type": "code",
      "source": [
        "ris = [[0,0.0015,0.0012,0.0018,0.0022,0.0012],[0,0,0.0017,0.0022,0.0005,0.0019],[0,0,0,0.0040,0.0032,0.0024],[0,0,0,0,0.0012,0.0076],[0,0,0,0,0,0.0021],[0,0,0,0,0,0]]\n",
        "\n",
        "print(ris)"
      ],
      "execution_count": 17,
      "outputs": [
        {
          "output_type": "stream",
          "text": [
            "[[0, 0.0015, 0.0012, 0.0018, 0.0022, 0.0012], [0, 0, 0.0017, 0.0022, 0.0005, 0.0019], [0, 0, 0, 0.004, 0.0032, 0.0024], [0, 0, 0, 0, 0.0012, 0.0076], [0, 0, 0, 0, 0, 0.0021], [0, 0, 0, 0, 0, 0]]\n"
          ],
          "name": "stdout"
        }
      ]
    },
    {
      "metadata": {
        "id": "l5OIEJTyleV6",
        "colab_type": "text"
      },
      "cell_type": "markdown",
      "source": [
        "この２つの行列を足し合わせますが、リスクの導入具合によって値が変わりますので、今回はガンマ=0.5としてみます。"
      ]
    },
    {
      "metadata": {
        "id": "lUudk7iclRyf",
        "colab_type": "code",
        "colab": {
          "base_uri": "https://localhost:8080/",
          "height": 119
        },
        "outputId": "39f5111e-1325-4535-8c59-60e2d3023c89"
      },
      "cell_type": "code",
      "source": [
        "a.qubo = ret + np.asarray(ris)*0.5\n",
        "print(a.qubo)"
      ],
      "execution_count": 20,
      "outputs": [
        {
          "output_type": "stream",
          "text": [
            "[[-0.026    0.00075  0.0006   0.0009   0.0011   0.0006 ]\n",
            " [ 0.      -0.031    0.00085  0.0011   0.00025  0.00095]\n",
            " [ 0.       0.      -0.007    0.002    0.0016   0.0012 ]\n",
            " [ 0.       0.       0.      -0.022    0.0006   0.0038 ]\n",
            " [ 0.       0.       0.       0.      -0.01     0.00105]\n",
            " [ 0.       0.       0.       0.       0.      -0.055  ]]\n"
          ],
          "name": "stdout"
        }
      ]
    },
    {
      "metadata": {
        "id": "XkS2Nu9-l8Jo",
        "colab_type": "text"
      },
      "cell_type": "markdown",
      "source": [
        "無事リターンとリスクを見込んだQUBOmatrixができました。"
      ]
    },
    {
      "metadata": {
        "id": "I5bMskkhl3Pg",
        "colab_type": "text"
      },
      "cell_type": "markdown",
      "source": [
        "#銘柄数を指定する\n",
        "最後に銘柄数を指定する必要があります。銘柄数の指定は上記コスト関数の第三項を使いますが、wildqatではN量子ビットからK量子ビットを選ぶという便利な関数があります。今回はこの制約条件式を導入してくわえてみると、"
      ]
    },
    {
      "metadata": {
        "id": "Sz1vh59SlStJ",
        "colab_type": "code",
        "colab": {
          "base_uri": "https://localhost:8080/",
          "height": 119
        },
        "outputId": "f065acd4-6c6d-49e0-e5fd-ccf73922e3c0"
      },
      "cell_type": "code",
      "source": [
        "a.qubo += wq.sel(6,2)\n",
        "print(a.qubo)"
      ],
      "execution_count": 25,
      "outputs": [
        {
          "output_type": "stream",
          "text": [
            "[[-6.026    4.00075  4.0006   4.0009   4.0011   4.0006 ]\n",
            " [ 0.      -6.031    4.00085  4.0011   4.00025  4.00095]\n",
            " [ 0.       0.      -6.007    4.002    4.0016   4.0012 ]\n",
            " [ 0.       0.       0.      -6.022    4.0006   4.0038 ]\n",
            " [ 0.       0.       0.       0.      -6.01     4.00105]\n",
            " [ 0.       0.       0.       0.       0.      -6.055  ]]\n"
          ],
          "name": "stdout"
        }
      ]
    },
    {
      "metadata": {
        "id": "CdPmcVcVmShE",
        "colab_type": "code",
        "colab": {
          "base_uri": "https://localhost:8080/",
          "height": 51
        },
        "outputId": "2c87136c-43ff-4890-e569-47e4d799953c"
      },
      "cell_type": "code",
      "source": [
        "a.sa()"
      ],
      "execution_count": 30,
      "outputs": [
        {
          "output_type": "stream",
          "text": [
            "1.5500259399414062\n"
          ],
          "name": "stdout"
        },
        {
          "output_type": "execute_result",
          "data": {
            "text/plain": [
              "[0, 1, 0, 0, 0, 1]"
            ]
          },
          "metadata": {
            "tags": []
          },
          "execution_count": 30
        }
      ]
    },
    {
      "metadata": {
        "id": "KEij7FQFmhzY",
        "colab_type": "text"
      },
      "cell_type": "markdown",
      "source": [
        "上記は0から数えて、1番目と5番目が1となりその他は0となっていますので、\n",
        "1番目と5番目の銘柄が選択されたことになります。\n",
        "\n",
        "ついでに計算過程のコストの変化を見て見ます。\n",
        "\n",
        "ここではmatplotlibというツールを使います。"
      ]
    },
    {
      "metadata": {
        "id": "4cxwz5UCmZkc",
        "colab_type": "code",
        "colab": {
          "base_uri": "https://localhost:8080/",
          "height": 347
        },
        "outputId": "9623960a-e53e-4f95-bee1-398bba9ba3b6"
      },
      "cell_type": "code",
      "source": [
        "a.plot()"
      ],
      "execution_count": 31,
      "outputs": [
        {
          "output_type": "display_data",
          "data": {
            "image/png": "[encoded data removed]",
            "text/plain": [
              "<matplotlib.figure.Figure at 0x7f15feaf3390>"
            ]
          },
          "metadata": {
            "tags": []
          }
        }
      ]
    },
    {
      "metadata": {
        "id": "Wb4FHAnqnFuc",
        "colab_type": "code",
        "colab": {
          "base_uri": "https://localhost:8080/",
          "height": 34
        },
        "outputId": "2b7fb1eb-2559-43c1-b684-84aa7043ef26"
      },
      "cell_type": "code",
      "source": [
        "print(a.E[-1])"
      ],
      "execution_count": 32,
      "outputs": [
        {
          "output_type": "stream",
          "text": [
            "-8.085050000000003\n"
          ],
          "name": "stdout"
        }
      ]
    },
    {
      "metadata": {
        "id": "Cu2WoKkmnM5N",
        "colab_type": "text"
      },
      "cell_type": "markdown",
      "source": [
        "エネルギーが上下しながら収束していくのが確認できました。以上です。"
      ]
    }
  ]
}
