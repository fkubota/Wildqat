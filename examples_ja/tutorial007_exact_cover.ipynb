{
 "cells": [
  {
   "cell_type": "markdown",
   "metadata": {},
   "source": [
    "# Exact Cover問題\n",
    "\n",
    "最初にExact Cover問題について説明します。\n",
    "\n",
    "ある自然数の集合Uを考えます。またその自然数を含むいくつかのグループ$V_{1}, V_{2}, \\ldots, V_{N}$を想定します。１つの自然数が複数のグループに属していても構いません。さて、そのグループ$V_{i}$からいくつかピックアップしたときに、それらに同じ自然数が複数回含まれず、Uに含まれる自然数セットと同じになるようにピックアップする問題をExact Cover問題といいます。\n",
    "さらに、選んだグループ数を最小になるようにするものを、Smallest Exact Coverといいます。"
   ]
  },
  {
   "cell_type": "markdown",
   "metadata": {},
   "source": [
    "## 準備"
   ]
  },
  {
   "cell_type": "markdown",
   "metadata": {},
   "source": [
    "これをwildqatを使用して解いてみます。\n",
    "wildqatがインストールされていない場合は、環境に併せて以下のようにインストールしてください。\n",
    "```bash\n",
    "pip install wildqat\n",
    "```"
   ]
  },
  {
   "cell_type": "markdown",
   "metadata": {},
   "source": [
    "必要なライブラリをimportし、wildqatオブジェクトをインスタンス化します。"
   ]
  },
  {
   "cell_type": "code",
   "execution_count": 1,
   "metadata": {},
   "outputs": [],
   "source": [
    "%matplotlib inline\n",
    "\n",
    "import numpy as np\n",
    "import matplotlib.pyplot as plt\n",
    "import wildqat as wq"
   ]
  },
  {
   "cell_type": "markdown",
   "metadata": {},
   "source": [
    "## QUBOの作成"
   ]
  },
  {
   "cell_type": "markdown",
   "metadata": {},
   "source": [
    "解きたい問題のQUBOマトリクスを作成します。\n",
    "\n",
    "最初に自然数の集合を $U = \\{1, \\ldots, n\\}$、グループを$V_{i} \\subseteq U(i=1, \\ldots, N)$とします。また、i番目のグループをピックアップしたかどうかを$x_{i} \\in \\{1, 0\\}$で表します。ピックアップされた場合は1、されなかった場合は0です。ここで、各自然数（αとします）についてピックアップされた1つのグループのみに含まれている場合に最小となるようなコスト関数$E_{A}$を考えます。\n",
    "\n",
    "この場合、\n",
    "\n",
    "$E_{A} = A \\sum _ { \\alpha = 1 } ^ { n } \\left( 1 - \\sum _ { i : \\alpha \\in V _ { i } } x _ { i } \\right) ^ { 2 }$\n",
    "\n",
    "とすると、各自然数αに対して1つのグループのみがピックアップされた場合、$E_{A} = 0$となります。\n",
    "\n",
    "これをQUBO形式に変換していきます。まず括弧の中を展開します。\n",
    "\n",
    "$E_{A} = A \\sum _ { \\alpha = 1 } ^ { n } \\{ 1 - 2\\sum _ { i : \\alpha \\in V _ { i } } x _ { i } + ( \\sum _ { i : \\alpha \\in V _ { i } } x _ { i } ) ^ { 2 } \\} $\n",
    "\n",
    "今回$E_{A}$を最小化する問題なので、定数である{}内の第一項は無視できます。\n",
    "第二項は、$x_{i} \\in {1,0}$であることを利用して、次のように書き換えることができます。\n",
    "\n",
    "$ - 2\\sum _ { i : \\alpha \\in V _ { i } } x _ { i } = - 2\\sum _ { i = j, i : \\alpha \\in V _ { i }, j : \\alpha \\in V _ { j } } x _ { i } x _ {j}$\n",
    "\n",
    "第三項についても、i = jの場合と、$i \\neq j$の場合に分けると、次の様に書き換えられます。\n",
    "\n",
    "$ ( \\sum _ { i : \\alpha \\in V _ { i } } x _ { i } ) ^ { 2 } = \\sum _ { i = j, i : \\alpha \\in V _ { i }, j : \\alpha \\in V _ { j } } x _ { i } x _ {j} + 2 \\sum _ { i \\neq j, i : \\alpha \\in V _ { i }, j : \\alpha \\in V _ { j } } x _ { i } x _ {j} $\n",
    "\n",
    "まとめると、\n",
    "\n",
    "$E_{A} = A \\sum _ { \\alpha = 1 } ^ { n } ( - \\sum _ { i = j, i : \\alpha \\in V _ { i }, j : \\alpha \\in V _ { j } } x _ { i } x _ {j} + 2 \\sum _ { i \\neq j, i : \\alpha \\in V _ { i }, j : \\alpha \\in V _ { j } } x _ { i } x _ {j} )$\n",
    "\n",
    "となり、QUBO形式にすることができました。"
   ]
  },
  {
   "cell_type": "code",
   "execution_count": 2,
   "metadata": {},
   "outputs": [],
   "source": [
    "U = [1,2,3,4,5,6,7,8,9,10]\n",
    "A = 1\n",
    "\n",
    "def get_qubo(V):\n",
    "    Q = np.zeros( (len(V), len(V)) )\n",
    "\n",
    "    for i in range(len(V)):\n",
    "        for j in range(len(V)):\n",
    "            for k in range(len(U)):\n",
    "                alpha = U[k]\n",
    "                in_Vi = V[i].count(alpha) > 0 #V[i]に存在しているか\n",
    "                in_Vj = V[j].count(alpha) > 0 #V[j]に存在しているか\n",
    "                if i == j and in_Vi:\n",
    "                    Q[i][j] += -1\n",
    "                elif i < j and in_Vi and in_Vj:\n",
    "                    Q[i][j] += 2\n",
    "\n",
    "    return Q * A"
   ]
  },
  {
   "cell_type": "markdown",
   "metadata": {},
   "source": [
    "また、結果を表示する関数を定義しておきます。"
   ]
  },
  {
   "cell_type": "code",
   "execution_count": 3,
   "metadata": {},
   "outputs": [],
   "source": [
    "def display_answer(list_x, energies = None, show_graph = False):\n",
    "    print(\"Result x:\", list_x)\n",
    "    text = \"\"\n",
    "    for i in range(len(list_x)):\n",
    "        if(list_x[i]):\n",
    "            text += str(V[i])\n",
    "    print(\"Picked {} group(s): {}\".format(sum(list_x), text))\n",
    "    if energies is not None:\n",
    "        print(\"Energy:\", a.E[-1])\n",
    "    if show_graph:\n",
    "        plt.plot(a.E)\n",
    "        plt.show()"
   ]
  },
  {
   "cell_type": "markdown",
   "metadata": {},
   "source": [
    "次の通り実行してみると、正しい答えが得られていることが分かります。"
   ]
  },
  {
   "cell_type": "code",
   "execution_count": 4,
   "metadata": {},
   "outputs": [
    {
     "name": "stdout",
     "output_type": "stream",
     "text": [
      "2.154728889465332\n",
      "Result x: [1, 1, 1, 0, 0]\n",
      "Picked 3 group(s): [1, 2][3, 4, 5, 6][7, 8, 9, 10]\n"
     ]
    }
   ],
   "source": [
    "V = [ [1,2], [3,4,5,6], [7,8,9,10], [1,3,5], [10] ]\n",
    "a = wq.opt()\n",
    "a.qubo = get_qubo(V)\n",
    "answer = a.sa()\n",
    "display_answer(answer)"
   ]
  },
  {
   "cell_type": "markdown",
   "metadata": {},
   "source": [
    "## Vをもう少し複雑にしてみる"
   ]
  },
  {
   "cell_type": "markdown",
   "metadata": {},
   "source": [
    "Vをもう少し複雑にして（2つグループを追加して）、実行してみます。"
   ]
  },
  {
   "cell_type": "code",
   "execution_count": 7,
   "metadata": {},
   "outputs": [
    {
     "name": "stdout",
     "output_type": "stream",
     "text": [
      "2.0433428287506104\n",
      "Result x: [0, 0, 0, 1, 1, 1, 1]\n",
      "Picked 4 group(s): [1, 3, 5][10][7, 9][2, 4, 6, 8]\n"
     ]
    }
   ],
   "source": [
    "V = [ [1,2], [3,4,5,6], [7,8,9,10], [1,3,5], [10], [7,9], [2,4,6,8] ]\n",
    "a = wq.opt()\n",
    "a.qubo = get_qubo(V)\n",
    "answer = a.sa()\n",
    "display_answer(answer)"
   ]
  },
  {
   "cell_type": "markdown",
   "metadata": {},
   "source": [
    "正しい答えが得られていることが分かります。"
   ]
  },
  {
   "cell_type": "markdown",
   "metadata": {},
   "source": [
    "## Smallest Exact Coverへの拡張"
   ]
  },
  {
   "cell_type": "markdown",
   "metadata": {},
   "source": [
    "さらにSmallest Exact Coverにも取り組んでみます。\n",
    "ピックアップされる数が最小にするためには、次の$E_{B}$を考えます。\n",
    "\n",
    "$ E _ { B } = B \\sum _ { i } x _ { i } $\n",
    "\n",
    "これも、$x_{i} \\in {1,0}$であることを利用して、次のように書き換えることができます\n",
    "\n",
    "$ E _ { B } = B \\sum _ { i, j : i = j } x _ { i } x _ {j} $\n",
    "\n",
    "そして、$E = E_{A} + E_{B}$が最小になるようにします。"
   ]
  },
  {
   "cell_type": "code",
   "execution_count": 8,
   "metadata": {},
   "outputs": [],
   "source": [
    "B = A / len(U) * 0.99\n",
    "def get_qubo_min(Q):\n",
    "    for i in range(len(V)):\n",
    "        Q[i][i] += B\n",
    "    return Q"
   ]
  },
  {
   "cell_type": "markdown",
   "metadata": {},
   "source": [
    "### 以前の実装で試す"
   ]
  },
  {
   "cell_type": "markdown",
   "metadata": {},
   "source": [
    "まずは、この拡張が含まれていない$ E _ {A} $だけの実装したもので5回実行してみます。\n",
    "\n",
    "結果をみると3つのグループと4つのグループがピックアップされた結果が混在しており、つねに最小数が選ばれている訳ではありません。"
   ]
  },
  {
   "cell_type": "code",
   "execution_count": 9,
   "metadata": {},
   "outputs": [
    {
     "name": "stdout",
     "output_type": "stream",
     "text": [
      "---1回目\n",
      "2.2751739025115967\n",
      "Result x: [0, 0, 0, 1, 1, 1, 1]\n",
      "Picked 4 group(s): [1, 2][3, 4][5, 6][7, 8, 9, 10]\n",
      "Energy: -10.0\n",
      "---2回目\n",
      "1.7684478759765625\n",
      "Result x: [1, 0, 0, 0, 0, 1, 1]\n",
      "Picked 3 group(s): [1, 2, 3, 4][5, 6][7, 8, 9, 10]\n",
      "Energy: -10.0\n",
      "---3回目\n",
      "1.7202730178833008\n",
      "Result x: [1, 0, 0, 0, 0, 1, 1]\n",
      "Picked 3 group(s): [1, 2, 3, 4][5, 6][7, 8, 9, 10]\n",
      "Energy: -10.0\n",
      "---4回目\n",
      "1.7342917919158936\n",
      "Result x: [0, 1, 1, 1, 1, 0, 0]\n",
      "Picked 4 group(s): [5, 6, 7, 8][9, 10][1, 2][3, 4]\n",
      "Energy: -10.0\n",
      "---5回目\n",
      "1.7140698432922363\n",
      "Result x: [0, 0, 0, 1, 1, 1, 1]\n",
      "Picked 4 group(s): [1, 2][3, 4][5, 6][7, 8, 9, 10]\n",
      "Energy: -10.0\n"
     ]
    }
   ],
   "source": [
    "V = [ [1,2,3,4], [5,6,7,8], [9,10], [1,2], [3,4], [5,6], [7,8,9,10]]\n",
    "\n",
    "for i in range(5):\n",
    "    print(\"---{}回目\".format(i+1))\n",
    "    a = wq.opt()\n",
    "    a.qubo = get_qubo(V)\n",
    "    answer = a.sa()\n",
    "    display_answer(answer, a.E)"
   ]
  },
  {
   "cell_type": "markdown",
   "metadata": {},
   "source": [
    "### 新しい実装で試す\n",
    "$ E _ {A} + E_{B}$となっている実装で試してみます。\n",
    "\n",
    "結果を見ると、概ね正しい答え（3つのグループ）が選ばれるようですが、まれに少しエネルギーの高い不正解（4つのグループ）の方が選ばれてしまいます。"
   ]
  },
  {
   "cell_type": "code",
   "execution_count": 12,
   "metadata": {},
   "outputs": [
    {
     "name": "stdout",
     "output_type": "stream",
     "text": [
      "---1回目\n",
      "1.775843858718872\n",
      "Result x: [1, 1, 1, 0, 0, 0, 0]\n",
      "Picked 3 group(s): [1, 2, 3, 4][5, 6, 7, 8][9, 10]\n",
      "Energy: -9.703\n",
      "---2回目\n",
      "1.897528886795044\n",
      "Result x: [0, 0, 0, 1, 1, 1, 1]\n",
      "Picked 4 group(s): [1, 2][3, 4][5, 6][7, 8, 9, 10]\n",
      "Energy: -9.604\n",
      "---3回目\n",
      "1.7409799098968506\n",
      "Result x: [1, 1, 1, 0, 0, 0, 0]\n",
      "Picked 3 group(s): [1, 2, 3, 4][5, 6, 7, 8][9, 10]\n",
      "Energy: -9.703\n",
      "---4回目\n",
      "1.7648088932037354\n",
      "Result x: [1, 0, 0, 0, 0, 1, 1]\n",
      "Picked 3 group(s): [1, 2, 3, 4][5, 6][7, 8, 9, 10]\n",
      "Energy: -9.703\n",
      "---5回目\n",
      "1.8045849800109863\n",
      "Result x: [1, 0, 0, 0, 0, 1, 1]\n",
      "Picked 3 group(s): [1, 2, 3, 4][5, 6][7, 8, 9, 10]\n",
      "Energy: -9.703\n"
     ]
    }
   ],
   "source": [
    "for i in range(5):\n",
    "    print(\"---{}回目\".format(i+1))\n",
    "    a = wq.opt()\n",
    "    a.qubo = get_qubo_min(get_qubo(V))\n",
    "    answer = a.sa()\n",
    "    display_answer(answer, a.E)"
   ]
  },
  {
   "cell_type": "markdown",
   "metadata": {},
   "source": [
    "### 意地悪ケース\n",
    "最後に意地悪なケースを試します。\n",
    "{1,2}{3}{4}{5}{6}{7}{8}{9}{10}が選ばれるのが正解です。\n",
    "\n",
    "結果を見ると、概ね正しい答えが選ばれるようですが、まれに少しエネルギーの高い不正解の方が選ばれてしまいます。"
   ]
  },
  {
   "cell_type": "code",
   "execution_count": 16,
   "metadata": {},
   "outputs": [
    {
     "name": "stdout",
     "output_type": "stream",
     "text": [
      "---1回目\n",
      "2.5378057956695557\n",
      "Result x: [1, 1, 1, 1, 1, 1, 1, 1, 1, 0]\n",
      "Picked 9 group(s): [1, 2][3][4][5][6][7][8][9][10]\n",
      "Energy: -9.108999999999998\n",
      "---2回目\n",
      "1.8387207984924316\n",
      "Result x: [1, 1, 1, 1, 1, 1, 1, 1, 1, 0]\n",
      "Picked 9 group(s): [1, 2][3][4][5][6][7][8][9][10]\n",
      "Energy: -9.108999999999998\n",
      "---3回目\n",
      "2.1590309143066406\n",
      "Result x: [0, 0, 0, 0, 0, 0, 0, 0, 0, 1]\n",
      "Picked 1 group(s): [2, 3, 4, 5, 6, 7, 8, 9, 10]\n",
      "Energy: -8.901\n",
      "---4回目\n",
      "1.750368595123291\n",
      "Result x: [1, 1, 1, 1, 1, 1, 1, 1, 1, 0]\n",
      "Picked 9 group(s): [1, 2][3][4][5][6][7][8][9][10]\n",
      "Energy: -9.108999999999998\n",
      "---5回目\n",
      "2.4671621322631836\n",
      "Result x: [1, 1, 1, 1, 1, 1, 1, 1, 1, 0]\n",
      "Picked 9 group(s): [1, 2][3][4][5][6][7][8][9][10]\n",
      "Energy: -9.108999999999998\n"
     ]
    }
   ],
   "source": [
    "V = [ [1,2], [3], [4], [5], [6], [7], [8], [9], [10], [2,3,4,5,6,7,8,9,10]]\n",
    "for i in range(5):\n",
    "    print(\"---{}回目\".format(i+1))\n",
    "    a = wq.opt()\n",
    "    a.qubo = get_qubo_min(get_qubo(V))\n",
    "    answer = a.sa()\n",
    "    display_answer(answer, a.E)"
   ]
  },
  {
   "cell_type": "code",
   "execution_count": null,
   "metadata": {},
   "outputs": [],
   "source": []
  }
 ],
 "metadata": {
  "kernelspec": {
   "display_name": "Python 3",
   "language": "python",
   "name": "python3"
  },
  "language_info": {
   "codemirror_mode": {
    "name": "ipython",
    "version": 3
   },
   "file_extension": ".py",
   "mimetype": "text/x-python",
   "name": "python",
   "nbconvert_exporter": "python",
   "pygments_lexer": "ipython3",
   "version": "3.5.2"
  }
 },
 "nbformat": 4,
 "nbformat_minor": 2
}
