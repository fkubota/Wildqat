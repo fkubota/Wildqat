{
 "cells": [
  {
   "cell_type": "markdown",
   "metadata": {
    "colab_type": "text",
    "id": "WBR-Vd1FcBF1"
   },
   "source": [
    "# 自然数分割問題を計算する\n",
    "\n",
    "自然数分割問題とは、ある自然数の集合を２つのグループA, Bに分割し、それぞれのグループ内の自然数の和が同じになるような分割方法を探す問題です。\n",
    "これをwildqatを使用して解いてみます。\n",
    "\n",
    "\n",
    "wildqatがインストールされていない場合は、環境に併せて以下のようにインストールしてください。\n",
    "\n"
   ]
  },
  {
   "cell_type": "code",
   "execution_count": 1,
   "metadata": {
    "colab": {},
    "colab_type": "code",
    "id": "pMkrUpQgb5yC"
   },
   "outputs": [
    {
     "name": "stdout",
     "output_type": "stream",
     "text": [
      "Collecting wildqat\n",
      "  Downloading https://files.pythonhosted.org/packages/18/20/babcd0cabd564903f7dc5430a022bd5cf6cc9f440bdbb268318b9f261908/wildqat-1.1.9.tar.gz\n",
      "Collecting numpy==1.15.1 (from wildqat)\n",
      "\u001b[?25l  Downloading https://files.pythonhosted.org/packages/fe/94/7049fed8373c52839c8cde619acaf2c9b83082b935e5aa8c0fa27a4a8bcc/numpy-1.15.1-cp36-cp36m-manylinux1_x86_64.whl (13.9MB)\n",
      "\u001b[K     |████████████████████████████████| 13.9MB 6.7MB/s \n",
      "\u001b[?25hRequirement already satisfied: matplotlib==3.0.0 in /usr/local/lib/python3.6/dist-packages (from wildqat) (3.0.0)\n",
      "Collecting networkx==2.2 (from wildqat)\n",
      "\u001b[?25l  Downloading https://files.pythonhosted.org/packages/f3/f4/7e20ef40b118478191cec0b58c3192f822cace858c19505c7670961b76b2/networkx-2.2.zip (1.7MB)\n",
      "\u001b[K     |████████████████████████████████| 1.7MB 13.7MB/s \n",
      "\u001b[?25hRequirement already satisfied: pyparsing!=2.0.4,!=2.1.2,!=2.1.6,>=2.0.1 in /usr/local/lib/python3.6/dist-packages (from matplotlib==3.0.0->wildqat) (2.2.2)\n",
      "Requirement already satisfied: kiwisolver>=1.0.1 in /usr/local/lib/python3.6/dist-packages (from matplotlib==3.0.0->wildqat) (1.0.1)\n",
      "Requirement already satisfied: cycler>=0.10 in /usr/local/lib/python3.6/dist-packages (from matplotlib==3.0.0->wildqat) (0.10.0)\n",
      "Requirement already satisfied: python-dateutil>=2.1 in /usr/local/lib/python3.6/dist-packages (from matplotlib==3.0.0->wildqat) (2.7.3)\n",
      "Requirement already satisfied: decorator>=4.3.0 in /usr/local/lib/python3.6/dist-packages (from networkx==2.2->wildqat) (4.4.0)\n",
      "Requirement already satisfied: setuptools in /usr/lib/python3/dist-packages (from kiwisolver>=1.0.1->matplotlib==3.0.0->wildqat) (20.7.0)\n",
      "Requirement already satisfied: six in /usr/local/lib/python3.6/dist-packages (from cycler>=0.10->matplotlib==3.0.0->wildqat) (1.11.0)\n",
      "Building wheels for collected packages: wildqat, networkx\n",
      "  Building wheel for wildqat (setup.py) ... \u001b[?25ldone\n",
      "\u001b[?25h  Stored in directory: /home/user/.cache/pip/wheels/bc/b5/17/e68df34616a7719b1aa093d9aacdf006fe5a1640811e0ae942\n",
      "  Building wheel for networkx (setup.py) ... \u001b[?25ldone\n",
      "\u001b[?25h  Stored in directory: /home/user/.cache/pip/wheels/68/f8/29/b53346a112a07d30a5a84d53f19aeadaa1a474897c0423af91\n",
      "Successfully built wildqat networkx\n",
      "Installing collected packages: numpy, networkx, wildqat\n",
      "  Found existing installation: numpy 1.15.2\n",
      "    Uninstalling numpy-1.15.2:\n",
      "\u001b[31mERROR: Could not install packages due to an EnvironmentError: [Errno 13] Permission denied: '/usr/local/bin/f2py'\n",
      "Consider using the `--user` option or check the permissions.\n",
      "\u001b[0m\n"
     ]
    }
   ],
   "source": [
    "!pip3 install wildqat"
   ]
  },
  {
   "cell_type": "markdown",
   "metadata": {
    "colab_type": "text",
    "id": "VWDd6GlHpnQb"
   },
   "source": [
    "必要なライブラリをimportし、wildqatオブジェクトをインスタンス化します。"
   ]
  },
  {
   "cell_type": "code",
   "execution_count": 1,
   "metadata": {
    "colab": {},
    "colab_type": "code",
    "id": "Giyn1-GNcIZ0"
   },
   "outputs": [],
   "source": [
    "import wildqat as wq\n",
    "import numpy as np\n",
    "a = wq.opt()"
   ]
  },
  {
   "cell_type": "markdown",
   "metadata": {
    "colab_type": "text",
    "id": "V1qLi57eeO8l"
   },
   "source": [
    "\n",
    "解きたい問題のQUBOマトリクスを作成します。\n",
    "N個の自然数の$i$番目の自然数を$n_i$とし、その自然数がどちらのグループに属するかを$q_i$で表します。\n",
    "$n_i$がグループAに属する時には\n",
    "$q_i=1$、グループBに属する時には$q_i=0$とします。\n",
    "ここで、２つのグループ内のそれぞれの和が等しい時に最小となるようなコスト関数$E$を考えます。\n",
    "\n",
    "この場合、\n",
    "\n",
    "　$E=\\{\\sum_{i=1}^{N}n_i*(2q_i-1)\\}^2$ \n",
    "\n",
    "とすれば、自然数$n_i$がグループＡに属するとき$2q_i-1=1$、グループBに属するとき$2q_i-1=-1$\n",
    "になりますので、グループＡとグループＢに属する自然数の和が等しいときに\n",
    "$E=0$になり、異なると$E>0$になります。\n",
    "\n",
    "展開すると、\n",
    "\n",
    "　$E=(\\sum_{i=1}^{N}2n_iq_i)^2 -  2(\\sum_{i=1}^{N}2n_iq_i)(\\sum_{j=1}^{N}n_j) + (\\sum_{i=1}^{N}n_i)^2$ \n",
    "\n",
    "コスト関数Eは最小化すれば良いので、最後の定数項は要らなくなります。またコスト関数は大きさのみ関係あるので、全体を４で割って\n",
    "\n",
    "　$E=(\\sum_{i=1}^{N}n_iq_i)^2 - \\sum_{i=1}^{N}n_iq_i\\sum_{j=1}^{N}n_j$ \n",
    "\n",
    "また、$q_i=1$または$q_i=0$のとき、$q_i^2=q_i$です。また、$\\sum_{j=1}^N{n_j}$ はnの総和で定数ですので、\n",
    "$n_{sum}$とします。さらに展開して整理すると</br>\n",
    "\n",
    "　$E=\\sum_{i=1}^{N}(n_i^2 - n_{sum}n_i)q_i +2 \\sum_{i < j}n_in_jq_iq_j$ \n",
    "\n",
    "これを行列表記すると下記のようになります。\n",
    "\n",
    "　$qubo = \\left[\\begin{array}{rrrrr}n_1^2 - n_{sum}n_1 & 2n_1n_2 & 2n_1n_3 & 2n_1n_4 & ...\\\\ 0 & n_2^2 - n_{sum}n_2 & 2n_2n_3& 2n_2n_4 &...\\\\ 0 & 0 & n_3^2 - n_{sum}n_3 & 2n_3n_4 & ...\\\\ 0 & 0 & 0 & n_4^2 - n_{sum}n_4 & ...\\\\ ... & ... & ... & ... &... \\end{array} \\right]$ \n",
    "\n",
    "これをpythonプログラムで書き、シミュレータを実行して結果を得ます。"
   ]
  },
  {
   "cell_type": "code",
   "execution_count": 2,
   "metadata": {
    "colab": {},
    "colab_type": "code",
    "id": "1wqDGvAheHnd"
   },
   "outputs": [],
   "source": [
    "numbers = np.array([3,2,6,9,2,5,7,3,3,6,7,3,5,3,2,2,2,6,8,4,6,3,3,6,4,3,3,2,2,5,8,9])\n",
    "a.qubo = np.zeros((numbers.size,numbers.size))\n",
    "for i in range(numbers.size):\n",
    "  for j in range(numbers.size):\n",
    "    if i == j:\n",
    "      a.qubo[i][i]=numbers[i]**2-numbers.sum()*numbers[i]\n",
    "    elif i<j:\n",
    "      a.qubo[i][j]=2*numbers[i] * numbers[j]\n",
    "answer = a.sa()"
   ]
  },
  {
   "cell_type": "markdown",
   "metadata": {
    "colab_type": "text",
    "id": "MJuEqL6VRptU"
   },
   "source": [
    "得られた結果を表示してみます。\n",
    "自然数が２つのグループに分けられ、和が等しくなっています。"
   ]
  },
  {
   "cell_type": "code",
   "execution_count": 3,
   "metadata": {
    "colab": {},
    "colab_type": "code",
    "id": "laK0z-S3Rnkm"
   },
   "outputs": [
    {
     "name": "stdout",
     "output_type": "stream",
     "text": [
      "2+2+5+7+3+7+5+3+2+2+8+4+6+4+3+8 = 71\n",
      "3+6+9+3+6+3+2+6+3+3+6+3+2+2+5+9 = 71\n"
     ]
    }
   ],
   "source": [
    "group1_string = \"\"\n",
    "group2_string = \"\"\n",
    "group1_sum = 0\n",
    "group2_sum = 0\n",
    "for i in range(numbers.size):\n",
    "  if answer[i] == 0:\n",
    "    group1_string+= '+' + str(numbers[i])\n",
    "    group1_sum+=numbers[i]\n",
    "  else:\n",
    "    group2_string+= '+' + str(numbers[i])\n",
    "    group2_sum+=numbers[i]\n",
    "\n",
    "print(group1_string[1:],\"=\",group1_sum)\n",
    "print(group2_string[1:],\"=\",group1_sum)"
   ]
  },
  {
   "cell_type": "code",
   "execution_count": null,
   "metadata": {},
   "outputs": [],
   "source": []
  }
 ],
 "metadata": {
  "colab": {
   "name": "example1_numberpartitioning_ja.ipynb",
   "provenance": [],
   "version": "0.3.2"
  },
  "kernelspec": {
   "display_name": "Python 3",
   "language": "python",
   "name": "python3"
  },
  "language_info": {
   "codemirror_mode": {
    "name": "ipython",
    "version": 3
   },
   "file_extension": ".py",
   "mimetype": "text/x-python",
   "name": "python",
   "nbconvert_exporter": "python",
   "pygments_lexer": "ipython3",
   "version": "3.6.7"
  }
 },
 "nbformat": 4,
 "nbformat_minor": 2
}
