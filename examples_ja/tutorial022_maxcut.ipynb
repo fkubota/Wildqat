{
  "nbformat": 4,
  "nbformat_minor": 0,
  "metadata": {
    "colab": {
      "name": "tutorial022_maxcut",
      "version": "0.3.2",
      "provenance": []
    },
    "kernelspec": {
      "name": "python3",
      "display_name": "Python 3"
    }
  },
  "cells": [
    {
      "metadata": {
        "id": "W8ABqYBVVWte",
        "colab_type": "text"
      },
      "cell_type": "markdown",
      "source": [
        "#maxcut\n",
        "頂点を２つのグループに分けるような辺の切り方のうち、一番最大数のものを探します。イジング問題で解くときには、隣り合う頂点同士がなるべく異なる符号に落ちるようにエネルギー関数の最小値を探していきます。今回、ノード間のエッジの重みは1として固定し、maxcutをときます。"
      ]
    },
    {
      "metadata": {
        "id": "qDMqwQM30Xkb",
        "colab_type": "text"
      },
      "cell_type": "markdown",
      "source": [
        "##maxcutの例題\n",
        "例題として5ノード、6エッジの下記のようなグラフを解いてみます。\n",
        "ノード間のエッジの重みはすべて+1とします。"
      ]
    },
    {
      "metadata": {
        "id": "pu0aQ7u10ZJB",
        "colab_type": "code",
        "colab": {
          "base_uri": "https://localhost:8080/",
          "height": 478
        },
        "outputId": "ea71062f-372c-4467-bf8a-2d1bfb087c12"
      },
      "cell_type": "code",
      "source": [
        "import networkx as nx\n",
        "import matplotlib.pyplot as plt\n",
        "\n",
        "options = {'node_color': '#efefef','node_size': 1200,'with_labels':'True'}\n",
        "\n",
        "G = nx.Graph()\n",
        "G.add_nodes_from([0,1,2,3,4])\n",
        "G.add_edges_from([(0,1),(0,3),(1,2),(2,3),(2,4),(3,4)])\n",
        "nx.draw(G, **options)"
      ],
      "execution_count": 2,
      "outputs": [
        {
          "output_type": "display_data",
          "data": {
            "image/png": "[encoded data removed]",
            "text/plain": [
              "<Figure size 576x396 with 1 Axes>"
            ]
          },
          "metadata": {
            "tags": []
          }
        }
      ]
    },
    {
      "metadata": {
        "id": "Ops9t-5ZVaWW",
        "colab_type": "text"
      },
      "cell_type": "markdown",
      "source": [
        "maxcutのコスト関数一般式は、頂点の量子ビットが{-1,1}をとりうるとして、\n",
        "\n",
        "<img class=\"math math-inline\" src=\"https://render.githubusercontent.com/render/math?math=E%20%3D%20-%5Csum_%7Bi%2Cj%7D%20%5Cfrac%7B1%7D%7B2%7D(1-q_iq_j)\">\n",
        "\n",
        "ノードが等しいとコストが高くなるようになっています。今回は５ノードあるので、コスト関数は下記のように代入できます。\n",
        "\n",
        "<img src=\"https://render.githubusercontent.com/render/math?math=E%20%3D%20-%5Cfrac%7B1%7D%7B2%7D%5Cbigl%5B(1-q_0q_1)%2B(1-q_0q_3)%2B(1-q_1q_2)%2B(1-q_2q_3)%2B(1-q_3q_4)%2B(1-q_2q_4)%20%20%5Cbigr%5D%5C%5C%0D%0A%3D%5Cfrac%7B1%7D%7B2%7D(q_0q_1%2Bq_0q_3%2Bq_1q_2%2Bq_2q_3%2Bq_3q_4%2Bq_2q_4)-3\">\n",
        "\n",
        "こちらをイジングに入れて計算します。普段はQUBOで{0,1}で計算を行いますが、今回は{-1,1}のまま計算して見ます。\n"
      ]
    },
    {
      "metadata": {
        "id": "EBM3oJgSVSTA",
        "colab_type": "code",
        "colab": {}
      },
      "cell_type": "code",
      "source": [
        "!pip install -U wildqat"
      ],
      "execution_count": 0,
      "outputs": []
    },
    {
      "metadata": {
        "id": "GbxWr2CKIFNE",
        "colab_type": "code",
        "colab": {
          "base_uri": "https://localhost:8080/",
          "height": 51
        },
        "outputId": "c616d948-e826-49a3-af46-4389bb239bb8"
      },
      "cell_type": "code",
      "source": [
        "import wildqat as wq\n",
        "import numpy as np\n",
        "a = wq.opt()\n",
        "a.J = [[0,0.5,0,0.5,0],[0,0,0.5,0,0],[0,0,0,0.5,0.5],[0,0,0,0,0.5],[0,0,0,0,0]]\n",
        "a.sa()"
      ],
      "execution_count": 0,
      "outputs": [
        {
          "output_type": "stream",
          "text": [
            "1.5964267253875732\n"
          ],
          "name": "stdout"
        },
        {
          "output_type": "execute_result",
          "data": {
            "text/plain": [
              "[1, 0, 1, 0, 0]"
            ]
          },
          "metadata": {
            "tags": []
          },
          "execution_count": 6
        }
      ]
    },
    {
      "metadata": {
        "id": "E5HHkYBTVZEk",
        "colab_type": "text"
      },
      "cell_type": "markdown",
      "source": [
        "上記ノードは0番目と2番目が1、その他が0なので、これでとけました。\n",
        "\n",
        "<img src=\"./img/022_1.png\">\n",
        "\n",
        "上記のように分割できます。\n",
        "以上でmaxcutがとけました。"
      ]
    }
  ]
}
