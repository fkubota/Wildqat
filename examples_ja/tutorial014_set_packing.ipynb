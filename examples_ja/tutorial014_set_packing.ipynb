{
 "cells": [
  {
   "cell_type": "markdown",
   "metadata": {},
   "source": [
    "# Set Packing問題\n",
    "この問題は[Exact Cover](tutorial007_exact_cover.ipynb)問題と似ています。\n",
    "\n",
    "ある自然数の集合Uを考えます。またその自然数を含むいくつかのグループ$V_{1}, V_{2}, \\ldots, V_{N}$を想定します。１つの自然数が複数のグループに属していても構いません。さて、そのグループ$V_{i}$からいくつかピックアップしたときに、それらに同じ自然数が複数回含まれず、Uに含まれる自然数セットと同じになるようにピックアップする問題がExact Cover問題でした。このとき、選んだグループ数が最大になるように選ぶ問題をSet Packing問題といいます。"
   ]
  },
  {
   "cell_type": "markdown",
   "metadata": {},
   "source": [
    "## 準備\n",
    "これをwildqatを使用して解いてみます。\n",
    "wildqatがインストールされていない場合は、環境に併せて以下のようにインストールしてください。\n",
    "```bash\n",
    "pip install wildqat\n",
    "```"
   ]
  },
  {
   "cell_type": "markdown",
   "metadata": {},
   "source": [
    "必要なライブラリをimportし、wildqatオブジェクトをインスタンス化します。"
   ]
  },
  {
   "cell_type": "code",
   "execution_count": 1,
   "metadata": {},
   "outputs": [],
   "source": [
    "%matplotlib inline\n",
    "\n",
    "import numpy as np\n",
    "import matplotlib.pyplot as plt\n",
    "import wildqat as wq"
   ]
  },
  {
   "cell_type": "markdown",
   "metadata": {},
   "source": [
    "## QUBOの作成\n",
    "解きたい問題のコスト関数は\n",
    "\n",
    "$ E = E_{A} + E_{B} $\n",
    "\n",
    "で、$E_{A}, E_{B}$はそれぞれ、\n",
    "\n",
    "$ E _ { A } = A \\sum _ { i , j : V _ { i } \\cap V _ { j } \\neq \\emptyset } x _ { i } x _ { j }$\n",
    "\n",
    "$E _ { B } = - B \\sum _ { i } x _ { i }$\n",
    "\n",
    "と定義されています。\n",
    "\n",
    "まず、$E_{A}$は、$i \\not= j$である$V_{i}, V_{j}$を選んだときに、重複する自然数があったばあいにペナルティを与えることを意味しています。また、$E_{B}$は最も多く選択されている場合に、コストが低くなることを意味しています。\n",
    "\n",
    "係数$A, B$については、1つ多く選ぶ（コストがB下がる）より、重複がない（1つ重複があるとコストがA上がる）ことを優先したいので、$A > B$である必要があります。\n",
    "\n",
    "これをコードにすると次の通りです。"
   ]
  },
  {
   "cell_type": "code",
   "execution_count": 2,
   "metadata": {},
   "outputs": [],
   "source": [
    "A = 1.0\n",
    "B = 0.9\n",
    "\n",
    "def get_qubo(V):\n",
    "    Q = np.zeros( (len(V), len(V)) )\n",
    "\n",
    "    for i in range(len(V)):\n",
    "        for j in range(i, len(V)):\n",
    "            if i == j:\n",
    "                Q[i][j] += -B\n",
    "            elif len(V[i]) + len(V[j]) != len( set(V[i]) | set(V[j]) ):\n",
    "                Q[i][j] +=  A\n",
    "\n",
    "    return Q"
   ]
  },
  {
   "cell_type": "markdown",
   "metadata": {},
   "source": [
    "また、結果を表示する関数も定義しておきましょう。"
   ]
  },
  {
   "cell_type": "code",
   "execution_count": 3,
   "metadata": {},
   "outputs": [],
   "source": [
    "def show_answer(list_x, energies = None, show_graph = False):\n",
    "    print(\"Result x:\", list_x)\n",
    "    text = \"\"\n",
    "    for i in range(len(list_x)):\n",
    "        if(list_x[i]):\n",
    "            text += str(V[i])\n",
    "    print(\"Picked {} group(s): {}\".format(sum(list_x), text))\n",
    "    if energies is not None:\n",
    "        print(\"Energy:\", a.E[-1])\n",
    "    if show_graph:\n",
    "        plt.plot(a.E)\n",
    "        plt.show()"
   ]
  },
  {
   "cell_type": "markdown",
   "metadata": {},
   "source": [
    "次の通り実行してみます"
   ]
  },
  {
   "cell_type": "code",
   "execution_count": 10,
   "metadata": {
    "scrolled": true
   },
   "outputs": [
    {
     "name": "stdout",
     "output_type": "stream",
     "text": [
      "---1回目\n",
      "1.804011583328247\n",
      "Result x: [0, 0, 0, 1, 1, 1, 1, 0]\n",
      "Picked 4 group(s): [1, 3, 5][10][7, 9][2, 4, 6, 8]\n",
      "Energy: -3.6000000000000005\n",
      "---2回目\n",
      "1.720658779144287\n",
      "Result x: [1, 1, 0, 0, 1, 1, 0, 0]\n",
      "Picked 4 group(s): [1, 2][3, 4, 5, 6][10][7, 9]\n",
      "Energy: -3.5999999999999996\n",
      "---3回目\n",
      "1.751054048538208\n",
      "Result x: [0, 0, 0, 1, 1, 1, 1, 0]\n",
      "Picked 4 group(s): [1, 3, 5][10][7, 9][2, 4, 6, 8]\n",
      "Energy: -3.6000000000000005\n",
      "---4回目\n",
      "2.076296091079712\n",
      "Result x: [0, 0, 0, 1, 1, 1, 1, 0]\n",
      "Picked 4 group(s): [1, 3, 5][10][7, 9][2, 4, 6, 8]\n",
      "Energy: -3.6000000000000005\n",
      "---5回目\n",
      "2.0937278270721436\n",
      "Result x: [1, 1, 0, 0, 1, 1, 0, 0]\n",
      "Picked 4 group(s): [1, 2][3, 4, 5, 6][10][7, 9]\n",
      "Energy: -3.5999999999999996\n"
     ]
    }
   ],
   "source": [
    "V = [ [1,2], [3,4,5,6], [7,8,9,10], [1,3,5], [10], [7,9], [2,4,6,8], [1,2,3,4,5,6,8,10] ]\n",
    "for i in range(5):\n",
    "    print(\"---{}回目\".format(i+1))\n",
    "    a = wq.opt()\n",
    "    a.qubo = get_qubo(V)\n",
    "    answer = a.sa()\n",
    "    show_answer(answer, a.E)"
   ]
  },
  {
   "cell_type": "markdown",
   "metadata": {},
   "source": [
    "正しい答えは、{1,3,5},{10},{7,9},{2,4,6,8}ですが、時々ややコストが高い間違った答えが選ばれてしまいます。"
   ]
  },
  {
   "cell_type": "markdown",
   "metadata": {},
   "source": [
    "## Maximal Independent Set (MIS)問題との相似性\n",
    "なお、この問題は、グラフ理論におけるMIS問題と同じ問題になります。\n",
    "MIS問題とは、無向グラフの頂点を線で結んだうえで、線で結ばれた2つの頂点の両方に色を塗らないようにしつつ、できるだけたくさんの頂点に色を塗る問題です。"
   ]
  },
  {
   "cell_type": "code",
   "execution_count": null,
   "metadata": {},
   "outputs": [],
   "source": []
  }
 ],
 "metadata": {
  "kernelspec": {
   "display_name": "Python 3",
   "language": "python",
   "name": "python3"
  },
  "language_info": {
   "codemirror_mode": {
    "name": "ipython",
    "version": 3
   },
   "file_extension": ".py",
   "mimetype": "text/x-python",
   "name": "python",
   "nbconvert_exporter": "python",
   "pygments_lexer": "ipython3",
   "version": "3.6.5"
  }
 },
 "nbformat": 4,
 "nbformat_minor": 2
}
