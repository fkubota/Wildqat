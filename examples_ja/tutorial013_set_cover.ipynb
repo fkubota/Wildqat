{
 "cells": [
  {
   "cell_type": "markdown",
   "metadata": {},
   "source": [
    "# Set Cover問題\n",
    "\n",
    "Set Cover問題の問題設定はExact Cover問題と似ています。  \n",
    "集合$U$とその部分集合族$V$があるとき、和集合が$U$と一致するような$W\\subseteq V$の中で、$W$の要素数が最小となるような$W$の選び方を考えます。  \n",
    "Exact Cover問題では$W$の中に$U$の要素が重複しないものを考えていましたが、Set Cover問題ではこれを許容します。  \n",
    "例えば  \n",
    "$U = \\{ 0, 1, 2, 3, 4, 5\\}$  \n",
    "$V = \\{\\{0\\},\\{1\\},\\{2\\},\\{3\\},\\{4\\},\\{5\\},\\{0,1,2,3\\},\\{2,3,4,5\\}\\}$  \n",
    "が与えられた時、Exact Cover問題では  \n",
    "$W = \\{\\{0\\},\\{1\\},\\{2\\},\\{3\\},\\{4\\},\\{5\\}\\}$  \n",
    "が望ましい解でしたが、Set Cover問題では  \n",
    "$W = \\{\\{0,1,2,3\\},\\{2,3,4,5\\}\\}$  \n",
    "が望ましい解となります。  \n",
    "\n",
    "# ハミルトニアン\n",
    "\n",
    "ハミルトニアンは次の論文を参考にします( https://arxiv.org/abs/1302.5843 )。  \n",
    "$H = H _ A + H _ B$  \n",
    "$\\displaystyle H _ { A }= A \\sum _ { \\alpha = 1 } ^ { n }\\left( 1 - \\sum _ { m = 1 } ^ { N } x _ { \\alpha , m } \\right) ^ { 2 }+ A \\sum _ { \\alpha = 1 } ^ { n } \\left( \\sum _ { m = 1 } ^ { N } m x _ { \\alpha , m } - \\sum _ { i : \\alpha \\in V_i } x_i \\right) ^ { 2 }$  \n",
    "$\\displaystyle H_B = B \\sum _ { i = 1 } ^ { N } x_i$  \n",
    "$H_A$は$\\alpha \\in U$が選択した$W$の中に少なくとも一度は現れることを保証するための制約関数、  \n",
    "$H_B$は$W$の要素数を最小とするための目的関数です。  \n",
    "このハミルトニアン$H$を最小化するような解を求めます。  \n",
    "以下でもう少し詳しく中身を見ていきますが、少し長いので不要な方はスキップして下さい。"
   ]
  },
  {
   "cell_type": "markdown",
   "metadata": {},
   "source": [
    "## ハミルトニアン詳細\n",
    "\n",
    "ハミルトニアンの中には2種類の変数$x_i$と$x_{\\alpha , m}$が登場します。  \n",
    "$x_i$は$V_i$を解として選択したかどうかを表します。つまり、   \n",
    "$\n",
    "x_i =\n",
    "\\begin{cases}\n",
    "     1 & (V_i \\in W) \\\\\n",
    "     0 & (otherwise)\n",
    "\\end{cases}\n",
    "$  \n",
    "となります。これがこの問題で求めたい解そのものとなります。  \n",
    "  \n",
    "一方$x_{\\alpha , m}$は制約関数を表現するための補助変数です。  \n",
    "$\\alpha \\in U$が解$W$の中に$m$回現れる時に$x_{\\alpha , m} = 1$となります。  \n",
    "少しわかりづらいですが、上記の例($W = \\{\\{ 0,1,2,3 \\},\\{2,3,4,5\\}\\}$)で確認してみると  \n",
    "$W$の中に$0, 1, 4, 5 \\in U$は1つずつ、$2,3 \\in U$は2つずつ含まれているので  \n",
    "$\\begin{align*}\n",
    "x_{0,1} &= 1 , \\quad x_{0, m \\neq 1} = 0 \\\\\n",
    "x_{1,1} &= 1 , \\quad x_{1, m \\neq 1} = 0 \\\\\n",
    "x_{4,1} &= 1 , \\quad x_{4, m \\neq 1} = 0 \\\\\n",
    "x_{5,1} &= 1 , \\quad x_{5, m \\neq 1} = 0 \\\\\n",
    "x_{2,2} &= 1 , \\quad x_{2, m \\neq 2} = 0 \\\\\n",
    "x_{3,2} &= 1 , \\quad x_{3, m \\neq 2} = 0\n",
    "\\end{align*}$  \n",
    "となります。  "
   ]
  },
  {
   "cell_type": "markdown",
   "metadata": {},
   "source": [
    "## $H_A$について\n",
    "$H_A$は解$W$の中に$\\alpha \\in U$が全て含まれていることを保証するための項となります。  \n",
    "$x_{\\alpha , m}$は$x_i$が問題の条件を満たしているかどうかを確認するための補助変数ということになります。  \n",
    "  \n",
    "$H_A$の第一項は$x_{\\alpha, m}$が各$\\alpha$についてただひとつの$m$で$x_{\\alpha, m} = 1$となるような制約項です。  \n",
    "このときこの項は最小値0をとります。  \n",
    "各$\\alpha$について複数の$m$で$x_{\\alpha, m} = 1$となったり、逆に解の中に一つも含まれない場合、この項の値は増加してしまいます。\n",
    "\n",
    "$H_A$の第二項はもう少し複雑です。  \n",
    "$\\displaystyle \\sum _ { i : \\alpha \\in V_i } x_i$は、各$\\alpha$について、解$W$の中に$\\alpha$がいくつ含まれているかを表しています。  \n",
    "先ほどの例で言えば$0, 1, 4, 5 \\in U$は1つずつ、$2,3 \\in U$は2つずつ含まれていたのでした。  \n",
    "$\\displaystyle \\sum _ { m = 1 } ^ { N } m x _ { \\alpha , m }$は各$\\alpha$についてただひとつの$m$で$x_{\\alpha, m} = 1$となる\n",
    "場合に、同様に解Wの中に$\\alpha$がいくつ含まれているかを表します。  \n",
    "このとき第二項は全体で最小値0をとります。  \n",
    "複数の$m$で$x_{\\alpha, m} = 1$となったり、逆に解の中に一つも含まれない場合、この項の値も第一項と同様に増加してしまいます。   "
   ]
  },
  {
   "cell_type": "markdown",
   "metadata": {},
   "source": [
    "## $H_B$について\n",
    "$H_B$は目的関数を表しており、$W$の要素数が小さいときにこの値も小さくなります。  \n",
    "できる限り少ない要素で$U$をカバーしたいという目的を表しています。  "
   ]
  },
  {
   "cell_type": "markdown",
   "metadata": {},
   "source": [
    "## 係数$A$と$B$について\n",
    "係数$A$と$B$は問題によって適切なスケールの値を設定する必要があります。  \n",
    "考え方としては、\"制約条件を破ってまで目的関数を最小化してしまわない\"ように選ぶことになります。  \n",
    "$H$の値は$H_A$と$H_B$のバランスで決まりますが、極端な例として$\\frac{B}{A} = 1000$となるような状況を考えると、明らかに$H_B$の寄与が大きくなってしまい、制約($H_A$)を無視して目的($H_B$)を優先する様子が想像できると思います。 \n",
    "  \n",
    "$A$と$B$のバランスの考え方は問題ごとに考えなければいけませんが、今回は最適解$W_{opt}$が得られている状況で、$W_{opt}$から要素数をさらに一つ減らす(目的関数をさらに小さくするように欲張る)ケースを考えてみます。  \n",
    "この時$W_{opt}$は最適解なので、一つ要素を減らすと必ず制約条件は破れてしまうことになります。  \n",
    "最もゆるく制約条件を破る状況を考えると、それは要素数が1の集合を$W_{opt}$から外すときとなります(そのような集合が解に含まれているケースを想定しています)。  \n",
    "この時、$\\Delta H_A = A$, $\\Delta H_B = -B$となります(計算の詳細は省略しますが、簡単に確認できます)。  \n",
    "よってこのようなことを許容しないためには$ 0 < B < A$を満たすように$A, B$を設定すればよいことになります。  "
   ]
  },
  {
   "cell_type": "markdown",
   "metadata": {},
   "source": [
    "# QUBO行列の構築\n",
    "前置きが長くなりましたが、いよいよQUBO行列を計算していきます。  \n",
    "$H_A$はQUBOに落とし込みやすいように式を変形します。  \n",
    "定数項はQUBO行列と無関係なので省略しています。  \n",
    "少々複雑ですが、式変形に用いているのは  \n",
    "$x_{\\alpha, m} = x_{\\alpha, m} ^ 2$  \n",
    "$x_i = x_i ^ 2$  \n",
    "だけです。  \n",
    "\n",
    "$H _ { A }$  \n",
    "$ \\displaystyle\n",
    "=A \\sum _ { \\alpha = 1 } ^ { n } \\left\\{\n",
    "    -2 \\left( \\sum _ { m = 1 } ^ { N } x _ { \\alpha , m } \\right)\n",
    "    +\\left( \\sum _ { m = 1 } ^ { N } x _ { \\alpha , m } \\right) ^ { 2 }\n",
    "    +\\left( \\sum _ { m = 1 } ^ { N } mx _ { \\alpha , m } \\right) ^ { 2 }\n",
    "    -2 \\left( \\sum _ { m = 1 } ^ { N } mx _ { \\alpha , m } \\right) \\left( \\sum _ { i : \\alpha \\in V _ { i } } x _ { i } \\right)\n",
    "    +\\left( \\sum _ { i : \\alpha \\in V _ { i } } x _ { i } \\right) ^ 2 \\right\\}\n",
    "$  \n",
    "\n",
    "$ \\displaystyle\n",
    "= A \\sum _ { \\alpha = 1} ^ { n } \\left\\{\n",
    "    \\left( \\sum _ { m = 1 } ^ { N } -2 x _ { \\alpha , m } \\right)\n",
    "   +\\left( \\sum _ { m = 1 } ^ { N } x _ { \\alpha , m } ^ 2 \\right)\n",
    "   +\\left( \\mathop { \\sum \\sum } _ { m \\neq l } ^ { N } 2 x _ { \\alpha , m } x _ { \\alpha , l } \\right)\n",
    "   +\\left( \\sum _ { m = 1 } ^ { N } m ^ 2 x _ { \\alpha , m } ^ 2 \\right)\n",
    "\\right.\n",
    "$  \n",
    "\n",
    "$ \\displaystyle\n",
    "\\quad \\left.\n",
    "   +\\left( \\mathop { \\sum \\sum } _ {m \\neq l } ^ { N } 2ml x _ { \\alpha , m } x _ { \\alpha, l } \\right)\n",
    "   +\\left( \\sum _ { m = 1} ^ { N } \\sum _ { i : \\alpha \\in V _ { i } } \\left( -2m x _ { \\alpha , m } x _ { i } \\right) \\right)\n",
    "   +\\left( \\sum _ { i : \\alpha \\in V _ { i } } x _ { i } ^ 2 \\right)\n",
    "   +\\left( \\sum _ { i : \\alpha \\in V _ { i } } \\sum _ { j : \\alpha \\in V _ { j }} 2 x _ { i } x _ { j }　\\right) \\right\\}\n",
    "$  \n",
    "\n",
    "$ \\displaystyle\n",
    "= A \\sum _ { \\alpha = 1} ^ { n } \\left\\{\n",
    "    \\sum _ { m = 1 } ^ { N } \\left( m ^ 2 - 1\\right) x _ { \\alpha , m } ^ 2\n",
    "   +\\mathop { \\sum \\sum } _ { m \\neq l } ^ { N } 2 \\left( 1 + ml \\right) x _ { \\alpha , m } x _ { \\alpha , l }\n",
    "   +\\sum _ { m = 1} ^ { N } \\sum _ { i : \\alpha \\in V _ { i } } \\left( -2m \\right) x _ { \\alpha , m } x _ { i }\n",
    "   +\\sum _ { i : \\alpha \\in V _ { i } } x _ { i } ^ 2\n",
    "   +\\sum _ { i : \\alpha \\in V _ { i } } \\sum _ { j : \\alpha \\in V _ { j }} 2 x _ { i } x _ { j } \\right\\}\n",
    "$  "
   ]
  },
  {
   "cell_type": "markdown",
   "metadata": {},
   "source": [
    "\n",
    "ここから実際にwildqatを使用して問題を解いていきます。  \n",
    "wildqatをインストールされていない方は以下のような方法でご準備ください。\n",
    "```bash\n",
    "pip install wildqat\n",
    "```\n",
    "まず必要なライブラリをインポートします。"
   ]
  },
  {
   "cell_type": "code",
   "execution_count": 1,
   "metadata": {},
   "outputs": [],
   "source": [
    "import numpy as np\n",
    "import wildqat as wq\n",
    "import matplotlib.pyplot as plt"
   ]
  },
  {
   "cell_type": "markdown",
   "metadata": {},
   "source": [
    "次にqubo行列を計算するための関数を作ります。  \n",
    "ここで注意すべきなのは、$m, l$は順番を表すインデックスではないのでループ変数にする際に勝手に$0 \\lt m, l \\lt N - 1$にしてはいけないということです。  \n",
    "$\\alpha \\in U$は、少なくとも1個(最大$N$個)は解に含まれていることが必要なので、$1 \\leq m, l \\leq N$とします。"
   ]
  },
  {
   "cell_type": "code",
   "execution_count": 2,
   "metadata": {},
   "outputs": [],
   "source": [
    "def get_qubo(U, V, A, B):\n",
    "    n = len(U)\n",
    "    N = len(V)\n",
    "    size = n * N + N\n",
    "    qubo = np.zeros((size, size))\n",
    "    \n",
    "    # HA\n",
    "    alpha_m_l = [(alpha, m, l) for alpha in range(n) for m in range(1, N + 1) for l in range(1, N + 1)]\n",
    "    for alpha, m, l in alpha_m_l:\n",
    "        u = alpha * N + m - 1\n",
    "        v = alpha * N + l - 1\n",
    "        if u == v:\n",
    "            qubo[u][v] = m ** 2 - 1\n",
    "        elif u < v:\n",
    "            qubo[u][v] = 2 * (1 + m * l)\n",
    "        \n",
    "        i = m - 1\n",
    "        j = l - 1\n",
    "        v = n * N + j\n",
    "        if U[alpha] in V[j]:\n",
    "            qubo[u][v] = -2 * m\n",
    "\n",
    "        u = n * N + i\n",
    "        if U[alpha] in V[i] and U[alpha] in V[j]:\n",
    "            if u == v:\n",
    "                qubo[u][v] += 1\n",
    "            elif u < v:\n",
    "                qubo[u][v] += 2\n",
    "    qubo *= A\n",
    "\n",
    "    # HB\n",
    "    for i in range(n * N, n * N + N):\n",
    "        qubo[i][i] += B\n",
    "\n",
    "    return qubo"
   ]
  },
  {
   "cell_type": "markdown",
   "metadata": {},
   "source": [
    "$H_A$の部分のコードが(我ながら)わかりにくいのでループの無駄が多いですがわかりやすくしたバージョンも書いておきます(使いません)。  \n",
    "こちらは$H_A$を式変形した最終結果の5つの項をそれぞれ順番に計算しています。"
   ]
  },
  {
   "cell_type": "code",
   "execution_count": 3,
   "metadata": {},
   "outputs": [],
   "source": [
    "def get_qubo_easy_to_understand_ver(U, V, A, B):\n",
    "    n = len(U)\n",
    "    N = len(V)\n",
    "    size = n * N + N\n",
    "    qubo = np.zeros((size, size))\n",
    "\n",
    "    # HA\n",
    "    for alpha in range(n): # x_(alpha, m) * x_(alpha, m)\n",
    "        for m in range(1, N + 1):\n",
    "            u = alpha * N + m - 1\n",
    "            qubo[u][u] = m ** 2 - 1\n",
    "\n",
    "    for alpha in range(n): # x_(alpha, m) * x_(alpha, l)\n",
    "        for m in range(1, N + 1):\n",
    "            for l in range(1, N + 1):\n",
    "                u = alpha * N + m - 1\n",
    "                v = alpha * N + l - 1\n",
    "                if u >= v:\n",
    "                    continue\n",
    "                qubo[u][v] = 2 * (1 + m * l)\n",
    "\n",
    "    for alpha in range(n): # x_(alpha, m) * x_(i)\n",
    "        for m in range(1, N + 1):\n",
    "            for i in range(N):\n",
    "                u = alpha * N + m - 1\n",
    "                v = n * N + i\n",
    "                if U[alpha] in V[i]:\n",
    "                    qubo[u][v] = -2 * m\n",
    "\n",
    "    for i in range(N): # x_(i) * x_(i)\n",
    "        u = n * N + i\n",
    "        qubo[u][u] = len(V[i]) # alphaで和をとると結局V[i]の要素数になるので\n",
    "\n",
    "    for alpha in range(n): # x_(i) * x_(j)\n",
    "        for i in range(N):\n",
    "            for j in range(N):\n",
    "                if i >= j:\n",
    "                    continue\n",
    "                u = n * N + i\n",
    "                v = n * N + j\n",
    "                if U[alpha] in V[i] and U[alpha] in V[j]:\n",
    "                    qubo[u][v] += 2\n",
    "    qubo *= A\n",
    "\n",
    "    # HB\n",
    "    for i in range(n * N, n * N + N):\n",
    "        qubo[i][i] += B\n",
    "\n",
    "    return qubo"
   ]
  },
  {
   "cell_type": "markdown",
   "metadata": {},
   "source": [
    "答えを表示する用の関数も準備しておきます。"
   ]
  },
  {
   "cell_type": "code",
   "execution_count": 4,
   "metadata": {},
   "outputs": [],
   "source": [
    "def show_answer(q, U, V):\n",
    "    print(f\"q = {q}\")\n",
    "    n = len(U)\n",
    "    N = len(V)\n",
    "    W = []\n",
    "    for alpha in range(n):\n",
    "        m_list = []\n",
    "        for m in range(1, N + 1):\n",
    "            if q[alpha  * N + m - 1] > 0:\n",
    "                m_list.append(m)\n",
    "        print(f\"x_({alpha}, m) = {m_list}\")\n",
    "        if len(m_list) > 1:\n",
    "            print(f\"x_({alpha}, m)が複数のmで1となっています。制約条件を満たしていません。\")\n",
    "        elif len(m_list) == 0:\n",
    "            print(f\"x_({alpha}, m)が全てのmで0となっています。制約条件を満たしていません。\")\n",
    "    for i in range(N):\n",
    "        if q[n * N + i] > 0:\n",
    "            W.append(V[i])\n",
    "    print(\"W =\", W)"
   ]
  },
  {
   "cell_type": "markdown",
   "metadata": {},
   "source": [
    "ようやく準備ができたのでテストをしてみます。"
   ]
  },
  {
   "cell_type": "code",
   "execution_count": 8,
   "metadata": {},
   "outputs": [
    {
     "name": "stdout",
     "output_type": "stream",
     "text": [
      "2.76442813873291\n",
      "q = [1, 0, 0, 0, 0, 0, 0, 0, 1, 0, 0, 0, 0, 0, 0, 0, 0, 1, 0, 0, 0, 0, 0, 0, 0, 1, 0, 0, 0, 0, 0, 0, 1, 0, 0, 0, 0, 0, 0, 0, 1, 0, 0, 0, 0, 0, 0, 0, 0, 0, 0, 0, 0, 0, 1, 1]\n",
      "x_(0, m) = [1]\n",
      "x_(1, m) = [1]\n",
      "x_(2, m) = [2]\n",
      "x_(3, m) = [2]\n",
      "x_(4, m) = [1]\n",
      "x_(5, m) = [1]\n",
      "W = [[0, 1, 2, 3], [2, 3, 4, 5]]\n"
     ]
    },
    {
     "data": {
      "image/png": "[encoded data removed]",
      "text/plain": [
       "<Figure size 432x288 with 1 Axes>"
      ]
     },
     "metadata": {
      "needs_background": "light"
     },
     "output_type": "display_data"
    },
    {
     "name": "stdout",
     "output_type": "stream",
     "text": [
      "2.7520477771759033\n",
      "q = [1, 0, 0, 0, 0, 0, 0, 0, 1, 0, 0, 0, 0, 0, 0, 0, 0, 1, 0, 0, 0, 0, 0, 0, 0, 1, 0, 0, 0, 0, 0, 0, 1, 0, 0, 0, 0, 0, 0, 0, 1, 0, 0, 0, 0, 0, 0, 0, 0, 0, 0, 0, 0, 0, 1, 1]\n",
      "x_(0, m) = [1]\n",
      "x_(1, m) = [1]\n",
      "x_(2, m) = [2]\n",
      "x_(3, m) = [2]\n",
      "x_(4, m) = [1]\n",
      "x_(5, m) = [1]\n",
      "W = [[0, 1, 2, 3], [2, 3, 4, 5]]\n"
     ]
    },
    {
     "data": {
      "image/png": "[encoded data removed]",
      "text/plain": [
       "<Figure size 432x288 with 1 Axes>"
      ]
     },
     "metadata": {
      "needs_background": "light"
     },
     "output_type": "display_data"
    },
    {
     "name": "stdout",
     "output_type": "stream",
     "text": [
      "2.913097858428955\n",
      "q = [1, 0, 0, 0, 0, 0, 0, 0, 1, 0, 0, 0, 0, 0, 0, 0, 0, 1, 0, 0, 0, 0, 0, 0, 0, 1, 0, 0, 0, 0, 0, 0, 1, 0, 0, 0, 0, 0, 0, 0, 1, 0, 0, 0, 0, 0, 0, 0, 0, 0, 0, 0, 0, 0, 1, 1]\n",
      "x_(0, m) = [1]\n",
      "x_(1, m) = [1]\n",
      "x_(2, m) = [2]\n",
      "x_(3, m) = [2]\n",
      "x_(4, m) = [1]\n",
      "x_(5, m) = [1]\n",
      "W = [[0, 1, 2, 3], [2, 3, 4, 5]]\n"
     ]
    },
    {
     "data": {
      "image/png": "[encoded data removed]",
      "text/plain": [
       "<Figure size 432x288 with 1 Axes>"
      ]
     },
     "metadata": {
      "needs_background": "light"
     },
     "output_type": "display_data"
    },
    {
     "name": "stdout",
     "output_type": "stream",
     "text": [
      "2.7761480808258057\n",
      "q = [1, 0, 0, 0, 0, 0, 0, 0, 1, 0, 0, 0, 0, 0, 0, 0, 1, 0, 0, 0, 0, 0, 0, 0, 1, 0, 0, 0, 0, 0, 0, 0, 1, 0, 0, 0, 0, 0, 0, 0, 1, 0, 0, 0, 0, 0, 0, 0, 0, 0, 0, 0, 1, 1, 1, 0]\n",
      "x_(0, m) = [1]\n",
      "x_(1, m) = [1]\n",
      "x_(2, m) = [1]\n",
      "x_(3, m) = [1]\n",
      "x_(4, m) = [1]\n",
      "x_(5, m) = [1]\n",
      "W = [[4], [5], [0, 1, 2, 3]]\n"
     ]
    },
    {
     "data": {
      "image/png": "[encoded data removed]",
      "text/plain": [
       "<Figure size 432x288 with 1 Axes>"
      ]
     },
     "metadata": {
      "needs_background": "light"
     },
     "output_type": "display_data"
    },
    {
     "name": "stdout",
     "output_type": "stream",
     "text": [
      "2.856117010116577\n",
      "q = [0, 1, 0, 0, 0, 0, 0, 0, 1, 0, 0, 0, 0, 0, 0, 0, 1, 0, 0, 0, 0, 0, 0, 0, 1, 0, 0, 0, 0, 0, 0, 0, 1, 0, 0, 0, 0, 0, 0, 0, 1, 0, 0, 0, 0, 0, 0, 0, 1, 0, 0, 0, 1, 1, 1, 0]\n",
      "x_(0, m) = [2]\n",
      "x_(1, m) = [1]\n",
      "x_(2, m) = [1]\n",
      "x_(3, m) = [1]\n",
      "x_(4, m) = [1]\n",
      "x_(5, m) = [1]\n",
      "W = [[0], [4], [5], [0, 1, 2, 3]]\n"
     ]
    },
    {
     "data": {
      "image/png": "[encoded data removed]",
      "text/plain": [
       "<Figure size 432x288 with 1 Axes>"
      ]
     },
     "metadata": {
      "needs_background": "light"
     },
     "output_type": "display_data"
    }
   ],
   "source": [
    "# 問題設定\n",
    "U = [0,1,2,3,4,5]\n",
    "V = [[0],[1],[2],[3],[4],[5],[0,1,2,3],[2,3,4,5]]\n",
    "\n",
    "# QUBOの係数\n",
    "A = 1.2\n",
    "B = 1\n",
    "\n",
    "annealer = wq.opt()\n",
    "annealer.qubo = get_qubo(U, V, A, B)\n",
    "annealer.Ts *= 10 # A, Bの値のオーダーに合わせて開始温度を調整(デフォルトだと収束が早すぎたため)\n",
    "for _ in range(5):\n",
    "    q = annealer.sa()\n",
    "    show_answer(q, U, V)\n",
    "    plt.plot(annealer.E)\n",
    "    plt.show()"
   ]
  },
  {
   "cell_type": "markdown",
   "metadata": {},
   "source": [
    "5回の試行で正しい答えが得られたのは3回でした。  \n",
    "今回はかなりうまく行った方で、何度か試した中で正解がでるのは平均すると5回中1回ぐらいでした。\n",
    "また、$W(x_i)$が正しくても、$x_{\\alpha,m}$は正しくないこともよく起こります。"
   ]
  }
 ],
 "metadata": {
  "kernelspec": {
   "display_name": "Python 3",
   "language": "python",
   "name": "python3"
  },
  "language_info": {
   "codemirror_mode": {
    "name": "ipython",
    "version": 3
   },
   "file_extension": ".py",
   "mimetype": "text/x-python",
   "name": "python",
   "nbconvert_exporter": "python",
   "pygments_lexer": "ipython3",
   "version": "3.6.5"
  }
 },
 "nbformat": 4,
 "nbformat_minor": 2
}
