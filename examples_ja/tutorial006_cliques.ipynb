{
  "nbformat": 4,
  "nbformat_minor": 0,
  "metadata": {
    "colab": {
      "name": "Untitled11.ipynb",
      "version": "0.3.2",
      "provenance": []
    },
    "kernelspec": {
      "name": "python3",
      "display_name": "Python 3"
    }
  },
  "cells": [
    {
      "metadata": {
        "id": "8Rx4KF4iAmDm",
        "colab_type": "text"
      },
      "cell_type": "markdown",
      "source": [
        "#クリーク問題\n",
        "クリーク問題は、グラフ理論において、グラフ中のクリーク（任意の二頂点間に枝があるような頂点集合）を見つける問題。下記はグラフ中にKのクリークが存在するかどうかをみつけるコスト関数です。1項目は頂点数をKに制約する条件。2項目のBで囲まれた部分は選んだ頂点が完全グラフを構成している場合にコストがもっとも小さくなるようなエッジの数の条件です。クリーク数がKのものが存在する場合、コスト関数E=0となります。\n",
        "\n",
        "<img src=\"https://github.com/mdrft/Wildqat/blob/master/examples_ja/img/006_0.png?raw=1\">"
      ]
    },
    {
      "metadata": {
        "id": "lnhtYjoyApv5",
        "colab_type": "text"
      },
      "cell_type": "markdown",
      "source": [
        "##例題\n",
        "下記のように6つのノードのネットワーク構造からクリーク数3を探します。"
      ]
    },
    {
      "metadata": {
        "id": "itVMcA2vwRLe",
        "colab_type": "code",
        "colab": {
          "base_uri": "https://localhost:8080/",
          "height": 444
        },
        "outputId": "6697211f-0cb6-4f18-b269-0eb3a5dc70e4"
      },
      "cell_type": "code",
      "source": [
        "import networkx as nx\n",
        "import matplotlib.pyplot as plt\n",
        "\n",
        "options = {'node_color': '#efefef','node_size': 1200,'with_labels':'True'}\n",
        "\n",
        "G = nx.Graph()\n",
        "G.add_nodes_from(nx.path_graph(6))\n",
        "G.add_edges_from([(0,1),(0,4),(1,2),(1,4),(2,3),(3,4),(3,5)])\n",
        "nx.draw(G, **options)"
      ],
      "execution_count": 6,
      "outputs": [
        {
          "output_type": "display_data",
          "data": {
            "image/png": "[encoded data removed]",
            "text/plain": [
              "<matplotlib.figure.Figure at 0x7f57911b1dd8>"
            ]
          },
          "metadata": {
            "tags": []
          }
        }
      ]
    },
    {
      "metadata": {
        "id": "SUSDkl76wFLj",
        "colab_type": "text"
      },
      "cell_type": "markdown",
      "source": [
        "今回はノード数が6なので、6量子ビット用意します。次に今回はクリーク数3ということで、上記の式のK=3とします。今回も少し工夫してみます。上記の式は、\n",
        "\n",
        "<img src=\"https://github.com/mdrft/Wildqat/blob/master/examples_ja/img/006_2.png?raw=1\">\n",
        "\n",
        "1項目と2項目を別々に構築して足し合わせてみます。1項目の方は9-6A+A^2という形に変形できますので、Wildqatの機能をうまく使って行列計算で処理できます。定数項は無視します。また、2項目は手作業で作ってしまいます。まずWildqatをインストールして準備します。また、numpyを使いますので、それも準備しておきます。"
      ]
    },
    {
      "metadata": {
        "id": "2j9-mcukAk6E",
        "colab_type": "code",
        "colab": {}
      },
      "cell_type": "code",
      "source": [
        "!pip install -U wildqat"
      ],
      "execution_count": 0,
      "outputs": []
    },
    {
      "metadata": {
        "id": "xGqQ5yWHDD7m",
        "colab_type": "code",
        "colab": {}
      },
      "cell_type": "code",
      "source": [
        "import wildqat as wq\n",
        "import numpy as np\n",
        "a = wq.opt()"
      ],
      "execution_count": 0,
      "outputs": []
    },
    {
      "metadata": {
        "id": "StZl09fFDum4",
        "colab_type": "text"
      },
      "cell_type": "markdown",
      "source": [
        "次にx0+x1+x2+x3+x4+x5の係数を見ると全て1なので、これを対角行列で用意します。"
      ]
    },
    {
      "metadata": {
        "id": "7Rg6AmpeDLn4",
        "colab_type": "code",
        "colab": {
          "base_uri": "https://localhost:8080/",
          "height": 119
        },
        "outputId": "b2feee62-00ff-4435-91f0-18cbeed79c4b"
      },
      "cell_type": "code",
      "source": [
        "A = [1,1,1,1,1,1]\n",
        "print(np.diag(A))"
      ],
      "execution_count": 0,
      "outputs": [
        {
          "output_type": "stream",
          "text": [
            "[[1 0 0 0 0 0]\n",
            " [0 1 0 0 0 0]\n",
            " [0 0 1 0 0 0]\n",
            " [0 0 0 1 0 0]\n",
            " [0 0 0 0 1 0]\n",
            " [0 0 0 0 0 1]]\n"
          ],
          "name": "stdout"
        }
      ]
    },
    {
      "metadata": {
        "id": "ywjdYLqdD0RH",
        "colab_type": "text"
      },
      "cell_type": "markdown",
      "source": [
        "そしてこのAを使って、1項目の-6A+A^2を簡単に計算してみます。Wildqatの機能を使います。"
      ]
    },
    {
      "metadata": {
        "id": "H7lwI5qyDr_i",
        "colab_type": "code",
        "colab": {
          "base_uri": "https://localhost:8080/",
          "height": 119
        },
        "outputId": "a37a06be-0cc6-41ae-c6cb-7cba492292c4"
      },
      "cell_type": "code",
      "source": [
        "print(wq.sqr(A))"
      ],
      "execution_count": 0,
      "outputs": [
        {
          "output_type": "stream",
          "text": [
            "[[1 2 2 2 2 2]\n",
            " [0 1 2 2 2 2]\n",
            " [0 0 1 2 2 2]\n",
            " [0 0 0 1 2 2]\n",
            " [0 0 0 0 1 2]\n",
            " [0 0 0 0 0 1]]\n"
          ],
          "name": "stdout"
        }
      ]
    },
    {
      "metadata": {
        "id": "L2hD-D_iE8dc",
        "colab_type": "text"
      },
      "cell_type": "markdown",
      "source": [
        "これらを足し合わせると最初の項になります。"
      ]
    },
    {
      "metadata": {
        "id": "MySUFwyDEC4p",
        "colab_type": "code",
        "colab": {
          "base_uri": "https://localhost:8080/",
          "height": 119
        },
        "outputId": "54bfd25e-93ed-4aee-9095-82f3ac411234"
      },
      "cell_type": "code",
      "source": [
        "matrix1 = -6*np.diag(A)+wq.sqr(A)\n",
        "print(matrix1)"
      ],
      "execution_count": 0,
      "outputs": [
        {
          "output_type": "stream",
          "text": [
            "[[-5  2  2  2  2  2]\n",
            " [ 0 -5  2  2  2  2]\n",
            " [ 0  0 -5  2  2  2]\n",
            " [ 0  0  0 -5  2  2]\n",
            " [ 0  0  0  0 -5  2]\n",
            " [ 0  0  0  0  0 -5]]\n"
          ],
          "name": "stdout"
        }
      ]
    },
    {
      "metadata": {
        "id": "bRxP_o-3FQ_V",
        "colab_type": "text"
      },
      "cell_type": "markdown",
      "source": [
        "次に2項目を手入力します。Bは0.8でやってみます。"
      ]
    },
    {
      "metadata": {
        "id": "1csq8TUlFJmd",
        "colab_type": "code",
        "colab": {
          "base_uri": "https://localhost:8080/",
          "height": 119
        },
        "outputId": "800b20ae-f415-448f-81a1-6786367f1ec2"
      },
      "cell_type": "code",
      "source": [
        "B = 0.8\n",
        "matrix2 = B*np.asarray([[0,-1,0,0,-1,0],[0,0,-1,0,-1,0],[0,0,0,-1,0,0],[0,0,0,0,-1,-1],[0,0,0,0,0,0],[0,0,0,0,0,0]])\n",
        "print(matrix2)"
      ],
      "execution_count": 0,
      "outputs": [
        {
          "output_type": "stream",
          "text": [
            "[[ 0.  -0.8  0.   0.  -0.8  0. ]\n",
            " [ 0.   0.  -0.8  0.  -0.8  0. ]\n",
            " [ 0.   0.   0.  -0.8  0.   0. ]\n",
            " [ 0.   0.   0.   0.  -0.8 -0.8]\n",
            " [ 0.   0.   0.   0.   0.   0. ]\n",
            " [ 0.   0.   0.   0.   0.   0. ]]\n"
          ],
          "name": "stdout"
        }
      ]
    },
    {
      "metadata": {
        "id": "yDtXrpk7F8iJ",
        "colab_type": "text"
      },
      "cell_type": "markdown",
      "source": [
        "最後にこれらを足し合わせて計算をします。"
      ]
    },
    {
      "metadata": {
        "id": "ndyceaMVF1G0",
        "colab_type": "code",
        "colab": {
          "base_uri": "https://localhost:8080/",
          "height": 153
        },
        "outputId": "0e7faf63-1038-4c45-ef69-ab86a3ca130b"
      },
      "cell_type": "code",
      "source": [
        "a.qubo = matrix1 + matrix2\n",
        "print(a.qubo)\n",
        "a.sa()"
      ],
      "execution_count": 0,
      "outputs": [
        {
          "output_type": "stream",
          "text": [
            "[[-5.   1.2  2.   2.   1.2  2. ]\n",
            " [ 0.  -5.   1.2  2.   1.2  2. ]\n",
            " [ 0.   0.  -5.   1.2  2.   2. ]\n",
            " [ 0.   0.   0.  -5.   1.2  1.2]\n",
            " [ 0.   0.   0.   0.  -5.   2. ]\n",
            " [ 0.   0.   0.   0.   0.  -5. ]]\n",
            "1.4822120666503906\n"
          ],
          "name": "stdout"
        },
        {
          "output_type": "execute_result",
          "data": {
            "text/plain": [
              "[1, 1, 0, 0, 1, 0]"
            ]
          },
          "metadata": {
            "tags": []
          },
          "execution_count": 19
        }
      ]
    },
    {
      "metadata": {
        "id": "EDoWV5O-GK8A",
        "colab_type": "text"
      },
      "cell_type": "markdown",
      "source": [
        "上記で実際に生成されたQUBO、実行時間、最終的な解が得られました。\n",
        "上記からの1番目、2番目、5番目の量子ビットが1ですので、\n",
        "クリーク数3は上記量子ビット間にあるということがQUBOで導きだせました。\n",
        "念のため最終的に生成されたイジングマトリックスを確認するには、\n"
      ]
    },
    {
      "metadata": {
        "id": "TEEFGW5FGCM6",
        "colab_type": "code",
        "colab": {
          "base_uri": "https://localhost:8080/",
          "height": 119
        },
        "outputId": "5441a90f-b389-4725-f849-4802a66875a7"
      },
      "cell_type": "code",
      "source": [
        "print(a.J)"
      ],
      "execution_count": 0,
      "outputs": [
        {
          "output_type": "stream",
          "text": [
            "[[-0.4  0.3  0.5  0.5  0.3  0.5]\n",
            " [ 0.  -0.6  0.3  0.5  0.3  0.5]\n",
            " [ 0.   0.  -0.4  0.3  0.5  0.5]\n",
            " [ 0.   0.   0.  -0.6  0.3  0.3]\n",
            " [ 0.   0.   0.   0.  -0.6  0.5]\n",
            " [ 0.   0.   0.   0.   0.  -0.2]]\n"
          ],
          "name": "stdout"
        }
      ]
    },
    {
      "metadata": {
        "id": "4e4zwt5aGgLT",
        "colab_type": "text"
      },
      "cell_type": "markdown",
      "source": [
        "コスト関数の変遷も見てみます。"
      ]
    },
    {
      "metadata": {
        "id": "mMQ53qfFGG4H",
        "colab_type": "code",
        "colab": {
          "base_uri": "https://localhost:8080/",
          "height": 347
        },
        "outputId": "9d412c04-a5b6-4f58-af3a-d4e3bfc9ef90"
      },
      "cell_type": "code",
      "source": [
        "a.plot()"
      ],
      "execution_count": 0,
      "outputs": [
        {
          "output_type": "display_data",
          "data": {
            "image/png": "[encoded data removed]",
            "text/plain": [
              "<matplotlib.figure.Figure at 0x7fa66c0a01d0>"
            ]
          },
          "metadata": {
            "tags": []
          }
        }
      ]
    },
    {
      "metadata": {
        "id": "4Kcs5AYQGpgE",
        "colab_type": "text"
      },
      "cell_type": "markdown",
      "source": [
        "以上です。"
      ]
    }
  ]
}