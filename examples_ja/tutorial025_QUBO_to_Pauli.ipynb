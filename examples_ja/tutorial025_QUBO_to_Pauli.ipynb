{
  "nbformat": 4,
  "nbformat_minor": 0,
  "metadata": {
    "colab": {
      "name": "turorial025_QUBO_to_Pauli",
      "version": "0.3.2",
      "provenance": []
    },
    "kernelspec": {
      "name": "python3",
      "display_name": "Python 3"
    }
  },
  "cells": [
    {
      "metadata": {
        "id": "XH6JnQKHOpNJ",
        "colab_type": "text"
      },
      "cell_type": "markdown",
      "source": [
        "#QUBOを量子ゲートモデルシミュレータに自動変換\n",
        "WildqatではQUBOをベースとしたイジング問題を解いてきました。これらを解く際にはQUBOmatrixを作成し、Wildqatの内部シミュレーションもしくは外部のシミュレーションを活用できますが、今回は量子ゲートモデルでも同様の計算ができるため、自動変換機能を使って計算して見ます。"
      ]
    },
    {
      "metadata": {
        "id": "IDK-PyXWO8N6",
        "colab_type": "text"
      },
      "cell_type": "markdown",
      "source": [
        "#WildqatとBlueqatの準備\n",
        "今回はQUBOシミュレータのWildqatと量子ゲートシミュレータのBlueqatを両方使用します。"
      ]
    },
    {
      "metadata": {
        "id": "yvv5gMdJOoIZ",
        "colab_type": "code",
        "colab": {}
      },
      "cell_type": "code",
      "source": [
        "!pip install wildqat\n",
        "!pip install blueqat"
      ],
      "execution_count": 0,
      "outputs": []
    },
    {
      "metadata": {
        "id": "NR4dHQC8O7x8",
        "colab_type": "text"
      },
      "cell_type": "markdown",
      "source": [
        "#例題\n",
        "早速やってみます。Wildqatの機能で、N量子ビットからK量子ビットを選ぶという関数を使って自動的にQUBOを作った上に、それをBlueqatに計算できるように変換して計算して見ます。まずは4量子ビットから1量子ビットを選ぶというシミュレーションをしてみます。"
      ]
    },
    {
      "metadata": {
        "id": "HmUcF-HxPghV",
        "colab_type": "code",
        "colab": {
          "base_uri": "https://localhost:8080/",
          "height": 54
        },
        "outputId": "cb99a4cc-c2bb-4ba7-d9bf-32b2412921d1"
      },
      "cell_type": "code",
      "source": [
        "import wildqat as wq\n",
        "from blueqat import vqe\n",
        "\n",
        "qubo = wq.pauli(wq.sel(4,1))\n",
        "step = 4\n",
        "result = vqe.Vqe(vqe.QaoaAnsatz(qubo,step)).run()\n",
        "print(result.most_common(5))"
      ],
      "execution_count": 2,
      "outputs": [
        {
          "output_type": "stream",
          "text": [
            "(((1, 0, 0, 0), 0.2226406659245161), ((0, 1, 0, 0), 0.222640665924516), ((0, 0, 1, 0), 0.222640665924516), ((0, 0, 0, 1), 0.22264066592451595), ((0, 0, 0, 0), 0.02866208270294894))\n"
          ],
          "name": "stdout"
        }
      ]
    },
    {
      "metadata": {
        "id": "7xa7ebf2PszK",
        "colab_type": "text"
      },
      "cell_type": "markdown",
      "source": [
        "上記ですぐに終わりました。\n",
        "wq.sel()で4量子ビットから1量子ビットを選びます。\n",
        "今回計算の精度は4stepにしてみました。\n",
        "\n",
        "そして、BlueqatのQAOA+VQEのシミュレータに入れて上位５位の出現確率を状態ベクトルから選びます。\n",
        "結果はきちんと計算ができ、見事4量子ビットから1量子ビットが選ばれました。"
      ]
    },
    {
      "metadata": {
        "id": "zDzwpXWfPqX3",
        "colab_type": "code",
        "colab": {
          "base_uri": "https://localhost:8080/",
          "height": 54
        },
        "outputId": "dad6f8f6-97cd-4ab7-f13b-71e95904c226"
      },
      "cell_type": "code",
      "source": [
        "qubo = wq.pauli(wq.sel(10,3))\n",
        "step = 4\n",
        "result = vqe.Vqe(vqe.QaoaAnsatz(qubo,step)).run()\n",
        "print(result.most_common(5))"
      ],
      "execution_count": 7,
      "outputs": [
        {
          "output_type": "stream",
          "text": [
            "(((0, 1, 1, 0, 0, 0, 1, 0, 0, 0), 0.006107876447827839), ((0, 0, 0, 0, 0, 1, 1, 1, 0, 0), 0.006107876447827838), ((0, 1, 0, 1, 0, 0, 1, 0, 0, 0), 0.006107876447827837), ((0, 0, 0, 0, 0, 1, 1, 0, 1, 0), 0.006107876447827837), ((0, 0, 0, 0, 0, 1, 0, 1, 1, 0), 0.006107876447827837))\n"
          ],
          "name": "stdout"
        }
      ]
    },
    {
      "metadata": {
        "id": "2x5gX2MwQ-JQ",
        "colab_type": "text"
      },
      "cell_type": "markdown",
      "source": [
        "きちんと計算できました。大規模計算には問題がありますが、とりあえずシミュレーションはうまくいきました。量子ゲートはだいたい組合せ最適化問題は量子ビット数の制限があります。"
      ]
    }
  ]
}