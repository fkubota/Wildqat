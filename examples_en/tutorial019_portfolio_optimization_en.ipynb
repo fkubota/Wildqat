{
  "nbformat": 4,
  "nbformat_minor": 0,
  "metadata": {
    "colab": {
      "name": "tutorial019_portfolio_optimization_en",
      "version": "0.3.2",
      "provenance": [],
      "collapsed_sections": []
    },
    "kernelspec": {
      "name": "python3",
      "display_name": "Python 3"
    }
  },
  "cells": [
    {
      "metadata": {
        "id": "vUO0DrZ2gpJR",
        "colab_type": "text"
      },
      "cell_type": "markdown",
      "source": [
        "#Portfolio Optimization\n",
        "Portfolio optimization is a simple optimization problem using the existing financial data. We find out the best combination of assets by calculating the return and risk.\n"
      ]
    },
    {
      "metadata": {
        "id": "AFLU6xz-hItB",
        "colab_type": "text"
      },
      "cell_type": "markdown",
      "source": [
        "##Cost Function\n",
        "To solve portfolio optimization we have the cost function like below.\n",
        "\n",
        "<img src=\"https://render.githubusercontent.com/render/math?math=E%20%3D%20-%5Csum%5Cmu_ix_i%20%2B%20%5Cgamma%5Csum%5Cdelta_%7Bij%7Dx_ix_j%2BB%5Cleft(%5Csum%20x_i-K%5Cright)%5E2\">\n",
        "\n",
        "The 1st term shows the return of the assets and the 2nd as risk we estimate. The 3rd term is the constaint for the number of assets how many assets we select.\n",
        "\n",
        "##Example\n",
        "Now we have an example. Choose 2 assets from 6 possibility.\n",
        "Here we use dummy data on return and risk.\n",
        "\n",
        "As a return data we use,\n",
        "\n",
        "<img src=\"https://github.com/mdrft/Wildqat/blob/master/examples_ja/img/019_0.png?raw=1\">\n",
        "\n",
        "As a risk data we use,\n",
        "\n",
        "<img src=\"https://github.com/mdrft/Wildqat/blob/master/examples_ja/img/019_1.png?raw=1\">\n",
        "\n",
        "First we prepare wildqat and numpy"
      ]
    },
    {
      "metadata": {
        "id": "bM_eRNMFOkm_",
        "colab_type": "code",
        "colab": {}
      },
      "cell_type": "code",
      "source": [
        "!pip install -U wildqat"
      ],
      "execution_count": 0,
      "outputs": []
    },
    {
      "metadata": {
        "id": "WPbJZpMui8Pw",
        "colab_type": "code",
        "colab": {}
      },
      "cell_type": "code",
      "source": [
        "import wildqat as wq\n",
        "import numpy as np\n",
        "a = wq.opt()"
      ],
      "execution_count": 0,
      "outputs": []
    },
    {
      "metadata": {
        "id": "meI9n8WJjAyS",
        "colab_type": "text"
      },
      "cell_type": "markdown",
      "source": [
        "First let's think about return. Put return data into the diagonal of the matrix."
      ]
    },
    {
      "metadata": {
        "id": "9XOZ4TFhjHpM",
        "colab_type": "code",
        "colab": {
          "base_uri": "https://localhost:8080/",
          "height": 119
        },
        "outputId": "c5548de4-d1fd-48e6-b50d-ccf86be81e39"
      },
      "cell_type": "code",
      "source": [
        "ret = wq.diag([-0.026,-0.031,-0.007,-0.022,-0.010,-0.055])\n",
        "print(ret)"
      ],
      "execution_count": 28,
      "outputs": [
        {
          "output_type": "stream",
          "text": [
            "[[-0.026  0.     0.     0.     0.     0.   ]\n",
            " [ 0.    -0.031  0.     0.     0.     0.   ]\n",
            " [ 0.     0.    -0.007  0.     0.     0.   ]\n",
            " [ 0.     0.     0.    -0.022  0.     0.   ]\n",
            " [ 0.     0.     0.     0.    -0.01   0.   ]\n",
            " [ 0.     0.     0.     0.     0.    -0.055]]\n"
          ],
          "name": "stdout"
        }
      ]
    },
    {
      "metadata": {
        "id": "uGC6JKYEjb-s",
        "colab_type": "text"
      },
      "cell_type": "markdown",
      "source": [
        "Next we think about risk."
      ]
    },
    {
      "metadata": {
        "id": "If-m1F_CjHdy",
        "colab_type": "code",
        "colab": {}
      },
      "cell_type": "code",
      "source": [
        "ris = [[0,0.0015,0.0012,0.0018,0.0022,0.0012],[0,0,0.0017,0.0022,0.0005,0.0019],[0,0,0,0.0040,0.0032,0.0024],[0,0,0,0,0.0012,0.0076],[0,0,0,0,0,0.0021],[0,0,0,0,0,0]]"
      ],
      "execution_count": 0,
      "outputs": []
    },
    {
      "metadata": {
        "id": "l5OIEJTyleV6",
        "colab_type": "text"
      },
      "cell_type": "markdown",
      "source": [
        "By adding these 2 matrix, we get the final QUBO to calculate."
      ]
    },
    {
      "metadata": {
        "id": "lUudk7iclRyf",
        "colab_type": "code",
        "colab": {
          "base_uri": "https://localhost:8080/",
          "height": 119
        },
        "outputId": "92bd4ae1-27d5-462e-e6c1-15042dd92a1c"
      },
      "cell_type": "code",
      "source": [
        "a.qubo = ret + np.asarray(ris)*0.5\n",
        "print(a.qubo)"
      ],
      "execution_count": 30,
      "outputs": [
        {
          "output_type": "stream",
          "text": [
            "[[-0.026    0.00075  0.0006   0.0009   0.0011   0.0006 ]\n",
            " [ 0.      -0.031    0.00085  0.0011   0.00025  0.00095]\n",
            " [ 0.       0.      -0.007    0.002    0.0016   0.0012 ]\n",
            " [ 0.       0.       0.      -0.022    0.0006   0.0038 ]\n",
            " [ 0.       0.       0.       0.      -0.01     0.00105]\n",
            " [ 0.       0.       0.       0.       0.      -0.055  ]]\n"
          ],
          "name": "stdout"
        }
      ]
    },
    {
      "metadata": {
        "id": "I5bMskkhl3Pg",
        "colab_type": "text"
      },
      "cell_type": "markdown",
      "source": [
        "#Constraint for K assets.\n",
        "Finally we need one more term to make a constraint on the number of assets we choose.\n",
        "Here we try a simple function which wildqat provide, sel() function to choose 2 from 6."
      ]
    },
    {
      "metadata": {
        "id": "Sz1vh59SlStJ",
        "colab_type": "code",
        "colab": {
          "base_uri": "https://localhost:8080/",
          "height": 119
        },
        "outputId": "67bd87e3-6e98-462f-a491-b85e602653f0"
      },
      "cell_type": "code",
      "source": [
        "a.qubo += wq.sel(6,2)\n",
        "print(a.qubo)"
      ],
      "execution_count": 31,
      "outputs": [
        {
          "output_type": "stream",
          "text": [
            "[[-3.026    2.00075  2.0006   2.0009   2.0011   2.0006 ]\n",
            " [ 0.      -3.031    2.00085  2.0011   2.00025  2.00095]\n",
            " [ 0.       0.      -3.007    2.002    2.0016   2.0012 ]\n",
            " [ 0.       0.       0.      -3.022    2.0006   2.0038 ]\n",
            " [ 0.       0.       0.       0.      -3.01     2.00105]\n",
            " [ 0.       0.       0.       0.       0.      -3.055  ]]\n"
          ],
          "name": "stdout"
        }
      ]
    },
    {
      "metadata": {
        "id": "CdPmcVcVmShE",
        "colab_type": "code",
        "colab": {
          "base_uri": "https://localhost:8080/",
          "height": 68
        },
        "outputId": "44aaa1ce-c947-4d11-b4b1-863afa858c75"
      },
      "cell_type": "code",
      "source": [
        "print(a.sa())\n",
        "print(a.E[-1])"
      ],
      "execution_count": 39,
      "outputs": [
        {
          "output_type": "stream",
          "text": [
            "1.5345256328582764\n",
            "[0, 0, 1, 0, 0, 1]\n",
            "-4.060799999999999\n"
          ],
          "name": "stdout"
        }
      ]
    },
    {
      "metadata": {
        "id": "KEij7FQFmhzY",
        "colab_type": "text"
      },
      "cell_type": "markdown",
      "source": [
        "Finally we get result just 2 assets have value 1 and others has 0.\n",
        "The assets which has value 1 were selected.\n",
        "\n",
        "We can also check the time evolution of cost function."
      ]
    },
    {
      "metadata": {
        "id": "4cxwz5UCmZkc",
        "colab_type": "code",
        "colab": {
          "base_uri": "https://localhost:8080/",
          "height": 347
        },
        "outputId": "397d64c2-7603-494e-8b25-eb8a8c751607"
      },
      "cell_type": "code",
      "source": [
        "a.plot()"
      ],
      "execution_count": 40,
      "outputs": [
        {
          "output_type": "display_data",
          "data": {
            "image/png": "[encoded data removed]",
            "text/plain": [
              "<Figure size 576x396 with 1 Axes>"
            ]
          },
          "metadata": {
            "tags": []
          }
        }
      ]
    },
    {
      "metadata": {
        "id": "EIfyRtAeP8Ck",
        "colab_type": "code",
        "colab": {}
      },
      "cell_type": "code",
      "source": [
        ""
      ],
      "execution_count": 0,
      "outputs": []
    }
  ]
}