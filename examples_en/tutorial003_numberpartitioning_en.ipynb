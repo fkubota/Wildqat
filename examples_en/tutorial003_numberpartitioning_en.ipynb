{
  "nbformat": 4,
  "nbformat_minor": 0,
  "metadata": {
    "colab": {
      "name": "tutorial003_numberpartitioning_en",
      "version": "0.3.2",
      "provenance": []
    },
    "kernelspec": {
      "name": "python3",
      "display_name": "Python 3"
    }
  },
  "cells": [
    {
      "metadata": {
        "id": "WBR-Vd1FcBF1",
        "colab_type": "text"
      },
      "cell_type": "markdown",
      "source": [
        "# Number Partitioning Problem\n",
        "\n",
        "Number Partitioning Problem is a problem to make two groups that sum of the each groups are the same.\n",
        "\n",
        "We try to solve this using wildqat\n"
      ]
    },
    {
      "metadata": {
        "id": "pMkrUpQgb5yC",
        "colab_type": "code",
        "colab": {}
      },
      "cell_type": "code",
      "source": [
        "!pip3 install wildqat"
      ],
      "execution_count": 0,
      "outputs": []
    },
    {
      "metadata": {
        "id": "VWDd6GlHpnQb",
        "colab_type": "text"
      },
      "cell_type": "markdown",
      "source": [
        "Import some libraries and make an instance of wildqat\n",
        "\n"
      ]
    },
    {
      "metadata": {
        "id": "Giyn1-GNcIZ0",
        "colab_type": "code",
        "colab": {}
      },
      "cell_type": "code",
      "source": [
        "import wildqat as wq\n",
        "import numpy as np\n",
        "a = wq.opt()"
      ],
      "execution_count": 0,
      "outputs": []
    },
    {
      "metadata": {
        "id": "V1qLi57eeO8l",
        "colab_type": "text"
      },
      "cell_type": "markdown",
      "source": [
        "Let's create the QUBO matrix.\n",
        "\n",
        "$i$th of N natural number we put as  $n_i$. And if this number belongs to any groups we show this using \n",
        "$q_i$. If $n_i$ belongs to group A, it is $q_i=1$. And if it belongs to group B it is $q_i=0$.\n",
        "\n",
        "And then we create a cost function of $E$ that take the minimum value when the sum of each groups are the same.\n",
        "\n",
        "This time we have cost function as \n",
        "\n",
        "　$E=\\{\\sum_{i=1}^{N}n_i*(2q_i-1)\\}^2$ \n",
        "\n",
        "It will be $E=0$ when the sum of two groups are the same and takes $E>0$ if these are different.\n",
        "\n",
        "Now we expand it and,\n",
        "\n",
        "　$E=(\\sum_{i=1}^{N}2n_iq_i)^2 -  2(\\sum_{i=1}^{N}2n_iq_i)(\\sum_{j=1}^{N}n_j) + (\\sum_{i=1}^{N}n_i)^2$ \n",
        "\n",
        "And make much more simpler ignoring the constant term,\n",
        "\n",
        "　$E=(\\sum_{i=1}^{N}n_iq_i)^2 - \\sum_{i=1}^{N}n_iq_i\\sum_{j=1}^{N}n_j$ \n",
        "\n",
        "And we have binary rules that $q_i^2=q_i$.\n",
        "\n",
        "And define $\\sum_{j=1}^N{n_j}$ = $n_{sum}$.\n",
        "\n",
        "We expand the equation more and now we have,</br>\n",
        "\n",
        "　$E=\\sum_{i=1}^{N}(n_i^2 - n_{sum}n_i)q_i +2 \\sum_{i < j}n_in_jq_iq_j$ \n",
        "\n",
        "We put this as a QUBO matrix which only has the coefficients.\n",
        "\n",
        "　$qubo = \\left[\\begin{array}{rrrrr}n_1^2 - n_{sum}n_1 & 2n_1n_2 & 2n_1n_3 & 2n_1n_4 & ...\\\\ 0 & n_2^2 - n_{sum}n_2 & 2n_2n_3& 2n_2n_4 &...\\\\ 0 & 0 & n_3^2 - n_{sum}n_3 & 2n_3n_4 & ...\\\\ 0 & 0 & 0 & n_4^2 - n_{sum}n_4 & ...\\\\ ... & ... & ... & ... &... \\end{array} \\right]$ \n",
        "\n",
        "Finally we put value in it and have calculation."
      ]
    },
    {
      "metadata": {
        "id": "1wqDGvAheHnd",
        "colab_type": "code",
        "colab": {}
      },
      "cell_type": "code",
      "source": [
        "numbers = np.array([3,2,6,9,2,5,7,3,3,6,7,3,5,3,2,2,2,6,8,4,6,3,3,6,4,3,3,2,2,5,8,9])\n",
        "a.qubo = np.zeros((numbers.size,numbers.size))\n",
        "for i in range(numbers.size):\n",
        "  for j in range(numbers.size):\n",
        "    if i == j:\n",
        "      a.qubo[i][i]=numbers[i]**2-numbers.sum()*numbers[i]\n",
        "    elif i<j:\n",
        "      a.qubo[i][j]=2*numbers[i] * numbers[j]\n",
        "answer = a.sa()"
      ],
      "execution_count": 0,
      "outputs": []
    },
    {
      "metadata": {
        "id": "MJuEqL6VRptU",
        "colab_type": "text"
      },
      "cell_type": "markdown",
      "source": [
        "Let's see the result.\n",
        "Each sum of the groups are correctly the same."
      ]
    },
    {
      "metadata": {
        "id": "laK0z-S3Rnkm",
        "colab_type": "code",
        "colab": {}
      },
      "cell_type": "code",
      "source": [
        "group1_string = \"\"\n",
        "group2_string = \"\"\n",
        "group1_sum = 0\n",
        "group2_sum = 0\n",
        "for i in range(numbers.size):\n",
        "  if answer[i] == 0:\n",
        "    group1_string+= '+' + str(numbers[i])\n",
        "    group1_sum+=numbers[i]\n",
        "  else:\n",
        "    group2_string+= '+' + str(numbers[i])\n",
        "    group2_sum+=numbers[i]\n",
        "\n",
        "print(group1_string[1:],\"=\",group1_sum)\n",
        "print(group2_string[1:],\"=\",group1_sum)"
      ],
      "execution_count": 0,
      "outputs": []
    }
  ]
}