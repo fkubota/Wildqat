{
  "nbformat": 4,
  "nbformat_minor": 0,
  "metadata": {
    "colab": {
      "name": "tutorial015_travelling_salesman_en",
      "version": "0.3.2",
      "provenance": [],
      "collapsed_sections": []
    },
    "kernelspec": {
      "name": "python3",
      "display_name": "Python 3"
    }
  },
  "cells": [
    {
      "metadata": {
        "id": "4NtqBoZoJLwN",
        "colab_type": "text"
      },
      "cell_type": "markdown",
      "source": [
        "# Travelling Salesman Problem (TSP)\n",
        "\n",
        "If we have a list of city and distance between cities, travelling salesman problem is to find out the least sum of the distance visiting all the cities only once.\n",
        "\n",
        "<img src=\"https://user-images.githubusercontent.com/5043340/45661145-2f8a7a80-bb37-11e8-99d1-42368906cfff.png\" width=\"400\">\n",
        "\n",
        "Please prepare the wildqat first."
      ]
    },
    {
      "metadata": {
        "id": "jBfMpncQis5n",
        "colab_type": "code",
        "colab": {}
      },
      "cell_type": "code",
      "source": [
        "!pip3 install wildqat"
      ],
      "execution_count": 0,
      "outputs": []
    },
    {
      "metadata": {
        "id": "NXl-dlP4jCQm",
        "colab_type": "text"
      },
      "cell_type": "markdown",
      "source": [
        "Import libraries and make an instance"
      ]
    },
    {
      "metadata": {
        "id": "T99_Z9PpjEKW",
        "colab_type": "code",
        "colab": {}
      },
      "cell_type": "code",
      "source": [
        "import wildqat as wq\n",
        "import numpy as np\n",
        "a = wq.opt()"
      ],
      "execution_count": 0,
      "outputs": []
    },
    {
      "metadata": {
        "id": "0nYClegLiF7e",
        "colab_type": "text"
      },
      "cell_type": "markdown",
      "source": [
        "\n",
        "## Example\n",
        "\n",
        "Let's see the example we have 4 cities ABCD and we have to visit these cities once. All the cities are connected each other with the distance value as below.\n",
        "\n",
        "<img src=\"https://user-images.githubusercontent.com/5043340/45661003-8ba0cf00-bb36-11e8-95fc-573e77ded327.png\" width=\"400\">\n"
      ]
    },
    {
      "metadata": {
        "id": "04Mqi_Rci7g2",
        "colab_type": "text"
      },
      "cell_type": "markdown",
      "source": [
        "## Qubomatrix\n",
        "\n",
        "We need a QUBO matrix to solve this problem on ising model.\n",
        "Now we have a cost function as this,\n",
        "\n",
        "$H = \\sum_{v=1}^n\\left( 1-\\sum_{j=1}^N x_{v,j} \\right)^2 + \\sum_{j=1}^N\\left(1-\\sum_{v=1}^Nx_{v,j} \\right)^2 + B\\sum_{(u,v)\\in E}W_{u,v}\\sum_{j=1}^N x_{u,j} x_{v,j+1}$      ・・・・・(1)\n",
        "\n",
        "\n",
        "\n",
        "$x_{vj}$ is a binary value if visit city $v$ on $j$ th order.\n",
        "\n",
        "$x_{vj} =  1$ (if visit city v on jth order)、$0$ (not visit)\n",
        "\n",
        "We need${N}^2$×${N}^2$ of matrix for N cities.\n",
        "Now we have 4 cities, so finally we need 4*4 matrix.\n",
        "\n",
        "Simly we show $x_{vj}$ as $q_i$\n",
        "\n",
        "$x_{11}, x_{12}, x_{13}, x_{14}$ →  $q_0, q_1, q_2, q_3$\n",
        "\n",
        "$x_{21}, x_{22}, x_{23}, x_{24}$ →  $q_4, q_5, q_6, q_7$\n",
        "\n",
        "$x_{31}, x_{32}, x_{33}, x_{34}$ →  $q_8, q_{9}, q_{10}, q_{11}$\n",
        "\n",
        "$x_{41}, x_{42}, x_{43}, x_{44}$ →  $q_{12}, q_{13}, q_{14}, q_{15}$\n",
        "\n",
        "We put number as ABCD cities as $x$1：A、2：B、3：C、4：D\n",
        "\n",
        "To calculate the TSP we need 2 constraint term and 1 cost function\n",
        "\n",
        "* Visit just once on every city.\n",
        "* Visit just one city on jth order.\n",
        "* Minimize the total distance.\n",
        "\n"
      ]
    },
    {
      "metadata": {
        "id": "iL1XZZPhMuhp",
        "colab_type": "text"
      },
      "cell_type": "markdown",
      "source": [
        "## Visit just once on every city\n",
        "\n",
        "<img src=\"https://user-images.githubusercontent.com/5043340/45663268-8a749f80-bb40-11e8-8c4a-8b2ad1dd3f35.png\" width=\"400\">\n",
        "\n",
        "If we think about the constraint visit just once on every city, we have to think about just one qubit on every row will be 1 and others should be 0.\n",
        "たとえば、$q_0+q_1+q_2+q_3 = 1$. We think this on all of the row and we get.\n",
        "\n",
        "${(1-q_0-q_1-q_2-q_3)^2+(1-q_4-q_5-q_6-q_7)^2+(1-q_8-q_9-q_{10}-q_{11})^2+(1-q_{12}-q_{13}-q_{14}-q_{15})^2\n",
        "}$\n",
        "\n",
        "\n",
        "\n"
      ]
    },
    {
      "metadata": {
        "id": "Wiulor0gNBQ6",
        "colab_type": "text"
      },
      "cell_type": "markdown",
      "source": [
        "## Visit just one city on jth order\n",
        "\n",
        "Think about the second constraint.\n",
        "<img src=\"https://user-images.githubusercontent.com/5043340/45666641-1bec0d80-bb51-11e8-87f7-0d1bb522f2e8.png\" width=\"400\">\n",
        "\n",
        "Now we have to think about the column that only one qubit on every col is 1 and others should be 0.\n",
        "\n",
        "${(1-q_0-q_4-q_8-q_{12})^2+(1-q_1-q_5-q_9-q_{13})^2+(1-q_2-q_6-q_{10}-q_{14})^2+(1-q_{3}-q_{7}-q_{11}-q_{15})^2\n",
        "}$\n",
        "\n",
        "Finally we have, \n",
        "\n",
        "${2q_0q_1 + 2q_0q_{12} + 2q_0q_2 + 2q_0q_3 + 2q_0q_4 + 2q_0q_8 - 2q_0}$ \n",
        "\n",
        "${+ 2q_1q_{13} + 2q_1q_2 + 2q_1q_3 + 2q_1q_5 + 2q_1q_9 - 2q_1}$ \n",
        "\n",
        "${ + 2q_{10}q_{11} + 2q_{10}q_{14} + 2q_{10}q_2 + 2q_{10}q_6 + 2q_{10}q_8 + 2q_{10}q_9 - 2q_{10} }$ \n",
        "\n",
        "${+ 2q_{11}q_{15} + 2q_{11}q_3 + 2q_{11}q_7 + 2q_{11}q_8 + 2q_{11}q_9 - 2q_{11}}$ \n",
        "\n",
        "${+ 2q_{12}q_{13} + 2q_{12}q_{14} + 2q_{12}q_{15} + 2q_{12}q_4 + 2q_{12}q_8 - 2q_{12} }$ \n",
        "\n",
        "${+ 2q_{13}q_{14}+ 2q_{13}q_{15} + 2q_{13}q_5 + 2q_{13}q_9 - 2q_{13} }$ \n",
        "\n",
        "${+ 2q_{14}q_{15} + 2q_{14}q_2 + 2q_{14}q_6 - 2q_{14}}$ \n",
        "\n",
        "${+ 2q_{15}q_3 + 2q_{15}q_7 - 2q_{15}}$ \n",
        "\n",
        "${+ 2q_2q_3 + 2q_2q_6 - 2q_2 + 2q_3q_7 - 2q_3 }$ \n",
        "\n",
        "${+ 2q_4q_5 + 2q_4q_6 + 2q_4q_7 + 2q_4q_8 - 2q_4 + 2q_5q_6 + 2q_5q_7 + 2q_5q_9 - 2q_5 }$ \n",
        "\n",
        "${ +2q_6q_7 - 2q_6 - 2q_7 + 2q_8q_9 - 2q_8 - 2q_9 + 8}$ \n",
        "\n",
        "\n",
        "Write down on a QUBO matrix and we have\n",
        "\n",
        "\n",
        "<img src=\"https://user-images.githubusercontent.com/5043340/45666980-42f70f00-bb52-11e8-93a7-245e9d0f5609.png\" width=\"400\">\n"
      ]
    },
    {
      "metadata": {
        "id": "-GV3mmIBOCUy",
        "colab_type": "text"
      },
      "cell_type": "markdown",
      "source": [
        "## Minimize the total distance\n",
        "\n",
        "Finally we have to think about the cost function of the total sum of distance and we get this QUBO matrix thinking about the distance between two cities as Jij on the matrix.\n",
        "\n",
        "<img src=\"https://user-images.githubusercontent.com/5043340/45667633-f3661280-bb54-11e8-9fbe-5dba63749b1d.png\" width=\"400\">\n"
      ]
    },
    {
      "metadata": {
        "id": "Gt5Mm5saTbay",
        "colab_type": "text"
      },
      "cell_type": "markdown",
      "source": [
        "## Add all of the equation and calculate \n",
        "\n",
        "We choose the parameter B=0.25 and get the final QUBO matrix which is the sum of all matrix.\n",
        "\n",
        "## Calculate\n",
        "\n",
        "\n",
        "Put the QUBO on python and start calculating."
      ]
    },
    {
      "metadata": {
        "id": "OcV06PgvIjAB",
        "colab_type": "code",
        "colab": {}
      },
      "cell_type": "code",
      "source": [
        "a.qubo=np.array([\n",
        "  [-2,2,2,2,2,0,0,0,2,0,0,0,2,0,0,0],\n",
        "  [0,-2,2,2,0,2,0,0,0,2,0,0,0,2,0,0],\n",
        "  [0,0,-2,2,0,0,2,0,0,0,2,0,0,0,2,0],\n",
        "  [0,0,0,-2,0,0,0,2,0,0,0,2,0,0,0,2],\n",
        "  [0,0,0,0,-2,2,2,2,2,0,0,0,2,0,0,0],\n",
        "  [0,0,0,0,0,-2,2,2,0,2,0,0,0,2,0,0],\n",
        "  [0,0,0,0,0,0,-2,2,0,0,2,0,0,0,2,0],\n",
        "  [0,0,0,0,0,0,0,-2,0,0,0,2,0,0,0,2],\n",
        "  [0,0,0,0,0,0,0,0,-2,2,2,2,2,0,0,0],\n",
        "  [0,0,0,0,0,0,0,0,0,-2,2,2,0,2,0,0],\n",
        "  [0,0,0,0,0,0,0,0,0,0,-2,2,0,0,2,0],\n",
        "  [0,0,0,0,0,0,0,0,0,0,0,-2,0,0,0,2],\n",
        "  [0,0,0,0,0,0,0,0,0,0,0,0,-2,2,2,2],\n",
        "  [0,0,0,0,0,0,0,0,0,0,0,0,0,-2,2,2],\n",
        "  [0,0,0,0,0,0,0,0,0,0,0,0,0,0,-2,2],\n",
        "  [0,0,0,0,0,0,0,0,0,0,0,0,0,0,0,-2],\n",
        "])\n",
        "+np.array([\n",
        "  [0,0,0,0,0,2,0,2,0,1,0,1,0,3,0,3],\n",
        "  [0,0,0,0,2,0,2,0,1,0,1,0,3,0,3,0],\n",
        "  [0,0,0,0,0,2,0,2,0,1,0,1,0,3,0,3],\n",
        "  [0,0,0,0,2,0,2,0,1,0,1,0,3,0,3,0],\n",
        "  [0,0,0,0,0,0,0,0,0,4,0,4,0,2,0,2],\n",
        "  [0,0,0,0,0,0,0,0,4,0,4,0,2,0,2,0],\n",
        "  [0,0,0,0,0,0,0,0,0,4,0,4,0,2,0,2],\n",
        "  [0,0,0,0,0,0,0,0,4,0,4,0,2,0,2,0],\n",
        "  [0,0,0,0,0,0,0,0,0,0,0,0,0,2,0,2],\n",
        "  [0,0,0,0,0,0,0,0,0,0,0,0,2,0,2,0],\n",
        "  [0,0,0,0,0,0,0,0,0,0,0,0,0,2,0,2],\n",
        "  [0,0,0,0,0,0,0,0,0,0,0,0,2,0,2,0],\n",
        "  [0,0,0,0,0,0,0,0,0,0,0,0,0,0,0,0],\n",
        "  [0,0,0,0,0,0,0,0,0,0,0,0,0,0,0,0],\n",
        "  [0,0,0,0,0,0,0,0,0,0,0,0,0,0,0,0],\n",
        "  [0,0,0,0,0,0,0,0,0,0,0,0,0,0,0,0],\n",
        "])*0.25\n",
        "answer = a.sa()"
      ],
      "execution_count": 0,
      "outputs": []
    },
    {
      "metadata": {
        "id": "OxJ2NXbFVJgi",
        "colab_type": "text"
      },
      "cell_type": "markdown",
      "source": [
        "And now we have,"
      ]
    },
    {
      "metadata": {
        "id": "r9yLIMIqUjDT",
        "colab_type": "code",
        "colab": {}
      },
      "cell_type": "code",
      "source": [
        "print(answer)"
      ],
      "execution_count": 0,
      "outputs": []
    },
    {
      "metadata": {
        "id": "vHjXsQvdVM36",
        "colab_type": "text"
      },
      "cell_type": "markdown",
      "source": [
        "Result is \n",
        "\n",
        "[1, 0, 0, 0, 0, 0, 0, 1, 0, 1, 0, 0, 0, 0, 1, 0]\n",
        "\n",
        "This shows that the city should be visited from A→C→D→B→A"
      ]
    }
  ]
}