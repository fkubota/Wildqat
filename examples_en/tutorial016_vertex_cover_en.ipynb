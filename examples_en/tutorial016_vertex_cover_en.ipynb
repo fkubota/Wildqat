{
  "nbformat": 4,
  "nbformat_minor": 0,
  "metadata": {
    "colab": {
      "name": "tutorial016_vertex_cover_en.ipynb",
      "version": "0.3.2",
      "provenance": []
    },
    "kernelspec": {
      "display_name": "Python 3",
      "language": "python",
      "name": "python3"
    }
  },
  "cells": [
    {
      "metadata": {
        "id": "HQ7BEHkZcF0a",
        "colab_type": "text"
      },
      "cell_type": "markdown",
      "source": [
        "# Vertex Cover\n",
        "\n",
        "In the mathematical discipline of graph theory, a vertex cover (sometimes node cover) of a graph is a set of vertices such that each edge of the graph is incident to at least one vertex of the set.\n",
        "\n",
        "https://en.wikipedia.org/wiki/Vertex_cover\n",
        "\n",
        "![vertex cover](https://github.com/mdrft/Wildqat/blob/master/examples_ja/img/016_1.png?raw=1)"
      ]
    },
    {
      "metadata": {
        "id": "H_IExOtlcF0b",
        "colab_type": "text"
      },
      "cell_type": "markdown",
      "source": [
        "## Installation\n",
        "\n",
        "If you don't have wildqat yet please install it.\n",
        "\n",
        "```bash\n",
        "pip install wildqat\n",
        "```\n",
        "\n",
        "Let's start."
      ]
    },
    {
      "metadata": {
        "id": "4eVHyF9OdlaE",
        "colab_type": "code",
        "colab": {}
      },
      "cell_type": "code",
      "source": [
        "!pip install wildqat"
      ],
      "execution_count": 0,
      "outputs": []
    },
    {
      "metadata": {
        "id": "pc93_6HxcF0d",
        "colab_type": "code",
        "colab": {}
      },
      "cell_type": "code",
      "source": [
        "import numpy as np\n",
        "import matplotlib.pyplot as plt\n",
        "import wildqat as wq"
      ],
      "execution_count": 0,
      "outputs": []
    },
    {
      "metadata": {
        "id": "HZEenCgicF0h",
        "colab_type": "text"
      },
      "cell_type": "markdown",
      "source": [
        "## QUBO\n",
        "Now we have the cost function\n",
        "\n",
        "$ H = H_{A} + H_{B} $\n",
        "\n",
        "$H_{A} and H_{B}$ are,\n",
        "\n",
        "$ \\displaystyle H _ { A } = A \\sum _ { u v \\in E } \\left( 1 - x _ { u } \\right) \\left( 1 - x _ { v } \\right)$\n",
        "\n",
        "$ \\displaystyle H _ { B } = B \\sum _ { v } x _ { v }$\n",
        "\n",
        "each $x_{u}, x_{v}$ shows that if the vertex colored it is 1 and else 0"
      ]
    },
    {
      "metadata": {
        "id": "4RPRas2UcF0i",
        "colab_type": "text"
      },
      "cell_type": "markdown",
      "source": [
        "and now we have\n",
        "\n",
        "$ \\displaystyle H _ { A } = A \\sum _ { u v \\in E } \\left( 1 - x _ { u } - x _ { v } + x_{u}x_{v}\\right)$\n",
        "\n",
        "we can ignore the constant term and from the binary rules we have.\n",
        "\n",
        "$ \\displaystyle H_{A} = A \\sum _ { u v \\in E } \\left( - x_{u}x_{u} - x_{v}x_{v} + x_{u}x_{v}\\right) $"
      ]
    },
    {
      "metadata": {
        "id": "BQijk-KDcF0j",
        "colab_type": "text"
      },
      "cell_type": "markdown",
      "source": [
        "And we have also the second cost function\n",
        "\n",
        "$ \\displaystyle H_{B} = B \\sum _ { u,v: u = v } x_{u}x_{v}$"
      ]
    },
    {
      "metadata": {
        "id": "nPu1B4ZQcF0m",
        "colab_type": "text"
      },
      "cell_type": "markdown",
      "source": [
        "## Coding and Calculation\n",
        "The undirected graph are defined like this,"
      ]
    },
    {
      "metadata": {
        "id": "sSUoeGUocF0n",
        "colab_type": "code",
        "colab": {}
      },
      "cell_type": "code",
      "source": [
        "edge_def = [\n",
        "    [1,5],      # vertex connected to (0) are (1) and (5)\n",
        "    [2,5],      # vertex connected to (1) are (2) and (5)\n",
        "    [3,5],      #  :\n",
        "    [4],        #  :\n",
        "    [5,6,7,8],\n",
        "    [6,7],\n",
        "    [7],\n",
        "    [],\n",
        "    []\n",
        "]"
      ],
      "execution_count": 0,
      "outputs": []
    },
    {
      "metadata": {
        "id": "e39ttcHgcF0q",
        "colab_type": "code",
        "colab": {}
      },
      "cell_type": "code",
      "source": [
        "A = 1.0\n",
        "B = 0.9\n",
        "def get_qubo(edges):\n",
        "    Q = np.zeros( (len(edges), len(edges)) )\n",
        "\n",
        "    for u in range(len(edges)):\n",
        "        for v in range(u, len(edges)):\n",
        "            if u == v:\n",
        "                Q[u][v] += B\n",
        "            if v in edges[u]:    #if xu and xv are connected each other or not\n",
        "                Q[u][v] +=  +A\n",
        "                Q[u][u] +=  -A\n",
        "                Q[v][v] +=  -A\n",
        "\n",
        "    return Q"
      ],
      "execution_count": 0,
      "outputs": []
    },
    {
      "metadata": {
        "id": "A4ubjZotcF0u",
        "colab_type": "text"
      },
      "cell_type": "markdown",
      "source": [
        "Let's create the function to see the result"
      ]
    },
    {
      "metadata": {
        "id": "02VFAh75cF0u",
        "colab_type": "code",
        "colab": {}
      },
      "cell_type": "code",
      "source": [
        "def show_answer(list_x, energies = None, show_graph = False):\n",
        "    print(\"Result x: \" + str(list_x))\n",
        "    print(\"Picked {} vertices: {}\".format(sum(list_x), [x*i for i, x in enumerate(list_x) if x > 0] ))\n",
        "    if energies is not None:\n",
        "        print(\"Energy:\" + str(a.E[-1]))\n",
        "    if show_graph:\n",
        "        plt.plot(a.E)\n",
        "        plt.show()"
      ],
      "execution_count": 0,
      "outputs": []
    },
    {
      "metadata": {
        "id": "gQBhLrgscF0y",
        "colab_type": "text"
      },
      "cell_type": "markdown",
      "source": [
        "Let's try 5 times."
      ]
    },
    {
      "metadata": {
        "id": "nTOCyx7ycF00",
        "colab_type": "code",
        "colab": {
          "base_uri": "https://localhost:8080/",
          "height": 442
        },
        "outputId": "9d1aed94-5e78-4ca5-d987-eb91809c472c"
      },
      "cell_type": "code",
      "source": [
        "for i in range(5):\n",
        "    print(\"---{} times\".format(i+1))\n",
        "    a = wq.opt()\n",
        "    a.qubo = get_qubo(edge_def)\n",
        "    answer = a.sa()\n",
        "    show_answer(answer, a.E)"
      ],
      "execution_count": 10,
      "outputs": [
        {
          "output_type": "stream",
          "text": [
            "---1 times\n",
            "1.6021051406860352\n",
            "Result x: [0, 1, 1, 0, 1, 1, 0, 1, 0]\n",
            "Picked 5 vertices: [1, 2, 4, 5, 7]\n",
            "Energy:-9.5\n",
            "---2 times\n",
            "1.6295549869537354\n",
            "Result x: [0, 1, 1, 0, 1, 1, 0, 1, 0]\n",
            "Picked 5 vertices: [1, 2, 4, 5, 7]\n",
            "Energy:-9.5\n",
            "---3 times\n",
            "1.6418719291687012\n",
            "Result x: [0, 1, 1, 0, 1, 1, 1, 0, 0]\n",
            "Picked 5 vertices: [1, 2, 4, 5, 6]\n",
            "Energy:-9.5\n",
            "---4 times\n",
            "1.6256005764007568\n",
            "Result x: [0, 1, 1, 0, 1, 1, 0, 1, 0]\n",
            "Picked 5 vertices: [1, 2, 4, 5, 7]\n",
            "Energy:-9.5\n",
            "---5 times\n",
            "1.6479127407073975\n",
            "Result x: [1, 0, 1, 0, 1, 1, 0, 1, 0]\n",
            "Picked 5 vertices: [0, 2, 4, 5, 7]\n",
            "Energy:-9.5\n"
          ],
          "name": "stdout"
        }
      ]
    },
    {
      "metadata": {
        "id": "itPUyKWkcF05",
        "colab_type": "text"
      },
      "cell_type": "markdown",
      "source": [
        "We can get the same Energy value and get 5 vertices everytime as global minimum."
      ]
    }
  ]
}