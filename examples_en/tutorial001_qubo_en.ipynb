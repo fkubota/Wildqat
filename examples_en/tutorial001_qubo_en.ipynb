{
  "nbformat": 4,
  "nbformat_minor": 0,
  "metadata": {
    "colab": {
      "name": "tutorial1_qubo.ipynb",
      "version": "0.3.2",
      "provenance": []
    },
    "kernelspec": {
      "name": "python3",
      "display_name": "Python 3"
    }
  },
  "cells": [
    {
      "metadata": {
        "id": "S0D6seG9-ZGj",
        "colab_type": "text"
      },
      "cell_type": "markdown",
      "source": [
        "#QUBO and basic calculation"
      ]
    },
    {
      "metadata": {
        "id": "egLv1R7M-jZ8",
        "colab_type": "text"
      },
      "cell_type": "markdown",
      "source": [
        "Here we are going to check the way how to create QUBO matrix and solve it.\n"
      ]
    },
    {
      "metadata": {
        "id": "wyozSDvU-xpy",
        "colab_type": "text"
      },
      "cell_type": "markdown",
      "source": [
        "First we prepare the wildqat sdk and create an instance."
      ]
    },
    {
      "metadata": {
        "id": "j2QaAh-g9X0s",
        "colab_type": "code",
        "colab": {}
      },
      "cell_type": "code",
      "source": [
        "import wildqat as wq\n",
        "a = wq.opt()"
      ],
      "execution_count": 0,
      "outputs": []
    },
    {
      "metadata": {
        "id": "c7n1M9bA_KqW",
        "colab_type": "text"
      },
      "cell_type": "markdown",
      "source": [
        "Next we make a matrix called QUBO like below."
      ]
    },
    {
      "metadata": {
        "id": "HfVSNvIv9gGV",
        "colab_type": "code",
        "colab": {}
      },
      "cell_type": "code",
      "source": [
        "a.qubo = [[4,-4,-4],[0,4,-4],[0,0,4]]\n"
      ],
      "execution_count": 0,
      "outputs": []
    },
    {
      "metadata": {
        "id": "_yecEiB8CULm",
        "colab_type": "text"
      },
      "cell_type": "markdown",
      "source": [
        "And then calculate with algorithm. This time we use SA algorithm to solve the matrix."
      ]
    },
    {
      "metadata": {
        "id": "Qlq6q_LLCRpc",
        "colab_type": "code",
        "colab": {
          "base_uri": "https://localhost:8080/",
          "height": 51
        },
        "outputId": "73f1dbe1-18ca-4540-9689-befda5a533d8"
      },
      "cell_type": "code",
      "source": [
        "a.sa()"
      ],
      "execution_count": 0,
      "outputs": [
        {
          "output_type": "stream",
          "text": [
            "1.412949800491333\n"
          ],
          "name": "stdout"
        },
        {
          "output_type": "execute_result",
          "data": {
            "text/plain": [
              "array([1, 1, 1])"
            ]
          },
          "metadata": {
            "tags": []
          },
          "execution_count": 16
        }
      ]
    },
    {
      "metadata": {
        "id": "53g1MTyMCdC4",
        "colab_type": "text"
      },
      "cell_type": "markdown",
      "source": [
        "And we got the result. Upper value show the time to aquire the result. The array is the list of result of the bit. The QUBO matrix once converted to Ising Model so called Jij matrix. If we want to check it we can easily aquire is by printing a.J"
      ]
    },
    {
      "metadata": {
        "id": "8-zv7jhnVW0b",
        "colab_type": "code",
        "colab": {
          "base_uri": "https://localhost:8080/",
          "height": 34
        },
        "outputId": "a86ff6a9-a203-4aca-8f82-7520d6943e28"
      },
      "cell_type": "code",
      "source": [
        "print(a.J)"
      ],
      "execution_count": 0,
      "outputs": [
        {
          "output_type": "stream",
          "text": [
            "[[0, -1, -1], [0, 0, -1], [0, 0, 0]]\n"
          ],
          "name": "stdout"
        }
      ]
    }
  ]
}