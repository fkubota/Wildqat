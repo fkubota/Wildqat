{
  "nbformat": 4,
  "nbformat_minor": 0,
  "metadata": {
    "colab": {
      "name": "tutorial023_weak_strong_cluster_en",
      "version": "0.3.2",
      "provenance": []
    },
    "kernelspec": {
      "name": "python3",
      "display_name": "Python 3"
    }
  },
  "cells": [
    {
      "metadata": {
        "id": "B4jp_gQ2vwIc",
        "colab_type": "text"
      },
      "cell_type": "markdown",
      "source": [
        "#Weak-Strong Cluster problem\n",
        "\n",
        "On 2015 Google and NASA announced that the D-Wave machine achieved x100,000,000 speedup compared to the existing PC. On the paper they used a specific problem called Weak-Strong Cluster Problem.\n",
        "\n",
        "Here we try to create a simple weak and strong cluster.\n",
        "\n",
        "What is the Computational Value of Finite Range Tunneling?  \n",
        "https://arxiv.org/abs/1512.02206"
      ]
    },
    {
      "metadata": {
        "id": "TOht9zex0SNS",
        "colab_type": "code",
        "colab": {}
      },
      "cell_type": "code",
      "source": [
        ""
      ],
      "execution_count": 0,
      "outputs": []
    },
    {
      "metadata": {
        "id": "rWDMv2FuHktj",
        "colab_type": "text"
      },
      "cell_type": "markdown",
      "source": [
        "##Background\n",
        "Researchers are researching about quantum annealing machine as using the quantum tunneling for its speed up. D-Wave2X machine is thought to solve problems which has tall and thin energy barriers in the cost function.\n",
        "\n",
        "with 945 qubits, they achieved x10^8 faster than simulated annealing simulated quantum annealing using montecarlo simulation."
      ]
    },
    {
      "metadata": {
        "id": "yyRxj2Z_ww8R",
        "colab_type": "text"
      },
      "cell_type": "markdown",
      "source": [
        "##Weak-Strong Cluster\n",
        "\n",
        "Weak-Strong Cluster Problem is a problem which connect 2types of clusters on the ising model.\n",
        "Each cluster has 8qubits.\n",
        "\n",
        "<img src='https://github.com/mdrft/Wildqat/blob/master/examples_ja/img/023_1.png?raw=1'>\n",
        "\n",
        "All the qubits connected by the chimera graph rules and set Jij and hi as ferromagnetic/anti-ferromagnetic parameters.\n",
        "\n",
        "The left cluster is set all the params as 0.44 and right one as all 1\n",
        "All the Jij in the problem is +1 to achieve ferromagnetic coupling.\n",
        "\n",
        "By calculating this problem, at first the left cluster goes to -1 and the right one to +1\n",
        "Then it is thought that the left qubits filps to +1 after.\n",
        "\n",
        "On the paper they create bigger cluster to connect cluster each other iwth ferro/anti-ferro coupling.\n",
        "\n",
        "<img src='https://github.com/mdrft/Wildqat/blob/master/examples_ja/img/023_2.png?raw=1'>\n",
        "引用：https://arxiv.org/abs/1512.02206"
      ]
    },
    {
      "metadata": {
        "id": "0NYjZb9tIa7v",
        "colab_type": "text"
      },
      "cell_type": "markdown",
      "source": [
        "##The result from paper\n",
        "\n",
        "<img src='https://github.com/mdrft/Wildqat/blob/master/examples_ja/img/023_4.png?raw=1'>\n",
        "引用：https://arxiv.org/abs/1512.02206\n"
      ]
    },
    {
      "metadata": {
        "id": "Mwa47MA3I7DM",
        "colab_type": "text"
      },
      "cell_type": "markdown",
      "source": [
        "##Creating chimera graph\n",
        "This time we just have 16qubits and try to create 16*16 matrix.\n",
        "\n",
        "<img src='https://github.com/mdrft/Wildqat/blob/master/examples_ja/img/023_1.png?raw=1'>\n",
        "\n",
        "<img src='https://github.com/mdrft/Wildqat/blob/master/examples_ja/img/023_5.png?raw=1'>"
      ]
    },
    {
      "metadata": {
        "id": "2MhUPsJNJbE6",
        "colab_type": "text"
      },
      "cell_type": "markdown",
      "source": [
        "##Try calculation on wildqat\n",
        "Prepare the wildqat and put the QUBO funtion in it."
      ]
    },
    {
      "metadata": {
        "id": "z3srch2Mvt9h",
        "colab_type": "code",
        "colab": {}
      },
      "cell_type": "code",
      "source": [
        "!pip install wildqat"
      ],
      "execution_count": 0,
      "outputs": []
    },
    {
      "metadata": {
        "id": "f7kzyTQ5Jq7u",
        "colab_type": "code",
        "colab": {
          "base_uri": "https://localhost:8080/",
          "height": 51
        },
        "outputId": "245299ac-862d-487b-d1f8-3450095b8668"
      },
      "cell_type": "code",
      "source": [
        "import wildqat as wq\n",
        "import numpy as np\n",
        "a = wq.opt()\n",
        "a.J = np.zeros((16,16))\n",
        "\n",
        "for i in range(8):\n",
        "  a.J[i][i] = -0.44\n",
        "\n",
        "for i in range(8,16):\n",
        "  a.J[i][i] = 1\n",
        "\n",
        "for i in range(4,8):\n",
        "  for j in range(0,4):\n",
        "    a.J[j][i] = -1\n",
        "    \n",
        "for i in range(12,16):\n",
        "  for j in range(8,12):\n",
        "    a.J[j][i] = -1\n",
        "\n",
        "a.J[4][12] = -1\n",
        "a.J[5][13] = -1\n",
        "a.J[6][14] = -1\n",
        "a.J[7][15] = -1\n",
        "\n",
        "a.sa()\n"
      ],
      "execution_count": 0,
      "outputs": [
        {
          "output_type": "stream",
          "text": [
            "1.6197266578674316\n"
          ],
          "name": "stdout"
        },
        {
          "output_type": "execute_result",
          "data": {
            "text/plain": [
              "[0, 0, 0, 0, 0, 0, 0, 0, 0, 0, 0, 0, 0, 0, 0, 0]"
            ]
          },
          "metadata": {
            "tags": []
          },
          "execution_count": 24
        }
      ]
    },
    {
      "metadata": {
        "id": "6wNCtk5MNGxH",
        "colab_type": "text"
      },
      "cell_type": "markdown",
      "source": [
        "We get all the qubits as 0 value.\n",
        "Sometimes we get local minimum.\n"
      ]
    },
    {
      "metadata": {
        "id": "693RJ_6YMony",
        "colab_type": "code",
        "colab": {
          "base_uri": "https://localhost:8080/",
          "height": 51
        },
        "outputId": "117126a4-4c31-422d-bba3-cb5c2df594f9"
      },
      "cell_type": "code",
      "source": [
        "a.sa()"
      ],
      "execution_count": 0,
      "outputs": [
        {
          "output_type": "stream",
          "text": [
            "1.6490743160247803\n"
          ],
          "name": "stdout"
        },
        {
          "output_type": "execute_result",
          "data": {
            "text/plain": [
              "[1, 1, 1, 1, 1, 1, 1, 1, 0, 0, 0, 0, 0, 0, 0, 0]"
            ]
          },
          "metadata": {
            "tags": []
          },
          "execution_count": 26
        }
      ]
    },
    {
      "metadata": {
        "id": "eSAE9Dphvuij",
        "colab_type": "text"
      },
      "cell_type": "markdown",
      "source": [
        "##Try the same problem on D-Wave\n",
        "We tried the same problem on D-Wave\n",
        "\n",
        "<img src='https://github.com/mdrft/Wildqat/blob/master/examples_ja/img/023_6.png?raw=1'>\n",
        "\n",
        "98.6% of success rate on global minimum"
      ]
    }
  ]
}