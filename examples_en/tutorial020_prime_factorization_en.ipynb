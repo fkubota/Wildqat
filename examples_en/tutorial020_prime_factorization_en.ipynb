{
  "nbformat": 4,
  "nbformat_minor": 0,
  "metadata": {
    "colab": {
      "name": "tutorial020_prime_factorization_en.ipynb のコピー",
      "version": "0.3.2",
      "provenance": []
    },
    "kernelspec": {
      "name": "python3",
      "display_name": "Python 3"
    }
  },
  "cells": [
    {
      "metadata": {
        "id": "ktatybgO-wRd",
        "colab_type": "text"
      },
      "cell_type": "markdown",
      "source": [
        "#Prime Factoring by QUBO\n",
        "Now we solve simple prime factoring by using QUBO matrix to solve the minimum problem."
      ]
    },
    {
      "metadata": {
        "id": "EVdS3AsVGCq8",
        "colab_type": "text"
      },
      "cell_type": "markdown",
      "source": [
        "##Factoring 15\n",
        "Now we try factoring 15 to p and q.\n",
        "p and q are prime factors\n",
        "\n",
        "<img class=\"math math-inline\" src=\"https://render.githubusercontent.com/render/math?math=15%20%3D%20p*q\">\n",
        "\n",
        "To get p and q we solve the equation below.\n",
        "\n",
        "<img class=\"math math-inline\" src=\"https://render.githubusercontent.com/render/math?math=E%20%3D%20(15%20-p%20*%20q)%5E2\">\n",
        "\n",
        "p and q also can write as decimal number using qubits which has binary value.\n",
        "\n",
        "<img class=\"math math-inline\" src=\"https://render.githubusercontent.com/render/math?math=p%20%3D%201%2B2q_0%2B4q_1\">\n",
        "\n",
        "<img class=\"math math-inline\" src=\"https://render.githubusercontent.com/render/math?math=q%20%3D%201%2B2q_2\">\n",
        "\n",
        "substitute these and we get equation below.\n",
        "\n",
        "<img class=\"math math-inline\" src=\"https://render.githubusercontent.com/render/math?math=E%20%3D%20%5C%7B15-(1%2B2q_0%2B4q_1)(1%2B2q_2)%5C%7D%5E2\">\n",
        "\n",
        "<img class=\"math math-inline\" src=\"https://render.githubusercontent.com/render/math?math=E%20%3D%2016q_0%5E2q_2%5E2%20%2B%2016q_0%5E2q_2%20%2B%204q_0%5E2%20%2B%2064q_0q_1q_2%5E2%20%2B%2064q_0q_1q_2%20%2B%2016q_0q_1%20%2B%2016q_0q_2%5E2%20-%20104q_0q_2%20-%2056q_0%20%2B%2064q_1%5E2q_2%5E2%20%2B%2064q_1%5E2q_2%20%2B%2016q_1%5E2%20%2B%2032q_1q_2%5E2%20-%20208q_1q_2%20-%20112q_1%20%2B%204q_2%5E2%20-%2056q_2%20%2B%20196\">\n",
        "\n",
        "as the binary numer rules we get.\n",
        "\n",
        "<img class=\"math math-inline\" src=\"https://render.githubusercontent.com/render/math?math=E%20%3D%20128q_0q_1q_2%20%2B%2016q_0q_1%20-%2056q_0q_2%20-%2052q_0%20-%2048q_1q_2%20-%2096q_1%20-%2052q_2%20%2B%20196\">\n",
        "\n",
        "\n"
      ]
    },
    {
      "metadata": {
        "id": "4XCKbmOl2BY1",
        "colab_type": "text"
      },
      "cell_type": "markdown",
      "source": [
        "##Using boolean reduction to the 3-body interaction\n",
        "\n",
        "Here we have 3-body interaction which the ising model machines cannot solve. We have to reduce the number of interaction from 3-body to 2-body.\n",
        "\n",
        "Now we prepare q1*q2 = q3 and put the penarty term at the end of equation.\n",
        "\n",
        "<img class=\"math math-inline\" src=\"https://render.githubusercontent.com/render/math?math=E%20%3D%20128q_0q_3%20%2B%2016q_0q_1%20-%2056q_0q_2%20-%2052q_0%20-%2048q_1q_2%20-%2096q_1%20-%2052q_2%20%2B%20196%20%2B%20%5Cdelta(3q_3%2Bq_1q_2-2q_1q_3-2q_2q_3)\">\n",
        "\n",
        "Now we use Gamma = 128 and solve this equation creating QUBO matrix which has coefficiences in the equation as the elements in the matrix."
      ]
    },
    {
      "metadata": {
        "id": "fwBgJDHE-uBL",
        "colab_type": "code",
        "colab": {
          "base_uri": "https://localhost:8080/",
          "height": 51
        },
        "outputId": "b033a32b-cb70-41b8-89bd-cbcd660e8245"
      },
      "cell_type": "code",
      "source": [
        "import wildqat as wq\n",
        "a = wq.opt()\n",
        "a.qubo = [[-52,16,-56,128],[0,-96,80,-256],[0,0,-52,-256],[0,0,0,384]]\n",
        "a.sa()"
      ],
      "execution_count": 0,
      "outputs": [
        {
          "output_type": "stream",
          "text": [
            "1.6109580993652344\n"
          ],
          "name": "stdout"
        },
        {
          "output_type": "execute_result",
          "data": {
            "text/plain": [
              "[0, 1, 1, 1]"
            ]
          },
          "metadata": {
            "tags": []
          },
          "execution_count": 6
        }
      ]
    },
    {
      "metadata": {
        "id": "l1CdzcSsuX4r",
        "colab_type": "code",
        "colab": {
          "base_uri": "https://localhost:8080/",
          "height": 34
        },
        "outputId": "7edad3d9-c46e-4334-c013-e1621c63325d"
      },
      "cell_type": "code",
      "source": [
        "print(a.E[-1])"
      ],
      "execution_count": 0,
      "outputs": [
        {
          "output_type": "stream",
          "text": [
            "-196.0\n"
          ],
          "name": "stdout"
        }
      ]
    },
    {
      "metadata": {
        "id": "5FnOKgVXvamp",
        "colab_type": "text"
      },
      "cell_type": "markdown",
      "source": [
        "Now we get []0,0,0,1] and it shows\n",
        "\n",
        "p = 1+0+4=5\n",
        "q = 1+2 = 3\n",
        "\n",
        "total energy is -196 and this is equal to 0 if you substitute this value to the energy function.\n",
        "\n",
        "And finally we solved the problem using QUBO and minimum problem to solve simple factoring."
      ]
    },
    {
      "metadata": {
        "id": "-T_ksOmWuwTu",
        "colab_type": "code",
        "colab": {}
      },
      "cell_type": "code",
      "source": [
        ""
      ],
      "execution_count": 0,
      "outputs": []
    }
  ]
}