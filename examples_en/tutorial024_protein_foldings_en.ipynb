{
  "nbformat": 4,
  "nbformat_minor": 0,
  "metadata": {
    "colab": {
      "name": "tutorial024_protein_foldings_en",
      "version": "0.3.2",
      "provenance": [],
      "collapsed_sections": []
    },
    "kernelspec": {
      "name": "python3",
      "display_name": "Python 3"
    }
  },
  "cells": [
    {
      "metadata": {
        "id": "9x8rGoL0OcUW",
        "colab_type": "text"
      },
      "cell_type": "markdown",
      "source": [
        "#Protein Foldings\n",
        "\n",
        "Now we try a simple example from the paper\n",
        "\n",
        "Finding low-energy conformations of lattice protein models by quantum annealing\n",
        "Alejandro Perdomo-Ortiz, Neil Dickson, Marshall Drew-Brook, Geordie Rose & Alán Aspuru-Guzik\n",
        "Scientific Reports volume 2, Article number: 571 (2012)\n",
        "https://www.nature.com/articles/srep00571"
      ]
    },
    {
      "metadata": {
        "id": "7Q5842YzOoFr",
        "colab_type": "text"
      },
      "cell_type": "markdown",
      "source": [
        "##Overview\n",
        "This is solving a simple HP model and Mijazawa-Jernigan(MJ) model of protein model"
      ]
    },
    {
      "metadata": {
        "id": "1lavzUR0O1dk",
        "colab_type": "text"
      },
      "cell_type": "markdown",
      "source": [
        "##MJ model to QUBO\n",
        "Expressing turn using 2 binary values.\n",
        "\n",
        "<img src=\"https://github.com/mdrft/Wildqat/blob/master/examples_ja/img/024_5.png?raw=1\">\n",
        "引用：https://www.nature.com/articles/srep00571\n",
        "\n",
        "This time we use PSVKMA of amino acid.\n",
        "There are some inter action if some acid locate next to specific acid.\n",
        "By using this rules we solve QUBO as minimum function.\n",
        "\n",
        "<img src=\"https://github.com/mdrft/Wildqat/blob/master/examples_ja/img/024_0.png?raw=1\">\n",
        "\n",
        "The whole calculation is complicated so we now solve only a part of it separated to some scheme.\n",
        "\n",
        "<img src=\"https://github.com/mdrft/Wildqat/blob/master/examples_ja/img/024_1.png?raw=1\">\n",
        "\n",
        "引用：https://www.nature.com/articles/srep00571\n",
        "\n",
        "Finally we try to find the most stable state by the QUBO calcuration.\n",
        "\n",
        "<img src=\"https://github.com/mdrft/Wildqat/blob/master/examples_ja/img/024_2.png?raw=1\">\n",
        "\n",
        "引用：https://www.nature.com/articles/srep00571"
      ]
    },
    {
      "metadata": {
        "id": "incREHo7VUM_",
        "colab_type": "text"
      },
      "cell_type": "markdown",
      "source": [
        "##Model and scheme\n",
        "<img src=\"https://github.com/mdrft/Wildqat/blob/master/examples_ja/img/024_4.png?raw=1\">\n",
        "\n",
        "Now we started from the scheme that we already have PSVK and just find out the location of M and A. The list of rotation start from 010 and we already have PSVK and M takes only two possibility so we have now the cost function as \n",
        "\n",
        "<img src=\"https://render.githubusercontent.com/render/math?math=01%2000%2010%20q_1%200%20q_2%20q_3\">\n",
        "\n",
        "Now we try to find value of 3 qubits. We have the cost function from the paper,\n",
        "\n",
        "<img src=\"https://render.githubusercontent.com/render/math?math=E%20%3D%20-1-4q_3%2B9q_1q_3%2B9q_2q_3-16q_1q_2q_3\">\n"
      ]
    },
    {
      "metadata": {
        "id": "13okraFgWdfp",
        "colab_type": "text"
      },
      "cell_type": "markdown",
      "source": [
        "##Boolean reduction of 3-body interaction to 2-body interaction\n",
        "We have to reduce the dimension of the equation using some mathematical technique.\n",
        "Using q4 we have, \n",
        "\n",
        "<img src=\"https://render.githubusercontent.com/render/math?math=q_4=q_1q_2 \">\n",
        "\n",
        "adding a penalty term we have, \n",
        "\n",
        "<img src=\"https://render.githubusercontent.com/render/math?math=E%20%3D%20-1-4q_3%2B9q_1q_3%2B9q_2q_3-16q_3q_4%2B%5Cdelta(3q_4%2Bq_1q_2-2q_1q_4-2q_2q_4)\">\n",
        "\n",
        "By using wildqat we try to solve this equation."
      ]
    },
    {
      "metadata": {
        "id": "UGsLxgGFXGeT",
        "colab_type": "text"
      },
      "cell_type": "markdown",
      "source": [
        "##Solving using wildqat\n",
        "Now we have delta = 10 and just put the cost funtion"
      ]
    },
    {
      "metadata": {
        "id": "9P2zwQ1IOQ8d",
        "colab_type": "code",
        "colab": {}
      },
      "cell_type": "code",
      "source": [
        "!pip install -U wildqat"
      ],
      "execution_count": 0,
      "outputs": []
    },
    {
      "metadata": {
        "id": "C94w4p1qXNaK",
        "colab_type": "code",
        "colab": {
          "base_uri": "https://localhost:8080/",
          "height": 51
        },
        "outputId": "940b5f9f-1124-44fb-b3c3-ca4b11fdc75f"
      },
      "cell_type": "code",
      "source": [
        "import wildqat as wq\n",
        "a = wq.opt()\n",
        "d = 10;\n",
        "a.qubo = [[0,d,9,-2*d],[0,0,9,-2*d],[0,0,-4,-16],[0,0,0,3*d]]\n",
        "a.sa()\n"
      ],
      "execution_count": 3,
      "outputs": [
        {
          "output_type": "stream",
          "text": [
            "1.5831871032714844\n"
          ],
          "name": "stdout"
        },
        {
          "output_type": "execute_result",
          "data": {
            "text/plain": [
              "[0, 0, 1, 0]"
            ]
          },
          "metadata": {
            "tags": []
          },
          "execution_count": 3
        }
      ]
    },
    {
      "metadata": {
        "id": "mpLUbubQXfEY",
        "colab_type": "text"
      },
      "cell_type": "markdown",
      "source": [
        "We get the answer 0010 as the list of qubits.\n",
        "The rotation is now,\n",
        "\n",
        "0100100010\n",
        "\n",
        "and we could get the correct rotation and get the most stable state of PSVKMA\n",
        "\n",
        "<img src=\"https://github.com/mdrft/Wildqat/blob/master/examples_ja/img/024_7.png?raw=1\">"
      ]
    }
  ]
}