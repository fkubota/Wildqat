{
  "nbformat": 4,
  "nbformat_minor": 0,
  "metadata": {
    "colab": {
      "name": "tutorial004_BIL_en",
      "version": "0.3.2",
      "provenance": []
    },
    "kernelspec": {
      "name": "python3",
      "display_name": "Python 3"
    }
  },
  "cells": [
    {
      "metadata": {
        "id": "37f1qQvLpWzM",
        "colab_type": "text"
      },
      "cell_type": "markdown",
      "source": [
        "#Binary Integer Linear Programming\n",
        "With the constraint Sx=b for vector x. Finding vector x which maximize c⋅x is so called binary integer linear programming\n",
        "\n",
        "Let's connect constraint and cost function we can get\n",
        "\n",
        "<img src=\"https://github.com/mdrft/Wildqat/blob/master/examples_en/img/004_0.png?raw=1\">\n",
        "\n"
      ]
    },
    {
      "metadata": {
        "id": "hAKGp9-RpyJF",
        "colab_type": "text"
      },
      "cell_type": "markdown",
      "source": [
        "##Example\n",
        "We prepared example below.\n",
        "Now we have constrain as the 1st equation and try to maximize the 2nd equation.\n",
        "\n",
        "<img src=\"https://github.com/mdrft/Wildqat/blob/master/examples_en/img/004_1.png?raw=1\">\n"
      ]
    },
    {
      "metadata": {
        "id": "Uy6U_6rIqLHH",
        "colab_type": "text"
      },
      "cell_type": "markdown",
      "source": [
        "##The first term\n",
        "For the first term we create a constrain which satisfy Sx=b.\n",
        "And this time we try to solve this constraint by using matrix A and solve b^2 - 2*b*A + A^2. We can remove constant term of b^2 and we just have to calculate -2*b*A+A^2"
      ]
    },
    {
      "metadata": {
        "id": "vvIRMcqho_Ld",
        "colab_type": "code",
        "colab": {}
      },
      "cell_type": "code",
      "source": [
        "!pip install -U wildqat"
      ],
      "execution_count": 0,
      "outputs": []
    },
    {
      "metadata": {
        "id": "EWvg3V3vqlBC",
        "colab_type": "code",
        "colab": {}
      },
      "cell_type": "code",
      "source": [
        "import wildqat as wq\n",
        "import numpy as np\n",
        "a = wq.opt()"
      ],
      "execution_count": 0,
      "outputs": []
    },
    {
      "metadata": {
        "id": "ubiKxrvuqoCi",
        "colab_type": "code",
        "colab": {
          "base_uri": "https://localhost:8080/",
          "height": 68
        },
        "outputId": "651f87ce-0b57-41d2-da70-9e24c1097cad"
      },
      "cell_type": "code",
      "source": [
        "A = [[3,2,1],[5,2,3]]\n",
        "b = [3,5]\n",
        "\n",
        "a.qubo = np.zeros((3,3))\n",
        "\n",
        "for i in range(len(b)):\n",
        "  a.qubo += -2*b[i]*np.diag(A[i]) + wq.sqr(A[i])\n",
        "\n",
        "print(a.qubo)\n"
      ],
      "execution_count": 0,
      "outputs": [
        {
          "output_type": "stream",
          "text": [
            "[[-34.  32.  36.]\n",
            " [  0. -24.  16.]\n",
            " [  0.   0. -26.]]\n"
          ],
          "name": "stdout"
        }
      ]
    },
    {
      "metadata": {
        "id": "P01zzQ6MrtEO",
        "colab_type": "text"
      },
      "cell_type": "markdown",
      "source": [
        "Now once we check the constraint"
      ]
    },
    {
      "metadata": {
        "id": "CiCLoHalrStB",
        "colab_type": "code",
        "colab": {
          "base_uri": "https://localhost:8080/",
          "height": 51
        },
        "outputId": "eccaa340-430a-498f-c489-501c27dd6381"
      },
      "cell_type": "code",
      "source": [
        "a.sa()"
      ],
      "execution_count": 0,
      "outputs": [
        {
          "output_type": "stream",
          "text": [
            "1.5176544189453125\n"
          ],
          "name": "stdout"
        },
        {
          "output_type": "execute_result",
          "data": {
            "text/plain": [
              "[0, 1, 1]"
            ]
          },
          "metadata": {
            "tags": []
          },
          "execution_count": 20
        }
      ]
    },
    {
      "metadata": {
        "id": "PBn6sGCmrq6k",
        "colab_type": "code",
        "colab": {
          "base_uri": "https://localhost:8080/",
          "height": 51
        },
        "outputId": "4bb27fc0-43b4-44e2-cde4-762ea7df8cec"
      },
      "cell_type": "code",
      "source": [
        "a.sa()"
      ],
      "execution_count": 0,
      "outputs": [
        {
          "output_type": "stream",
          "text": [
            "1.5336260795593262\n"
          ],
          "name": "stdout"
        },
        {
          "output_type": "execute_result",
          "data": {
            "text/plain": [
              "[1, 0, 0]"
            ]
          },
          "metadata": {
            "tags": []
          },
          "execution_count": 34
        }
      ]
    },
    {
      "metadata": {
        "id": "mNloFgUrrso7",
        "colab_type": "text"
      },
      "cell_type": "markdown",
      "source": [
        "we got [0,1,1] or [1,0,0]"
      ]
    },
    {
      "metadata": {
        "id": "hSCF36qsrRG7",
        "colab_type": "text"
      },
      "cell_type": "markdown",
      "source": [
        "##The second term\n",
        "And next we prepare for the second term"
      ]
    },
    {
      "metadata": {
        "id": "1X4BrX2srO5S",
        "colab_type": "code",
        "colab": {
          "base_uri": "https://localhost:8080/",
          "height": 68
        },
        "outputId": "d72f7543-d7e7-477c-b7d6-dcc214921136"
      },
      "cell_type": "code",
      "source": [
        "matrix2 = np.diag([1,2,1])\n",
        "print(matrix2)"
      ],
      "execution_count": 0,
      "outputs": [
        {
          "output_type": "stream",
          "text": [
            "[[1 0 0]\n",
            " [0 2 0]\n",
            " [0 0 1]]\n"
          ],
          "name": "stdout"
        }
      ]
    },
    {
      "metadata": {
        "id": "Zkbs5pjFsPHL",
        "colab_type": "text"
      },
      "cell_type": "markdown",
      "source": [
        "#create final QUBO\n",
        "Now create a QUBO by adding the 1st and 2nd term as matrix"
      ]
    },
    {
      "metadata": {
        "id": "3tSYIYUIsT2i",
        "colab_type": "code",
        "colab": {
          "base_uri": "https://localhost:8080/",
          "height": 51
        },
        "outputId": "1fe6eab7-5d57-4528-f887-e58b74213ee9"
      },
      "cell_type": "code",
      "source": [
        "B = 1\n",
        "a.qubo += - B * matrix2\n",
        "a.sa()"
      ],
      "execution_count": 0,
      "outputs": [
        {
          "output_type": "stream",
          "text": [
            "1.5346970558166504\n"
          ],
          "name": "stdout"
        },
        {
          "output_type": "execute_result",
          "data": {
            "text/plain": [
              "[0, 1, 1]"
            ]
          },
          "metadata": {
            "tags": []
          },
          "execution_count": 27
        }
      ]
    },
    {
      "metadata": {
        "id": "561L2mKAsynt",
        "colab_type": "text"
      },
      "cell_type": "markdown",
      "source": [
        "Finally we get [0,1,1].\n",
        "Let's check the time evolution of cost function."
      ]
    },
    {
      "metadata": {
        "id": "BrqXVTEzsKBZ",
        "colab_type": "code",
        "colab": {
          "base_uri": "https://localhost:8080/",
          "height": 347
        },
        "outputId": "e3037a5a-0626-4a2c-c94b-c371e25dcff1"
      },
      "cell_type": "code",
      "source": [
        "a.plot()"
      ],
      "execution_count": 0,
      "outputs": [
        {
          "output_type": "display_data",
          "data": {
            "image/png": "[encoded data removed]",
            "text/plain": [
              "<Figure size 576x396 with 1 Axes>"
            ]
          },
          "metadata": {
            "tags": []
          }
        }
      ]
    }
  ]
}