{
  "nbformat": 4,
  "nbformat_minor": 0,
  "metadata": {
    "colab": {
      "name": "tutorial005_clique_cover_en.ipynb",
      "version": "0.3.2",
      "provenance": []
    },
    "kernelspec": {
      "display_name": "Python 3",
      "language": "python",
      "name": "python3"
    }
  },
  "cells": [
    {
      "metadata": {
        "id": "Sz3j5dlzYWEM",
        "colab_type": "text"
      },
      "cell_type": "markdown",
      "source": [
        "# Clique Cover\n",
        "\n",
        "In graph theory, a clique cover or partition into cliques of a given undirected graph is a partition of the vertices of the graph into cliques, subsets of vertices within which every two vertices are adjacent. A minimum clique cover is a clique cover that uses as few cliques as possible. The minimum k for which a clique cover exists is called the clique cover number of the given graph.\n",
        "\n",
        "https://en.wikipedia.org/wiki/Clique_cover"
      ]
    },
    {
      "metadata": {
        "id": "FPWEQpF3YWEN",
        "colab_type": "text"
      },
      "cell_type": "markdown",
      "source": [
        "# Cost Function\n",
        "When we color vertex $v$ with color $i$ we show using qubit as $x_{v,i}$.\n",
        "Now we have the cost function\n",
        "\n",
        "$ \\displaystyle H = A \\sum_v \\left( 1 - \\sum_{i = 1}^n x_{v,i} \\right)^2 + B \\sum_{i=1}^n \\left[ \\frac {1}{2} \\left( -1 + \\sum_v x_{v,i} \\right) \\sum_v x_{v,i} - \\sum_{(uv) \\in E} x_{u,i}x_{v.i} \\right]$\n",
        "\n",
        "Expand it and we have,\n",
        "\n",
        "$ \\displaystyle H = A \\sum_v \\left\\{ -2 \\sum_{i=1}^n x_{v,i} + \\left(\\sum_{i=1}^n x_{v,i}\\right)^2 \\right\\} + B \\sum_{i=1}^n \\left\\{ -\\frac{1}{2} \\sum_v x_{v,i} + \\frac{1}{2}\\left( \\sum_v x_{v,i}\\right)^2 - \\sum_{(u,v) \\in E} x_{u,i}x_{v,i}\\right\\}+ Const. $  \n",
        "$ \\displaystyle = A \\sum_v \\left( -2 \\sum_{i=1}^n x_{v,i} + \\sum_{i=1}^n x_{v,i}^2 + 2\\mathop{ \\sum \\sum }_{i \\neq j }^{n} x_{v,i}x_{v,j} \\right) + B \\sum_{i=1}^n \\left\\{ \\frac{1}{2} \\left(-\\sum_v x_{v,i} + \\sum_v x_{v,i}^2 + \\mathop{\\sum \\sum}_{u \\neq v}^{n} x_{u,i}x_{v,i} \\right) - \\sum_{(u,v) \\in E} x_{u,i}x_{v,i}\\right\\}+ Const. $  \n",
        "$ \\displaystyle = A \\sum_v \\left( - \\sum_{i=1}^n x_{v,i}^2 + 2\\mathop { \\sum \\sum }_{i \\neq j }^{n} x_{v,i}x_{v,j} \\right) + B \\sum_{i=1}^n \\left( \\frac{1}{2} \\mathop{\\sum \\sum}_{u \\neq v}^{n}x_{u,i}x_{v,i} - \\sum_{(u,v) \\in E} x_{u,i}x_{v,i}\\right)+ Const. $"
      ]
    },
    {
      "metadata": {
        "id": "-P_h2fICYWEO",
        "colab_type": "text"
      },
      "cell_type": "markdown",
      "source": [
        "# Solving QUBO"
      ]
    },
    {
      "metadata": {
        "id": "E9k5tuN7Zd0C",
        "colab_type": "code",
        "colab": {}
      },
      "cell_type": "code",
      "source": [
        "!pip install wildqat"
      ],
      "execution_count": 0,
      "outputs": []
    },
    {
      "metadata": {
        "id": "biPn2HdLYWEP",
        "colab_type": "code",
        "colab": {}
      },
      "cell_type": "code",
      "source": [
        "import wildqat as wq\n",
        "import numpy as np\n",
        "\n",
        "def get_qubo(adjacency_matrix, n_color, A, B):\n",
        "    graph_size = len(adjacency_matrix)\n",
        "    qubo_size = graph_size * n_color\n",
        "    qubo = np.zeros((qubo_size, qubo_size))\n",
        "    indices = [(u,v,i,j) for u in range(graph_size) for v in range(graph_size) for i in range(n_color) for j in range(n_color)]\n",
        "    for u,v,i,j in indices:\n",
        "        ui = u * n_color + i\n",
        "        vj = v * n_color + j\n",
        "        if ui > vj:\n",
        "            continue\n",
        "            \n",
        "        if ui == vj:\n",
        "            qubo[ui][vj] -= A\n",
        "        if u == v and i != j:\n",
        "            qubo[ui][vj] += A * 2\n",
        "        if u != v and i == j:\n",
        "            qubo[ui][vj] += B * 0.5\n",
        "            if adjacency_matrix[u][v] > 0:\n",
        "                qubo[ui][vj] -= B\n",
        "    return qubo"
      ],
      "execution_count": 0,
      "outputs": []
    },
    {
      "metadata": {
        "id": "bXHjnVQMYWES",
        "colab_type": "code",
        "colab": {}
      },
      "cell_type": "code",
      "source": [
        "def show_answer(q, graph_size, n_color):\n",
        "    print(q)\n",
        "    for v in range(graph_size):\n",
        "        color = []\n",
        "        for i in range(n_color):\n",
        "            index = v * n_color + i\n",
        "            if q[index] > 0:\n",
        "                color.append(i)\n",
        "        print(f\"vertex{v}'s color is {color}\")"
      ],
      "execution_count": 0,
      "outputs": []
    },
    {
      "metadata": {
        "id": "2k9isCHQYWEV",
        "colab_type": "code",
        "colab": {}
      },
      "cell_type": "code",
      "source": [
        "def calculate_H(q, adjacency_matrix, n_color, A, B):\n",
        "    graph_size = len(adjacency_matrix)\n",
        "    h_a = calculate_H_A(q, graph_size, n_color, A)\n",
        "    h_b = calculate_H_B(q, adjacency_matrix, n_color, B)\n",
        "    print(f\"H = {h_a + h_b}\")\n",
        "    return h_a + h_b\n",
        "\n",
        "def calculate_H_A(q, graph_size, n_color, A):\n",
        "    hamiltonian = 0\n",
        "    for v in range(graph_size):\n",
        "        sum_x = 0\n",
        "        for i in range(n_color):\n",
        "            index = v * n_color + i\n",
        "            sum_x += q[index]\n",
        "        hamiltonian += (1 - sum_x) ** 2\n",
        "    hamiltonian *= A\n",
        "    print(f\"H_A = {hamiltonian}\")\n",
        "    return hamiltonian\n",
        "\n",
        "def calculate_H_B(q, adjacency_matrix, n_color, B):\n",
        "    graph_size = len(adjacency_matrix)\n",
        "    hamiltonian = 0\n",
        "    for i in range(n_color):\n",
        "        sum_x = 0\n",
        "        for v in range(graph_size):\n",
        "            vi = v * n_color + i\n",
        "            sum_x += q[vi]\n",
        "            for u in range(graph_size):\n",
        "                if u >= v:\n",
        "                    continue\n",
        "                ui = u * n_color + i\n",
        "                hamiltonian -= adjacency_matrix[u][v] * q[ui] * q[vi]\n",
        "        hamiltonian += 0.5 * (-1 + sum_x) * sum_x\n",
        "    hamiltonian *= B\n",
        "    print(f\"H_B = {hamiltonian}\")\n",
        "    return hamiltonian"
      ],
      "execution_count": 0,
      "outputs": []
    },
    {
      "metadata": {
        "id": "jfxYM3GMYWEa",
        "colab_type": "text"
      },
      "cell_type": "markdown",
      "source": [
        "This time we have an example like below,\n",
        "\n",
        "![005.png](https://github.com/mdrft/Wildqat/blob/master/examples_ja/img/005.png?raw=1)"
      ]
    },
    {
      "metadata": {
        "id": "pTcc263zYWEc",
        "colab_type": "code",
        "colab": {
          "base_uri": "https://localhost:8080/",
          "height": 1717
        },
        "outputId": "e2650336-9354-43e5-fcb7-d324f785eeaa"
      },
      "cell_type": "code",
      "source": [
        "adjacency_matrix = \\\n",
        "[ \\\n",
        "    [0,1,1,0,0], \\\n",
        "    [1,0,1,1,1], \\\n",
        "    [1,1,0,1,0], \\\n",
        "    [0,1,1,0,1], \\\n",
        "    [0,1,0,1,0], \\\n",
        "]\n",
        "\n",
        "n_color = 2\n",
        "A = 0.1\n",
        "B = 0.1\n",
        "\n",
        "annealer = wq.opt()\n",
        "annealer.qubo = get_qubo(adjacency_matrix, n_color, A, B)\n",
        "for _ in range(10):\n",
        "    q = annealer.sa()\n",
        "    calculate_H(q, adjacency_matrix, n_color, A, B)\n",
        "    show_answer(q, len(adjacency_matrix), n_color)\n",
        "    print()"
      ],
      "execution_count": 5,
      "outputs": [
        {
          "output_type": "stream",
          "text": [
            "H_A = 0.1\n",
            "H_B = 0.2\n",
            "H = 0.30000000000000004\n",
            "[1, 0, 1, 0, 1, 1, 1, 0, 0, 1]\n",
            "vertex0's color is [0]\n",
            "vertex1's color is [0]\n",
            "vertex2's color is [0, 1]\n",
            "vertex3's color is [0]\n",
            "vertex4's color is [1]\n",
            "\n",
            "H_A = 0.0\n",
            "H_B = 0.0\n",
            "H = 0.0\n",
            "[1, 0, 1, 0, 1, 0, 0, 1, 0, 1]\n",
            "vertex0's color is [0]\n",
            "vertex1's color is [0]\n",
            "vertex2's color is [0]\n",
            "vertex3's color is [1]\n",
            "vertex4's color is [1]\n",
            "\n",
            "H_A = 0.0\n",
            "H_B = 0.1\n",
            "H = 0.1\n",
            "[0, 1, 1, 0, 1, 0, 1, 0, 1, 0]\n",
            "vertex0's color is [1]\n",
            "vertex1's color is [0]\n",
            "vertex2's color is [0]\n",
            "vertex3's color is [0]\n",
            "vertex4's color is [0]\n",
            "\n",
            "H_A = 0.0\n",
            "H_B = 0.1\n",
            "H = 0.1\n",
            "[1, 0, 0, 1, 0, 1, 0, 1, 0, 1]\n",
            "vertex0's color is [0]\n",
            "vertex1's color is [1]\n",
            "vertex2's color is [1]\n",
            "vertex3's color is [1]\n",
            "vertex4's color is [1]\n",
            "\n",
            "H_A = 0.0\n",
            "H_B = 0.30000000000000004\n",
            "H = 0.30000000000000004\n",
            "[0, 1, 0, 1, 0, 1, 0, 1, 0, 1]\n",
            "vertex0's color is [1]\n",
            "vertex1's color is [1]\n",
            "vertex2's color is [1]\n",
            "vertex3's color is [1]\n",
            "vertex4's color is [1]\n",
            "\n",
            "H_A = 0.0\n",
            "H_B = 0.30000000000000004\n",
            "H = 0.30000000000000004\n",
            "[1, 0, 1, 0, 1, 0, 1, 0, 1, 0]\n",
            "vertex0's color is [0]\n",
            "vertex1's color is [0]\n",
            "vertex2's color is [0]\n",
            "vertex3's color is [0]\n",
            "vertex4's color is [0]\n",
            "\n",
            "H_A = 0.0\n",
            "H_B = 0.0\n",
            "H = 0.0\n",
            "[1, 0, 1, 0, 1, 0, 0, 1, 0, 1]\n",
            "vertex0's color is [0]\n",
            "vertex1's color is [0]\n",
            "vertex2's color is [0]\n",
            "vertex3's color is [1]\n",
            "vertex4's color is [1]\n",
            "\n",
            "H_A = 0.0\n",
            "H_B = 0.0\n",
            "H = 0.0\n",
            "[0, 1, 0, 1, 0, 1, 1, 0, 1, 0]\n",
            "vertex0's color is [1]\n",
            "vertex1's color is [1]\n",
            "vertex2's color is [1]\n",
            "vertex3's color is [0]\n",
            "vertex4's color is [0]\n",
            "\n",
            "H_A = 0.0\n",
            "H_B = 0.30000000000000004\n",
            "H = 0.30000000000000004\n",
            "[0, 1, 0, 1, 0, 1, 0, 1, 0, 1]\n",
            "vertex0's color is [1]\n",
            "vertex1's color is [1]\n",
            "vertex2's color is [1]\n",
            "vertex3's color is [1]\n",
            "vertex4's color is [1]\n",
            "\n",
            "H_A = 0.0\n",
            "H_B = 0.30000000000000004\n",
            "H = 0.30000000000000004\n",
            "[1, 0, 1, 0, 1, 0, 1, 0, 1, 0]\n",
            "vertex0's color is [0]\n",
            "vertex1's color is [0]\n",
            "vertex2's color is [0]\n",
            "vertex3's color is [0]\n",
            "vertex4's color is [0]\n",
            "\n"
          ],
          "name": "stdout"
        }
      ]
    },
    {
      "metadata": {
        "id": "2L8nX_R9YWEi",
        "colab_type": "text"
      },
      "cell_type": "markdown",
      "source": [
        "When we have $H = 0$ these as answers."
      ]
    }
  ]
}