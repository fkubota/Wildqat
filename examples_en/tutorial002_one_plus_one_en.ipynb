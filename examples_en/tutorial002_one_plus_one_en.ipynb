{
  "nbformat": 4,
  "nbformat_minor": 0,
  "metadata": {
    "colab": {
      "name": "tutorial2_one_plus_one_en.ipynb のコピー",
      "version": "0.3.2",
      "provenance": []
    },
    "kernelspec": {
      "name": "python3",
      "display_name": "Python 3"
    }
  },
  "cells": [
    {
      "metadata": {
        "id": "jal7xDYFe3Nq",
        "colab_type": "text"
      },
      "cell_type": "markdown",
      "source": [
        "# one plus one by QUBO"
      ]
    },
    {
      "metadata": {
        "id": "r7j1DqYse7cB",
        "colab_type": "text"
      },
      "cell_type": "markdown",
      "source": [
        "First we prepare the wildqat for the optimization"
      ]
    },
    {
      "metadata": {
        "id": "3kZbVlgVp8Zg",
        "colab_type": "code",
        "colab": {}
      },
      "cell_type": "code",
      "source": [
        "!pip install -U wildqat"
      ],
      "execution_count": 0,
      "outputs": []
    },
    {
      "metadata": {
        "id": "fMKF-eQyerzg",
        "colab_type": "code",
        "colab": {}
      },
      "cell_type": "code",
      "source": [
        "import wildqat as wq\n",
        "a = wq.opt()"
      ],
      "execution_count": 0,
      "outputs": []
    },
    {
      "metadata": {
        "id": "-x7dmTzre7AN",
        "colab_type": "text"
      },
      "cell_type": "markdown",
      "source": [
        "This time we want to solve the problem below. \n",
        "\n",
        "1+ 1 = x\n",
        "\n",
        "This is equivalent to solve the minimum value problem of the equation below\n",
        "\n",
        "E = (x-2)^2\n",
        "\n",
        "expanding it and we get this equiation.\n",
        "\n",
        "E = x^2 -4x + 4\n",
        "\n",
        "Besides this x can write to decimal number using 2 qubits binary value.\n",
        "\n",
        "x = q0 + 2q1\n",
        "\n",
        "and substitute x for E.\n",
        "\n",
        "H = q0^2 + 4*q0*q1 - 4*q0 + 4*q1^2 - 8*q1 + 4\n",
        "\n",
        "Expanding it and we can make the equation simple by using binary rules.\n",
        "\n",
        "q0^2 = q0  \n",
        "q1^2 = q1\n",
        "\n",
        "H = -3q0 + 4q0q1 - 4q1 +4\n",
        "\n",
        "And we can get QUBO matrix by locating every coeffficient on the off-diagonal elements of the matrix"
      ]
    },
    {
      "metadata": {
        "id": "wImQpd7_eum_",
        "colab_type": "code",
        "colab": {}
      },
      "cell_type": "code",
      "source": [
        "a.qubo = [[-3,4],[0,-4]]"
      ],
      "execution_count": 0,
      "outputs": []
    },
    {
      "metadata": {
        "id": "BRLbSqcZfCzz",
        "colab_type": "text"
      },
      "cell_type": "markdown",
      "source": [
        "And let's calculate this by simulated annealing algorithm"
      ]
    },
    {
      "metadata": {
        "id": "tYYg8-xeeylP",
        "colab_type": "code",
        "colab": {
          "base_uri": "https://localhost:8080/",
          "height": 51
        },
        "outputId": "0bb7c4bd-ef63-48b2-efbf-6130894a5170"
      },
      "cell_type": "code",
      "source": [
        "a.sa()"
      ],
      "execution_count": 4,
      "outputs": [
        {
          "output_type": "stream",
          "text": [
            "1.6742925643920898\n"
          ],
          "name": "stdout"
        },
        {
          "output_type": "execute_result",
          "data": {
            "text/plain": [
              "[0, 1]"
            ]
          },
          "metadata": {
            "tags": []
          },
          "execution_count": 4
        }
      ]
    },
    {
      "metadata": {
        "id": "HFw1v_jMfGeR",
        "colab_type": "text"
      },
      "cell_type": "markdown",
      "source": [
        "We aquired q0=1,q1=1 and get 2 for 1+1 by using QUBO\n",
        "\n",
        "1 + 1 = 0 + 2*1 = 2"
      ]
    }
  ]
}