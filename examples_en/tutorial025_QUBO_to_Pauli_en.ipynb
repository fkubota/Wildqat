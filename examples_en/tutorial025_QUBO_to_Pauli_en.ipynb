{
  "nbformat": 4,
  "nbformat_minor": 0,
  "metadata": {
    "colab": {
      "name": "turorial025_QUBO_to_Pauli のコピー",
      "version": "0.3.2",
      "provenance": []
    },
    "kernelspec": {
      "name": "python3",
      "display_name": "Python 3"
    }
  },
  "cells": [
    {
      "metadata": {
        "id": "XH6JnQKHOpNJ",
        "colab_type": "text"
      },
      "cell_type": "markdown",
      "source": [
        "#Covert QUBO to Pauli operator on Universal Gate Model\n",
        "Wilqat has function to automatically convert QUBO to Pauli operators for quantum simulation on QAOA"
      ]
    },
    {
      "metadata": {
        "id": "IDK-PyXWO8N6",
        "colab_type": "text"
      },
      "cell_type": "markdown",
      "source": [
        "#Wildqat and Blueqat\n",
        "We need blueqat to calculate universal gate model simualtion"
      ]
    },
    {
      "metadata": {
        "id": "yvv5gMdJOoIZ",
        "colab_type": "code",
        "colab": {}
      },
      "cell_type": "code",
      "source": [
        "!pip install wildqat\n",
        "!pip install blueqat"
      ],
      "execution_count": 0,
      "outputs": []
    },
    {
      "metadata": {
        "id": "NR4dHQC8O7x8",
        "colab_type": "text"
      },
      "cell_type": "markdown",
      "source": [
        "#Example\n",
        "With wildqat first we create a QUBO matrix which select K qubits from Nqubits, and then try to convert it to pauli operator. We now try select 1 qubit from 4 qubits"
      ]
    },
    {
      "metadata": {
        "id": "HmUcF-HxPghV",
        "colab_type": "code",
        "colab": {
          "base_uri": "https://localhost:8080/",
          "height": 54
        },
        "outputId": "cb99a4cc-c2bb-4ba7-d9bf-32b2412921d1"
      },
      "cell_type": "code",
      "source": [
        "import wildqat as wq\n",
        "from blueqat import vqe\n",
        "\n",
        "qubo = wq.pauli(wq.sel(4,1))\n",
        "step = 4\n",
        "result = vqe.Vqe(vqe.QaoaAnsatz(qubo,step)).run()\n",
        "print(result.most_common(5))"
      ],
      "execution_count": 0,
      "outputs": [
        {
          "output_type": "stream",
          "text": [
            "(((1, 0, 0, 0), 0.2226406659245161), ((0, 1, 0, 0), 0.222640665924516), ((0, 0, 1, 0), 0.222640665924516), ((0, 0, 0, 1), 0.22264066592451595), ((0, 0, 0, 0), 0.02866208270294894))\n"
          ],
          "name": "stdout"
        }
      ]
    },
    {
      "metadata": {
        "id": "7xa7ebf2PszK",
        "colab_type": "text"
      },
      "cell_type": "markdown",
      "source": [
        "All finished. with wq.sel() we choose 1 of 4 qubits.\n",
        "And wq.pauli() convert QUBO to pauli operator.\n",
        "\n",
        "\"step\" affects to the accuracy of the simulation on QAOA\n",
        "\n",
        "Finally we get the 5 sampling result from QAOA+VQE simulation on Blueqat universal gate model simulator.\n",
        "\n",
        "Universal model has wave function and state vector, and with the simulator we can easily see the probability as value."
      ]
    },
    {
      "metadata": {
        "id": "zDzwpXWfPqX3",
        "colab_type": "code",
        "colab": {
          "base_uri": "https://localhost:8080/",
          "height": 54
        },
        "outputId": "dad6f8f6-97cd-4ab7-f13b-71e95904c226"
      },
      "cell_type": "code",
      "source": [
        "qubo = wq.pauli(wq.sel(10,3))\n",
        "step = 4\n",
        "result = vqe.Vqe(vqe.QaoaAnsatz(qubo,step)).run()\n",
        "print(result.most_common(5))"
      ],
      "execution_count": 0,
      "outputs": [
        {
          "output_type": "stream",
          "text": [
            "(((0, 1, 1, 0, 0, 0, 1, 0, 0, 0), 0.006107876447827839), ((0, 0, 0, 0, 0, 1, 1, 1, 0, 0), 0.006107876447827838), ((0, 1, 0, 1, 0, 0, 1, 0, 0, 0), 0.006107876447827837), ((0, 0, 0, 0, 0, 1, 1, 0, 1, 0), 0.006107876447827837), ((0, 0, 0, 0, 0, 1, 0, 1, 1, 0), 0.006107876447827837))\n"
          ],
          "name": "stdout"
        }
      ]
    },
    {
      "metadata": {
        "id": "2x5gX2MwQ-JQ",
        "colab_type": "text"
      },
      "cell_type": "markdown",
      "source": [
        "It is also solved."
      ]
    }
  ]
}