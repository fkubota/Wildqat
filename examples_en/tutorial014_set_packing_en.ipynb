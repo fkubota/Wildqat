{
  "nbformat": 4,
  "nbformat_minor": 0,
  "metadata": {
    "colab": {
      "name": "tutorial014_set_packing_en.ipynb",
      "version": "0.3.2",
      "provenance": []
    },
    "kernelspec": {
      "display_name": "Python 3",
      "language": "python",
      "name": "python3"
    }
  },
  "cells": [
    {
      "metadata": {
        "id": "rQhM7XnNFGMM",
        "colab_type": "text"
      },
      "cell_type": "markdown",
      "source": [
        "# Set Packing Problem\n",
        "\n",
        "It's similar to tutorial007_exact_cover_en.ipynb\n",
        "\n",
        "Set packing is a classical NP-complete problem in computational complexity theory and combinatorics, and was one of Karp's 21 NP-complete problems.\n",
        "\n",
        "Suppose one has a finite set S and a list of subsets of S. Then, the set packing problem asks if some k subsets in the list are pairwise disjoint (in other words, no two of them share an element).\n",
        "\n",
        "https://en.wikipedia.org/wiki/Set_packing"
      ]
    },
    {
      "metadata": {
        "id": "XhmMF4YCFGMQ",
        "colab_type": "text"
      },
      "cell_type": "markdown",
      "source": [
        "## Installation\n",
        "\n",
        "Please install wildqat first\n",
        "\n",
        "```bash\n",
        "pip install wildqat\n",
        "```"
      ]
    },
    {
      "metadata": {
        "id": "ty3rdG-HFGMS",
        "colab_type": "text"
      },
      "cell_type": "markdown",
      "source": [
        "Import libraries and prepare instance."
      ]
    },
    {
      "metadata": {
        "id": "bc9Kbt4fFGMT",
        "colab_type": "code",
        "colab": {}
      },
      "cell_type": "code",
      "source": [
        "import numpy as np\n",
        "import matplotlib.pyplot as plt\n",
        "import wildqat as wq"
      ],
      "execution_count": 0,
      "outputs": []
    },
    {
      "metadata": {
        "id": "0gSFrTTSFGMZ",
        "colab_type": "text"
      },
      "cell_type": "markdown",
      "source": [
        "## create a QUBO\n",
        "\n",
        "This time we have the cost function \n",
        "\n",
        "$ E = E_{A} + E_{B} $\n",
        "\n",
        "And each of $E_{A}, E_{B}$ are defined as \n",
        "\n",
        "$ E _ { A } = A \\sum _ { i , j : V _ { i } \\cap V _ { j } \\neq \\emptyset } x _ { i } x _ { j }$\n",
        "\n",
        "$E _ { B } = - B \\sum _ { i } x _ { i }$\n",
        "\n",
        "For $A, B$  we need $A > B$"
      ]
    },
    {
      "metadata": {
        "id": "AL-gIZBxFGMZ",
        "colab_type": "code",
        "colab": {}
      },
      "cell_type": "code",
      "source": [
        "A = 1.0\n",
        "B = 0.9\n",
        "\n",
        "def get_qubo(V):\n",
        "    Q = np.zeros( (len(V), len(V)) )\n",
        "\n",
        "    for i in range(len(V)):\n",
        "        for j in range(i, len(V)):\n",
        "            if i == j:\n",
        "                Q[i][j] += -B\n",
        "            elif len(V[i]) + len(V[j]) != len( set(V[i]) | set(V[j]) ):\n",
        "                Q[i][j] +=  A\n",
        "\n",
        "    return Q"
      ],
      "execution_count": 0,
      "outputs": []
    },
    {
      "metadata": {
        "id": "xJGAeigeFGMd",
        "colab_type": "text"
      },
      "cell_type": "markdown",
      "source": [
        "And function for showing result."
      ]
    },
    {
      "metadata": {
        "id": "pQ0cYNbpFGMf",
        "colab_type": "code",
        "colab": {}
      },
      "cell_type": "code",
      "source": [
        "def show_answer(list_x, energies = None, show_graph = False):\n",
        "    print(\"Result x:\", list_x)\n",
        "    text = \"\"\n",
        "    for i in range(len(list_x)):\n",
        "        if(list_x[i]):\n",
        "            text += str(V[i])\n",
        "    print(\"Picked {} group(s): {}\".format(sum(list_x), text))\n",
        "    if energies is not None:\n",
        "        print(\"Energy:\", a.E[-1])\n",
        "    if show_graph:\n",
        "        plt.plot(a.E)\n",
        "        plt.show()"
      ],
      "execution_count": 0,
      "outputs": []
    },
    {
      "metadata": {
        "id": "yA8TZXDoFGMj",
        "colab_type": "text"
      },
      "cell_type": "markdown",
      "source": [
        "Let's start it."
      ]
    },
    {
      "metadata": {
        "id": "B3xi5q02FGMl",
        "colab_type": "code",
        "colab": {
          "base_uri": "https://localhost:8080/",
          "height": 442
        },
        "outputId": "9b142c9f-cb0f-406b-a08d-ae5de4476fed"
      },
      "cell_type": "code",
      "source": [
        "V = [ [1,2], [3,4,5,6], [7,8,9,10], [1,3,5], [10], [7,9], [2,4,6,8], [1,2,3,4,5,6,8,10] ]\n",
        "for i in range(5):\n",
        "    print(\"---{}times\".format(i+1))\n",
        "    a = wq.opt()\n",
        "    a.qubo = get_qubo(V)\n",
        "    answer = a.sa()\n",
        "    show_answer(answer, a.E)"
      ],
      "execution_count": 7,
      "outputs": [
        {
          "output_type": "stream",
          "text": [
            "---1times\n",
            "1.3860852718353271\n",
            "Result x: [1, 1, 0, 0, 1, 1, 0, 0]\n",
            "Picked 4 group(s): [1, 2][3, 4, 5, 6][10][7, 9]\n",
            "Energy: -3.5999999999999996\n",
            "---2times\n",
            "1.3801522254943848\n",
            "Result x: [0, 0, 0, 1, 1, 1, 1, 0]\n",
            "Picked 4 group(s): [1, 3, 5][10][7, 9][2, 4, 6, 8]\n",
            "Energy: -3.6000000000000005\n",
            "---3times\n",
            "1.388472318649292\n",
            "Result x: [1, 1, 0, 0, 1, 1, 0, 0]\n",
            "Picked 4 group(s): [1, 2][3, 4, 5, 6][10][7, 9]\n",
            "Energy: -3.5999999999999996\n",
            "---4times\n",
            "1.394503116607666\n",
            "Result x: [0, 0, 0, 1, 1, 1, 1, 0]\n",
            "Picked 4 group(s): [1, 3, 5][10][7, 9][2, 4, 6, 8]\n",
            "Energy: -3.6000000000000005\n",
            "---5times\n",
            "1.3650968074798584\n",
            "Result x: [0, 0, 0, 1, 1, 1, 1, 0]\n",
            "Picked 4 group(s): [1, 3, 5][10][7, 9][2, 4, 6, 8]\n",
            "Energy: -3.6000000000000005\n"
          ],
          "name": "stdout"
        }
      ]
    },
    {
      "metadata": {
        "id": "1dUZCeUOFGMu",
        "colab_type": "text"
      },
      "cell_type": "markdown",
      "source": [
        "The correct answer is {1,3,5},{10},{7,9},{2,4,6,8}. Sometimes diffent answer selected."
      ]
    },
    {
      "metadata": {
        "id": "6pa6QtTAFGMv",
        "colab_type": "text"
      },
      "cell_type": "markdown",
      "source": [
        "This Set Packing problem has similarity to Maximal Independent Set (MIS) Problem. These 2 problems are the same."
      ]
    }
  ]
}