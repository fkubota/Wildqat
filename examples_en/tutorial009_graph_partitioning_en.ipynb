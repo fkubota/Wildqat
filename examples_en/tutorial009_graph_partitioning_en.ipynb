{
  "nbformat": 4,
  "nbformat_minor": 0,
  "metadata": {
    "colab": {
      "name": "tutorial009_graph_partitioning_en",
      "version": "0.3.2",
      "provenance": [],
      "collapsed_sections": []
    },
    "kernelspec": {
      "name": "python3",
      "display_name": "Python 3"
    }
  },
  "cells": [
    {
      "metadata": {
        "id": "i4mxcuR8ApWB",
        "colab_type": "text"
      },
      "cell_type": "markdown",
      "source": [
        "#Graph Partitioning\n",
        "As a graph theory, with even number of nodes V, just divide these nodes to 2groups contains V/2 nodes, minimize the number of edge is graph partitioning\n",
        "\n",
        "<img src=\"https://github.com/mdrft/Wildqat/blob/master/examples_ja/img/009_1.png?raw=1\">\n",
        "\n",
        "The first term is the constrain that grouping to 2group, each groups has just V/2 nodes.\n",
        "The second term is the cost function to minimize the number of connection between 2 groups"
      ]
    },
    {
      "metadata": {
        "id": "eCz7L2nFAsMZ",
        "colab_type": "text"
      },
      "cell_type": "markdown",
      "source": [
        "##Example\n",
        "As an example let's think about 1D ring with 8 nodes."
      ]
    },
    {
      "metadata": {
        "id": "It958OGRAwSD",
        "colab_type": "code",
        "colab": {
          "base_uri": "https://localhost:8080/",
          "height": 444
        },
        "outputId": "f5a7e6a2-48e8-4e1b-8736-967668111dab"
      },
      "cell_type": "code",
      "source": [
        "import networkx as nx\n",
        "import matplotlib.pyplot as plt\n",
        "\n",
        "options = {'node_color': '#efefef','node_size': 1200,'with_labels':'True'}\n",
        "\n",
        "G = nx.Graph()\n",
        "G.add_nodes_from([0,1,2,3,4,5,6,7])\n",
        "G.add_edges_from([(0,1),(1,2),(2,3),(3,4),(4,5),(5,6),(6,7),(7,0)])\n",
        "nx.draw(G, **options)"
      ],
      "execution_count": 2,
      "outputs": [
        {
          "output_type": "display_data",
          "data": {
            "image/png": "[encoded data removed]",
            "text/plain": [
              "<matplotlib.figure.Figure at 0x7fb70aa62a58>"
            ]
          },
          "metadata": {
            "tags": []
          }
        }
      ]
    },
    {
      "metadata": {
        "id": "XTyA6Sg0AwEV",
        "colab_type": "text"
      },
      "cell_type": "markdown",
      "source": [
        "First we prepare the program"
      ]
    },
    {
      "metadata": {
        "id": "fwBDb0OvA3AB",
        "colab_type": "code",
        "colab": {}
      },
      "cell_type": "code",
      "source": [
        "!pip install -U wildqat"
      ],
      "execution_count": 0,
      "outputs": []
    },
    {
      "metadata": {
        "id": "raEI2nFN8Q_Z",
        "colab_type": "code",
        "colab": {}
      },
      "cell_type": "code",
      "source": [
        "import wildqat as wq\n",
        "a = wq.opt()"
      ],
      "execution_count": 0,
      "outputs": []
    },
    {
      "metadata": {
        "id": "2doAOyjjA8bg",
        "colab_type": "text"
      },
      "cell_type": "markdown",
      "source": [
        "##The first term\n",
        "The first term is a constraint for groups.\n",
        "We just prepare diagonal matrix all diagonal element is 1 and multiple itself. Using wildqat's funciton it is easy to create."
      ]
    },
    {
      "metadata": {
        "id": "eqtiaD9E9psF",
        "colab_type": "code",
        "colab": {
          "base_uri": "https://localhost:8080/",
          "height": 153
        },
        "outputId": "2ec0952c-2527-49b6-ddd0-222abdd52d3b"
      },
      "cell_type": "code",
      "source": [
        "matrix1 = wq.sqr([1,1,1,1,1,1,1,1])\n",
        "print(matrix1)"
      ],
      "execution_count": 6,
      "outputs": [
        {
          "output_type": "stream",
          "text": [
            "[[1 2 2 2 2 2 2 2]\n",
            " [0 1 2 2 2 2 2 2]\n",
            " [0 0 1 2 2 2 2 2]\n",
            " [0 0 0 1 2 2 2 2]\n",
            " [0 0 0 0 1 2 2 2]\n",
            " [0 0 0 0 0 1 2 2]\n",
            " [0 0 0 0 0 0 1 2]\n",
            " [0 0 0 0 0 0 0 1]]\n"
          ],
          "name": "stdout"
        }
      ]
    },
    {
      "metadata": {
        "id": "GN3Y7BJTBCrC",
        "colab_type": "text"
      },
      "cell_type": "markdown",
      "source": [
        "##The second term\n",
        "For the second term we use wildqat's function to automatically create network matrix which has connection between nodes in the list."
      ]
    },
    {
      "metadata": {
        "id": "1fkoN567BA0I",
        "colab_type": "code",
        "colab": {
          "base_uri": "https://localhost:8080/",
          "height": 153
        },
        "outputId": "150d3aa4-3aa8-4aa4-d1b0-239d6e8a967f"
      },
      "cell_type": "code",
      "source": [
        "matrix2 = wq.net([[0,1],[1,2],[2,3],[3,4],[4,5],[5,6],[6,7],[7,0]],8)\n",
        "print(matrix2)"
      ],
      "execution_count": 7,
      "outputs": [
        {
          "output_type": "stream",
          "text": [
            "[[0. 1. 0. 0. 0. 0. 0. 1.]\n",
            " [0. 0. 1. 0. 0. 0. 0. 0.]\n",
            " [0. 0. 0. 1. 0. 0. 0. 0.]\n",
            " [0. 0. 0. 0. 1. 0. 0. 0.]\n",
            " [0. 0. 0. 0. 0. 1. 0. 0.]\n",
            " [0. 0. 0. 0. 0. 0. 1. 0.]\n",
            " [0. 0. 0. 0. 0. 0. 0. 1.]\n",
            " [0. 0. 0. 0. 0. 0. 0. 0.]]\n"
          ],
          "name": "stdout"
        }
      ]
    },
    {
      "metadata": {
        "id": "s-0raW0tBXfl",
        "colab_type": "code",
        "colab": {
          "base_uri": "https://localhost:8080/",
          "height": 51
        },
        "outputId": "f1598b2e-3196-4caf-a0c7-8435e25a3300"
      },
      "cell_type": "code",
      "source": [
        "B = 0.5\n",
        "a.J = matrix1 - B * matrix2\n",
        "a.sa()"
      ],
      "execution_count": 19,
      "outputs": [
        {
          "output_type": "stream",
          "text": [
            "1.6067297458648682\n"
          ],
          "name": "stdout"
        },
        {
          "output_type": "execute_result",
          "data": {
            "text/plain": [
              "[1, 0, 0, 0, 0, 1, 1, 1]"
            ]
          },
          "metadata": {
            "tags": []
          },
          "execution_count": 19
        }
      ]
    },
    {
      "metadata": {
        "id": "w5nqSlDZBhux",
        "colab_type": "code",
        "colab": {
          "base_uri": "https://localhost:8080/",
          "height": 51
        },
        "outputId": "aa188896-d371-4a69-deaa-b632744bfe50"
      },
      "cell_type": "code",
      "source": [
        "a.sa()"
      ],
      "execution_count": 20,
      "outputs": [
        {
          "output_type": "stream",
          "text": [
            "1.6462619304656982\n"
          ],
          "name": "stdout"
        },
        {
          "output_type": "execute_result",
          "data": {
            "text/plain": [
              "[1, 1, 0, 0, 0, 0, 1, 1]"
            ]
          },
          "metadata": {
            "tags": []
          },
          "execution_count": 20
        }
      ]
    },
    {
      "metadata": {
        "id": "9joyehuXNW2N",
        "colab_type": "text"
      },
      "cell_type": "markdown",
      "source": [
        "Now we get some solution with correctly has 2 groups and has least connection between groups"
      ]
    },
    {
      "metadata": {
        "id": "aDO1KyZTB7Cw",
        "colab_type": "code",
        "colab": {
          "base_uri": "https://localhost:8080/",
          "height": 153
        },
        "outputId": "b2a22c3f-da23-4021-c3a5-dcd4473fcbfc"
      },
      "cell_type": "code",
      "source": [
        "print(a.J)"
      ],
      "execution_count": 0,
      "outputs": [
        {
          "output_type": "stream",
          "text": [
            "[[1.  2.5 2.  2.  2.  2.  2.  2.5]\n",
            " [0.  1.  2.5 2.  2.  2.  2.  2. ]\n",
            " [0.  0.  1.  2.5 2.  2.  2.  2. ]\n",
            " [0.  0.  0.  1.  2.5 2.  2.  2. ]\n",
            " [0.  0.  0.  0.  1.  2.5 2.  2. ]\n",
            " [0.  0.  0.  0.  0.  1.  2.5 2. ]\n",
            " [0.  0.  0.  0.  0.  0.  1.  2.5]\n",
            " [0.  0.  0.  0.  0.  0.  0.  1. ]]\n"
          ],
          "name": "stdout"
        }
      ]
    }
  ]
}