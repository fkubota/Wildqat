{
  "nbformat": 4,
  "nbformat_minor": 0,
  "metadata": {
    "colab": {
      "name": "tutorial007_exact_cover_en.ipynb",
      "version": "0.3.2",
      "provenance": []
    },
    "kernelspec": {
      "display_name": "Python 3",
      "language": "python",
      "name": "python3"
    }
  },
  "cells": [
    {
      "metadata": {
        "id": "sF9383v_NM52",
        "colab_type": "text"
      },
      "cell_type": "markdown",
      "source": [
        "# Exact Cover Problem\n",
        "\n",
        "In mathematics, given a collection S of subsets of a set X, an exact cover is a subcollection S* of S such that each element in X is contained in exactly one subset in S*. One says that each element in X is covered by exactly one subset in S*. An exact cover is a kind of cover."
      ]
    },
    {
      "metadata": {
        "id": "R4-Mxt44NM55",
        "colab_type": "text"
      },
      "cell_type": "markdown",
      "source": [
        "## Installation"
      ]
    },
    {
      "metadata": {
        "id": "RKqVExmfNM56",
        "colab_type": "text"
      },
      "cell_type": "markdown",
      "source": [
        "Please first install wildqat\n",
        "\n",
        "```bash\n",
        "pip install wildqat\n",
        "```"
      ]
    },
    {
      "metadata": {
        "id": "aec0jcggNM57",
        "colab_type": "text"
      },
      "cell_type": "markdown",
      "source": [
        "And prepare for libraries\n"
      ]
    },
    {
      "metadata": {
        "id": "7crPY3J7NM59",
        "colab_type": "code",
        "colab": {}
      },
      "cell_type": "code",
      "source": [
        "import numpy as np\n",
        "import matplotlib.pyplot as plt\n",
        "import wildqat as wq"
      ],
      "execution_count": 0,
      "outputs": []
    },
    {
      "metadata": {
        "id": "-0MS1mDzNM6C",
        "colab_type": "text"
      },
      "cell_type": "markdown",
      "source": [
        "## QUBOmatrix"
      ]
    },
    {
      "metadata": {
        "id": "qfs9Y5iRNM6D",
        "colab_type": "text"
      },
      "cell_type": "markdown",
      "source": [
        "Now we have 2 cost function and constraint term.\n",
        "\n",
        "$E_{A} = A \\sum _ { \\alpha = 1 } ^ { n } \\left( 1 - \\sum _ { i : \\alpha \\in V _ { i } } x _ { i } \\right) ^ { 2 }$\n",
        "\n",
        "$E_{A} = A \\sum _ { \\alpha = 1 } ^ { n } \\{ 1 - 2\\sum _ { i : \\alpha \\in V _ { i } } x _ { i } + ( \\sum _ { i : \\alpha \\in V _ { i } } x _ { i } ) ^ { 2 } \\} $\n",
        "\n",
        "Ignoring the constant term and using binary rule $x_{i} \\in {1,0}$ we have\n",
        "\n",
        "$ - 2\\sum _ { i : \\alpha \\in V _ { i } } x _ { i } = - 2\\sum _ { i = j, i : \\alpha \\in V _ { i }, j : \\alpha \\in V _ { j } } x _ { i } x _ {j}$\n",
        "\n",
        "$ ( \\sum _ { i : \\alpha \\in V _ { i } } x _ { i } ) ^ { 2 } = \\sum _ { i = j, i : \\alpha \\in V _ { i }, j : \\alpha \\in V _ { j } } x _ { i } x _ {j} + 2 \\sum _ { i \\neq j, i : \\alpha \\in V _ { i }, j : \\alpha \\in V _ { j } } x _ { i } x _ {j} $\n",
        "\n",
        "Finally we get\n",
        "\n",
        "$E_{A} = A \\sum _ { \\alpha = 1 } ^ { n } ( - \\sum _ { i = j, i : \\alpha \\in V _ { i }, j : \\alpha \\in V _ { j } } x _ { i } x _ {j} + 2 \\sum _ { i \\neq j, i : \\alpha \\in V _ { i }, j : \\alpha \\in V _ { j } } x _ { i } x _ {j} )$"
      ]
    },
    {
      "metadata": {
        "id": "9N7uSnHyNM6D",
        "colab_type": "code",
        "colab": {}
      },
      "cell_type": "code",
      "source": [
        "U = [1,2,3,4,5,6,7,8,9,10]\n",
        "A = 1\n",
        "\n",
        "def get_qubo(V):\n",
        "    Q = np.zeros( (len(V), len(V)) )\n",
        "\n",
        "    for i in range(len(V)):\n",
        "        for j in range(len(V)):\n",
        "            for k in range(len(U)):\n",
        "                alpha = U[k]\n",
        "                in_Vi = V[i].count(alpha) > 0 #Exist in V[i]\n",
        "                in_Vj = V[j].count(alpha) > 0 #Exist in V[j]\n",
        "                if i == j and in_Vi:\n",
        "                    Q[i][j] += -1\n",
        "                elif i < j and in_Vi and in_Vj:\n",
        "                    Q[i][j] += 2\n",
        "\n",
        "    return Q * A"
      ],
      "execution_count": 0,
      "outputs": []
    },
    {
      "metadata": {
        "id": "hfMC2AdINM6G",
        "colab_type": "text"
      },
      "cell_type": "markdown",
      "source": [
        "Let's define the function to show result"
      ]
    },
    {
      "metadata": {
        "id": "1VA3Dgq4NM6H",
        "colab_type": "code",
        "colab": {}
      },
      "cell_type": "code",
      "source": [
        "def display_answer(list_x, energies = None, show_graph = False):\n",
        "    print(\"Result x:\", list_x)\n",
        "    text = \"\"\n",
        "    for i in range(len(list_x)):\n",
        "        if(list_x[i]):\n",
        "            text += str(V[i])\n",
        "    print(\"Picked {} group(s): {}\".format(sum(list_x), text))\n",
        "    if energies is not None:\n",
        "        print(\"Energy:\", a.E[-1])\n",
        "    if show_graph:\n",
        "        plt.plot(a.E)\n",
        "        plt.show()"
      ],
      "execution_count": 0,
      "outputs": []
    },
    {
      "metadata": {
        "id": "P7MIWS1tNM6L",
        "colab_type": "text"
      },
      "cell_type": "markdown",
      "source": [
        "Let's try it."
      ]
    },
    {
      "metadata": {
        "id": "QAB-gkzQNM6M",
        "colab_type": "code",
        "colab": {
          "base_uri": "https://localhost:8080/",
          "height": 68
        },
        "outputId": "a5062e2e-5e41-4942-fab0-e6430e782cb1"
      },
      "cell_type": "code",
      "source": [
        "V = [ [1,2], [3,4,5,6], [7,8,9,10], [1,3,5], [10] ]\n",
        "a = wq.opt()\n",
        "a.qubo = get_qubo(V)\n",
        "answer = a.sa()\n",
        "display_answer(answer)"
      ],
      "execution_count": 6,
      "outputs": [
        {
          "output_type": "stream",
          "text": [
            "1.4076354503631592\n",
            "Result x: [1, 1, 1, 0, 0]\n",
            "Picked 3 group(s): [1, 2][3, 4, 5, 6][7, 8, 9, 10]\n"
          ],
          "name": "stdout"
        }
      ]
    },
    {
      "metadata": {
        "id": "QU5rX9-4NM6T",
        "colab_type": "text"
      },
      "cell_type": "markdown",
      "source": [
        "## Try on more complicated V"
      ]
    },
    {
      "metadata": {
        "id": "_3RhHQyVNM6U",
        "colab_type": "text"
      },
      "cell_type": "markdown",
      "source": [
        "Let's add 2 more V and try,"
      ]
    },
    {
      "metadata": {
        "id": "4UtFqIeuNM6U",
        "colab_type": "code",
        "colab": {
          "base_uri": "https://localhost:8080/",
          "height": 68
        },
        "outputId": "cd695dbf-828d-4c8f-e18b-17ca6382bbb6"
      },
      "cell_type": "code",
      "source": [
        "V = [ [1,2], [3,4,5,6], [7,8,9,10], [1,3,5], [10], [7,9], [2,4,6,8] ]\n",
        "a = wq.opt()\n",
        "a.qubo = get_qubo(V)\n",
        "answer = a.sa()\n",
        "display_answer(answer)"
      ],
      "execution_count": 8,
      "outputs": [
        {
          "output_type": "stream",
          "text": [
            "1.4350087642669678\n",
            "Result x: [1, 1, 1, 0, 0, 0, 0]\n",
            "Picked 3 group(s): [1, 2][3, 4, 5, 6][7, 8, 9, 10]\n"
          ],
          "name": "stdout"
        }
      ]
    },
    {
      "metadata": {
        "id": "59Gxoq9bNM6Z",
        "colab_type": "text"
      },
      "cell_type": "markdown",
      "source": [
        "Collectly we can get the result."
      ]
    },
    {
      "metadata": {
        "id": "sPfh1vc0NM6a",
        "colab_type": "text"
      },
      "cell_type": "markdown",
      "source": [
        "## Smallest Exact Cover"
      ]
    },
    {
      "metadata": {
        "id": "ITm1xvONNM6b",
        "colab_type": "text"
      },
      "cell_type": "markdown",
      "source": [
        "Next we also try on Smallest Exact Cover. We need one more cost function $E_{B}$.\n",
        "\n",
        "$ E _ { B } = B \\sum _ { i } x _ { i } $\n",
        "\n",
        "Using the binary rule $x_{i} \\in {1,0}$\n",
        "\n",
        "$ E _ { B } = B \\sum _ { i, j : i = j } x _ { i } x _ {j} $\n",
        "\n",
        "And we get $E = E_{A} + E_{B}$"
      ]
    },
    {
      "metadata": {
        "id": "DaN1Dd65NM6c",
        "colab_type": "code",
        "colab": {}
      },
      "cell_type": "code",
      "source": [
        "B = A / len(U) * 0.99\n",
        "def get_qubo_min(Q):\n",
        "    for i in range(len(V)):\n",
        "        Q[i][i] += B\n",
        "    return Q"
      ],
      "execution_count": 0,
      "outputs": []
    },
    {
      "metadata": {
        "id": "Ky2Eq4hlNM6h",
        "colab_type": "text"
      },
      "cell_type": "markdown",
      "source": [
        "### Trial"
      ]
    },
    {
      "metadata": {
        "id": "HxoVks6yNM6i",
        "colab_type": "text"
      },
      "cell_type": "markdown",
      "source": [
        "Let's first try only $ E _ {A} $, 5times.\n",
        "\n",
        "Looking at the result we have 3 or 4 groups and answer are not usually select the minimum number of groups."
      ]
    },
    {
      "metadata": {
        "id": "8Nxjkp15NM6i",
        "colab_type": "code",
        "colab": {
          "base_uri": "https://localhost:8080/",
          "height": 442
        },
        "outputId": "1dc49094-6fd8-493f-8736-81fd82ef5c94"
      },
      "cell_type": "code",
      "source": [
        "V = [ [1,2,3,4], [5,6,7,8], [9,10], [1,2], [3,4], [5,6], [7,8,9,10]]\n",
        "\n",
        "for i in range(5):\n",
        "    print(\"---{}times\".format(i+1))\n",
        "    a = wq.opt()\n",
        "    a.qubo = get_qubo(V)\n",
        "    answer = a.sa()\n",
        "    display_answer(answer, a.E)"
      ],
      "execution_count": 10,
      "outputs": [
        {
          "output_type": "stream",
          "text": [
            "---1times\n",
            "1.4670355319976807\n",
            "Result x: [0, 1, 1, 1, 1, 0, 0]\n",
            "Picked 4 group(s): [5, 6, 7, 8][9, 10][1, 2][3, 4]\n",
            "Energy: -10.0\n",
            "---2times\n",
            "1.4914586544036865\n",
            "Result x: [1, 1, 1, 0, 0, 0, 0]\n",
            "Picked 3 group(s): [1, 2, 3, 4][5, 6, 7, 8][9, 10]\n",
            "Energy: -10.0\n",
            "---3times\n",
            "1.454087495803833\n",
            "Result x: [0, 0, 0, 1, 1, 1, 1]\n",
            "Picked 4 group(s): [1, 2][3, 4][5, 6][7, 8, 9, 10]\n",
            "Energy: -10.0\n",
            "---4times\n",
            "1.4568595886230469\n",
            "Result x: [1, 0, 0, 0, 0, 1, 1]\n",
            "Picked 3 group(s): [1, 2, 3, 4][5, 6][7, 8, 9, 10]\n",
            "Energy: -10.0\n",
            "---5times\n",
            "1.4357664585113525\n",
            "Result x: [0, 0, 0, 1, 1, 1, 1]\n",
            "Picked 4 group(s): [1, 2][3, 4][5, 6][7, 8, 9, 10]\n",
            "Energy: -10.0\n"
          ],
          "name": "stdout"
        }
      ]
    },
    {
      "metadata": {
        "id": "8Aa3vU-INM6m",
        "colab_type": "text"
      },
      "cell_type": "markdown",
      "source": [
        "### Try on new cost function.\n",
        "Let's try $ E _ {A} + E_{B}$\n",
        "\n",
        "Usually select the correct answer and sometimes failure."
      ]
    },
    {
      "metadata": {
        "id": "VDMmG3oINM6n",
        "colab_type": "code",
        "colab": {
          "base_uri": "https://localhost:8080/",
          "height": 442
        },
        "outputId": "f43faeff-c19b-4408-fc25-7ec98ca393b8"
      },
      "cell_type": "code",
      "source": [
        "for i in range(5):\n",
        "    print(\"---{}times\".format(i+1))\n",
        "    a = wq.opt()\n",
        "    a.qubo = get_qubo_min(get_qubo(V))\n",
        "    answer = a.sa()\n",
        "    display_answer(answer, a.E)"
      ],
      "execution_count": 12,
      "outputs": [
        {
          "output_type": "stream",
          "text": [
            "---1times\n",
            "1.4373810291290283\n",
            "Result x: [1, 0, 0, 0, 0, 1, 1]\n",
            "Picked 3 group(s): [1, 2, 3, 4][5, 6][7, 8, 9, 10]\n",
            "Energy: -9.703\n",
            "---2times\n",
            "1.467071533203125\n",
            "Result x: [1, 1, 1, 0, 0, 0, 0]\n",
            "Picked 3 group(s): [1, 2, 3, 4][5, 6, 7, 8][9, 10]\n",
            "Energy: -9.703\n",
            "---3times\n",
            "1.4758150577545166\n",
            "Result x: [1, 1, 1, 0, 0, 0, 0]\n",
            "Picked 3 group(s): [1, 2, 3, 4][5, 6, 7, 8][9, 10]\n",
            "Energy: -9.703\n",
            "---4times\n",
            "1.4710874557495117\n",
            "Result x: [0, 0, 0, 1, 1, 1, 1]\n",
            "Picked 4 group(s): [1, 2][3, 4][5, 6][7, 8, 9, 10]\n",
            "Energy: -9.604\n",
            "---5times\n",
            "1.4783902168273926\n",
            "Result x: [1, 1, 1, 0, 0, 0, 0]\n",
            "Picked 3 group(s): [1, 2, 3, 4][5, 6, 7, 8][9, 10]\n",
            "Energy: -9.703\n"
          ],
          "name": "stdout"
        }
      ]
    },
    {
      "metadata": {
        "id": "R3Gxi5o0NM6v",
        "colab_type": "text"
      },
      "cell_type": "markdown",
      "source": [
        "### More difficult\n",
        "Finally we try more difficult problem\n",
        "The answer is to select {1,2}{3}{4}{5}{6}{7}{8}{9}{10}\n",
        "\n",
        "Normally it shows the correct answer but sometimes we get the different answer."
      ]
    },
    {
      "metadata": {
        "id": "Ht4bJkx3NM6x",
        "colab_type": "code",
        "colab": {
          "base_uri": "https://localhost:8080/",
          "height": 442
        },
        "outputId": "cb7dad2d-8adb-431a-d8de-da4bbfa9d9be"
      },
      "cell_type": "code",
      "source": [
        "V = [ [1,2], [3], [4], [5], [6], [7], [8], [9], [10], [2,3,4,5,6,7,8,9,10]]\n",
        "for i in range(5):\n",
        "    print(\"---{}times\".format(i+1))\n",
        "    a = wq.opt()\n",
        "    a.qubo = get_qubo_min(get_qubo(V))\n",
        "    answer = a.sa()\n",
        "    display_answer(answer, a.E)"
      ],
      "execution_count": 14,
      "outputs": [
        {
          "output_type": "stream",
          "text": [
            "---1times\n",
            "1.4879131317138672\n",
            "Result x: [1, 1, 1, 1, 1, 1, 1, 1, 1, 0]\n",
            "Picked 9 group(s): [1, 2][3][4][5][6][7][8][9][10]\n",
            "Energy: -9.108999999999998\n",
            "---2times\n",
            "1.4720873832702637\n",
            "Result x: [0, 0, 0, 0, 0, 0, 0, 0, 0, 1]\n",
            "Picked 1 group(s): [2, 3, 4, 5, 6, 7, 8, 9, 10]\n",
            "Energy: -8.901\n",
            "---3times\n",
            "1.4679582118988037\n",
            "Result x: [0, 0, 0, 0, 0, 0, 0, 0, 0, 1]\n",
            "Picked 1 group(s): [2, 3, 4, 5, 6, 7, 8, 9, 10]\n",
            "Energy: -8.901\n",
            "---4times\n",
            "1.4643397331237793\n",
            "Result x: [1, 1, 1, 1, 1, 1, 1, 1, 1, 0]\n",
            "Picked 9 group(s): [1, 2][3][4][5][6][7][8][9][10]\n",
            "Energy: -9.108999999999998\n",
            "---5times\n",
            "1.4716706275939941\n",
            "Result x: [1, 1, 1, 1, 1, 1, 1, 1, 1, 0]\n",
            "Picked 9 group(s): [1, 2][3][4][5][6][7][8][9][10]\n",
            "Energy: -9.108999999999998\n"
          ],
          "name": "stdout"
        }
      ]
    }
  ]
}